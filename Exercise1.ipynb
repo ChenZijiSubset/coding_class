{
  "nbformat": 4,
  "nbformat_minor": 0,
  "metadata": {
    "colab": {
      "provenance": [],
      "authorship_tag": "ABX9TyPsuUe+lGFfkmh61yEn9yIz",
      "include_colab_link": true
    },
    "kernelspec": {
      "name": "python3",
      "display_name": "Python 3"
    },
    "language_info": {
      "name": "python"
    }
  },
  "cells": [
    {
      "cell_type": "markdown",
      "metadata": {
        "id": "view-in-github",
        "colab_type": "text"
      },
      "source": [
        "<a href=\"https://colab.research.google.com/github/ChenZijiSubset/coding_class/blob/main/Exercise1.ipynb\" target=\"_parent\"><img src=\"https://colab.research.google.com/assets/colab-badge.svg\" alt=\"Open In Colab\"/></a>"
      ]
    },
    {
      "cell_type": "markdown",
      "source": [
        "## Exercise 1.1: Convert from metres to British length units\n",
        "\n",
        "Here in the UK, we are famous for our love of performing mental arithmetic. That is why we still use both imperial and metric measurement systems - hours of fun entertainment for the family switching back and forth between the two.\n",
        "\n",
        "Make a program where you set a length given in metres and then compute and write out the corresponding length measured in:\n",
        "* inches (one inch is 2.54 cm)\n",
        "* feet (one foot is 12 inches)\n",
        "* yards (one yard is 3 feet)\n",
        "* miles (one British mile is 1760 yards)"
      ],
      "metadata": {
        "id": "27Wy6fFBMkQE"
      }
    },
    {
      "cell_type": "code",
      "source": [
        "metres = 640\n",
        "\n",
        "# 1 inch = 2.54 cm. Remember to convert 2.54 cm to 0.0254 m here.\n",
        "inches = metres/0.0254\n",
        "\n",
        "# Uncomment and complete the following code. Do not change variable names for testing.\n",
        "# feet =\n",
        "\n",
        "# yards =\n",
        "\n",
        "# miles ="
      ],
      "metadata": {
        "id": "0GPtguvbMwn-"
      },
      "execution_count": 20,
      "outputs": []
    },
    {
      "cell_type": "markdown",
      "source": [
        "## Exercise 1.2: Compute the growth of money in a bank\n",
        "\n",
        "Let $p$ be a bank's annual interest rate in per cent. After $n$ years, an initial amount $A_0$ has then grown to\n",
        "\n",
        "$$A_n = A_0\\left(1+\\frac{p}{100}\\right)^n.$$\n",
        "\n",
        "Write a program for computing how much money 1000 euros have grown to after three years with a 5% annual interest rate."
      ],
      "metadata": {
        "id": "QBZXk8yIMwSo"
      }
    },
    {
      "cell_type": "code",
      "source": [
        "# Complete the code below\n"
      ],
      "metadata": {
        "id": "W-PpkS7ZNDN4"
      },
      "execution_count": 21,
      "outputs": []
    },
    {
      "cell_type": "markdown",
      "source": [
        "## Exercise 1.3: Values of boolean expressions\n",
        "Add a comment to the code below to explain the outcome of each of the boolean expressions:"
      ],
      "metadata": {
        "id": "_HluiV-tNDdA"
      }
    },
    {
      "cell_type": "code",
      "source": [
        "C = 41\n",
        "\n",
        "print(\"Case 1: \", C == 40)\n",
        "print(\"Case 2: \", C != 40 and C < 41)\n",
        "print(\"Case 3: \", C != 40 or C < 41)\n",
        "print(\"Case 4: \", not C == 40)\n",
        "print(\"Case 5: \", not C > 40)\n",
        "print(\"Case 6: \", C <= 41)\n",
        "print(\"Case 7: \", not False)\n",
        "print(\"Case 8: \", True and False)\n",
        "print(\"Case 9: \", False or True)\n",
        "print(\"Case 10: \", False or False or False)\n",
        "print(\"Case 11: \", True and True and False)\n",
        "print(\"Case 12: \", (True and True) or 1 == 2)"
      ],
      "metadata": {
        "colab": {
          "base_uri": "https://localhost:8080/"
        },
        "id": "Oe9tPNLXNqc2",
        "outputId": "73595434-3ec2-46bf-ec27-c58945358418"
      },
      "execution_count": 22,
      "outputs": [
        {
          "output_type": "stream",
          "name": "stdout",
          "text": [
            "Case 1:  False\n",
            "Case 2:  False\n",
            "Case 3:  True\n",
            "Case 4:  True\n",
            "Case 5:  False\n",
            "Case 6:  True\n",
            "Case 7:  True\n",
            "Case 8:  False\n",
            "Case 9:  True\n",
            "Case 10:  False\n",
            "Case 11:  False\n",
            "Case 12:  True\n"
          ]
        }
      ]
    },
    {
      "cell_type": "markdown",
      "source": [
        "## Exercise 1.5: Compute the number of digits in a positive integer $a$\n",
        "\n",
        "Write a Python function `num_digits(a)` that uses a `while` loop to compute how many decimal digits we need to write a positive integer $a$. For instance, we need 2 digits to write 73, whereas we need 5 digits to write 12345."
      ],
      "metadata": {
        "id": "ErrYZBAqOAfh"
      }
    },
    {
      "cell_type": "code",
      "source": [
        "# Uncomment and complete the code below.\n",
        "\n",
        "# def num_digits(a):\n",
        "#     ..."
      ],
      "metadata": {
        "id": "kkK7AcK-OB3B"
      },
      "execution_count": 23,
      "outputs": []
    },
    {
      "cell_type": "code",
      "source": [
        "# num_digits(73)"
      ],
      "metadata": {
        "id": "WGWbY52UUGFr"
      },
      "execution_count": 24,
      "outputs": []
    },
    {
      "cell_type": "code",
      "source": [
        "# num_digits(12345)"
      ],
      "metadata": {
        "id": "wrCH6dRtUHa1"
      },
      "execution_count": 25,
      "outputs": []
    },
    {
      "cell_type": "markdown",
      "source": [
        "## Exercise 1.6: Store odd numbers in a list\n",
        "\n",
        "Write a Python function `odd_numbers(n)` that uses a `while`-loop, and generates and returns a list of all odd numbers from $1$ to $n$. (Make sure that if $n$ is an even number, the largest generated odd number is $n-1$.)"
      ],
      "metadata": {
        "id": "TpSnEhtnOXNb"
      }
    },
    {
      "cell_type": "code",
      "source": [
        "# Uncomment and complete code. Do not change the variable names.\n",
        "\n",
        "# def odd_numbers(n):\n",
        "#     ..."
      ],
      "metadata": {
        "id": "iKtmlgXUOZD7"
      },
      "execution_count": 26,
      "outputs": []
    },
    {
      "cell_type": "code",
      "source": [
        "# odd_numbers(10)"
      ],
      "metadata": {
        "id": "IdvXbWyJUOK4"
      },
      "execution_count": 27,
      "outputs": []
    },
    {
      "cell_type": "markdown",
      "source": [
        "## Exercise 1.7: Create a list of even numbers ranging from 0 to $n$ using a `for` loop.\n",
        "\n",
        "Write a function `even_numbers(n)` using a `for` loop, which generates and returns a list of all even numbers from 0 to $n$. For instance, `even_numbers(10)` should return list `[0, 2, 4, 6, 8]`. In this exercise, do not use list comprehensions."
      ],
      "metadata": {
        "id": "Z85SJuyLOpDo"
      }
    },
    {
      "cell_type": "code",
      "source": [
        "# Uncomment and complete code. Do not change the variable names.\n",
        "\n",
        "# def even_numbers(n):\n",
        "#     ..."
      ],
      "metadata": {
        "id": "95PFZjfmOo0y"
      },
      "execution_count": 28,
      "outputs": []
    },
    {
      "cell_type": "code",
      "source": [
        "# even_numbers(10)"
      ],
      "metadata": {
        "id": "Scpka0lXUYoJ"
      },
      "execution_count": 29,
      "outputs": []
    },
    {
      "cell_type": "markdown",
      "source": [
        "## Exercise 1.8: Implement the sum function\n",
        "\n",
        "The built-in Python function [sum](https://docs.python.org/3/library/functions.html#sum) takes a list as an argument and computes the sum of the elements in the list:\n",
        "```python\n",
        ">> sum([1, 3, 5, -5])\n",
        "4\n",
        "```\n",
        "Implement your own version of the sum function and name it `my_sum`."
      ],
      "metadata": {
        "id": "_VvoDnkCOzut"
      }
    },
    {
      "cell_type": "code",
      "source": [
        "# Uncomment and complete this code - keep the names the same for testing purposes.\n",
        "\n",
        "# def my_sum(x):\n",
        "#     ..."
      ],
      "metadata": {
        "id": "EXfEbyXjO0D1"
      },
      "execution_count": 30,
      "outputs": []
    },
    {
      "cell_type": "code",
      "source": [
        "# my_sum([1, 2, 3, 4])"
      ],
      "metadata": {
        "id": "qBEMS4c4Ue8T"
      },
      "execution_count": 31,
      "outputs": []
    },
    {
      "cell_type": "markdown",
      "source": [
        "## Final task: Calculate $\\pi$\n",
        "\n",
        "A formula for $\\pi$ is given by the *Gregory-Leibniz series*:\n",
        "\n",
        "$$\\pi = 4 \\left(\\frac{1}{1} - \\frac{1}{3} + \\frac{1}{5} - \\frac{1}{7} + \\frac{1}{9} + ...  \\right)$$\n",
        "\n",
        "Note that the denominators of the terms in this series are the positive odd numbers. Write a Python function `calculate_pi(n)` following the guidelines below; each of the first three steps can be completed using a single list comprehension.\n",
        "\n",
        "**Step 1**:\n",
        "\n",
        "Produce a list of the first `n` odd numbers, for `n=100`.\n",
        "\n",
        "**Step 2**:\n",
        "\n",
        "Make a list of the signs of each term, i.e. `[1, -1, 1, -1, ...]`. Hint: think about the value of $(-1)^i$ for integer $i$.\n",
        "\n",
        "**Step 3**:\n",
        "\n",
        "Using the results of steps 1 and 2, make a list of the first `n` terms in the above series.\n",
        "\n",
        "**Step 4**:\n",
        "\n",
        "Use your `my_sum` function to sum this series, multiply by 4, and return the result."
      ],
      "metadata": {
        "id": "1mFVA5p6PIIa"
      }
    }
  ]
}