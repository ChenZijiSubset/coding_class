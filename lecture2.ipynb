{
  "cells": [
    {
      "cell_type": "markdown",
      "metadata": {
        "id": "view-in-github",
        "colab_type": "text"
      },
      "source": [
        "<a href=\"https://colab.research.google.com/github/ChenZijiSubset/coding_class/blob/main/lecture2.ipynb\" target=\"_parent\"><img src=\"https://colab.research.google.com/assets/colab-badge.svg\" alt=\"Open In Colab\"/></a>"
      ]
    },
    {
      "cell_type": "markdown",
      "metadata": {
        "nbpresent": {
          "id": "82db8e87-ce21-4456-a53a-3f54a2fee020"
        },
        "id": "aOiL_QUQcqgO"
      },
      "source": [
        "# Introduction to Python\n",
        "\n",
        "# Lecture 2"
      ]
    },
    {
      "cell_type": "markdown",
      "metadata": {
        "nbpresent": {
          "id": "c9ae4148-a67c-4845-91ec-d17016071d1f"
        },
        "id": "DqHg8wu_cqgO"
      },
      "source": [
        "## Learning objectives:\n",
        "\n",
        "At the end of this lecture, you will be able to:\n",
        "\n",
        "* Modify elements in a `list`.\n",
        "* Iterate through different combinations of lists.\n",
        "* Use a `tuple` to store data elements and understand how it differs from a `list`.\n",
        "* Explain the difference between locally-scoped and globally-scoped variables.\n",
        "* Use an `if`-statement to execute some code blocks conditionally.\n",
        "* Perform computations using [Numerical Python (*NumPy*)](http://www.numpy.org/).\n",
        "* Handle multidimensional arrays."
      ]
    },
    {
      "cell_type": "markdown",
      "metadata": {
        "nbpresent": {
          "id": "f2af93fa-2e4b-46f7-b762-cf6df11749f8"
        },
        "id": "9vuHUfubcqgO"
      },
      "source": [
        "# Changing elements in a list\n",
        "Let's say we want to add 2 to all the numbers in a list `v`. To do that, we have to use an index to access and modify its elements:"
      ]
    },
    {
      "cell_type": "code",
      "execution_count": 24,
      "metadata": {
        "execution": {
          "iopub.execute_input": "2022-07-29T12:28:23.206640Z",
          "iopub.status.busy": "2022-07-29T12:28:23.206093Z",
          "iopub.status.idle": "2022-07-29T12:28:23.211802Z",
          "shell.execute_reply": "2022-07-29T12:28:23.211164Z"
        },
        "nbpresent": {
          "id": "06618fed-61ff-443d-b1f2-0777a4719338"
        },
        "colab": {
          "base_uri": "https://localhost:8080/"
        },
        "id": "aeaKtlG_cqgO",
        "outputId": "8a9e1a2c-eafb-4995-a735-f223026cfea3"
      },
      "outputs": [
        {
          "output_type": "stream",
          "name": "stdout",
          "text": [
            "List before modification: v=[-1, 1, 10]\n",
            "List after modification: v=[-1, 4, 10]\n"
          ]
        }
      ],
      "source": [
        "v = [-1, 1, 10]\n",
        "print(f\"List before modification: {v=}\")\n",
        "\n",
        "v[1] = 4  # assign 4 to the 2nd element (index 1) in v\n",
        "print(f\"List after modification: {v=}\")"
      ]
    },
    {
      "cell_type": "markdown",
      "metadata": {
        "nbpresent": {
          "id": "7ede01a3-9bb3-4a8a-9aa0-a31f76e8b424"
        },
        "id": "IwbYMTVEcqgO"
      },
      "source": [
        "Please note how we used `{v=}` in f-string to add `v=` in front of the list.\n",
        "\n",
        "Now, to add 2 to all values we need a `for` loop over indices:"
      ]
    },
    {
      "cell_type": "code",
      "execution_count": 25,
      "metadata": {
        "execution": {
          "iopub.execute_input": "2022-07-29T12:28:23.219654Z",
          "iopub.status.busy": "2022-07-29T12:28:23.218991Z",
          "iopub.status.idle": "2022-07-29T12:28:23.225659Z",
          "shell.execute_reply": "2022-07-29T12:28:23.224406Z"
        },
        "nbpresent": {
          "id": "0358d409-1512-43e9-a94b-147ca8d61701"
        },
        "colab": {
          "base_uri": "https://localhost:8080/"
        },
        "id": "W2u1a7FCcqgP",
        "outputId": "204225e6-cbba-458a-f86b-f5abc1702636"
      },
      "outputs": [
        {
          "output_type": "stream",
          "name": "stdout",
          "text": [
            "[1, 3, 12]\n"
          ]
        }
      ],
      "source": [
        "v = [-1, 1, 10]\n",
        "for i in range(len(v)):\n",
        "    v[i] = v[i] + 2\n",
        "print(v)"
      ]
    },
    {
      "cell_type": "markdown",
      "metadata": {
        "id": "EuqfaToUcqgP"
      },
      "source": [
        "Note that this time we iterate over the indices of the list elements\n",
        "\n",
        "```python\n",
        "for i in range(len(v)):\n",
        "    ...\n",
        "```\n",
        "\n",
        "instead of iterating over the values of elements in the list\n",
        "\n",
        "```python\n",
        "for e in v:\n",
        "    ...\n",
        "```"
      ]
    },
    {
      "cell_type": "markdown",
      "metadata": {
        "id": "z4V8cwjdcqgP"
      },
      "source": [
        "## `enumerate` built-in\n",
        "\n",
        "As we have seen previouly, we often need to use both the value of an element in a sequence and its index. Python provides a convenience built-in function `enumerate` to make this syntax clearer:"
      ]
    },
    {
      "cell_type": "code",
      "execution_count": 26,
      "metadata": {
        "execution": {
          "iopub.execute_input": "2022-07-29T12:28:23.230054Z",
          "iopub.status.busy": "2022-07-29T12:28:23.229692Z",
          "iopub.status.idle": "2022-07-29T12:28:23.234110Z",
          "shell.execute_reply": "2022-07-29T12:28:23.233616Z"
        },
        "colab": {
          "base_uri": "https://localhost:8080/"
        },
        "id": "H1J0gTd0cqgP",
        "outputId": "28de2091-cac7-4ebc-93c3-fa42467622cb"
      },
      "outputs": [
        {
          "output_type": "stream",
          "name": "stdout",
          "text": [
            "[1, 3, 12]\n"
          ]
        }
      ],
      "source": [
        "v = [-1, 1, 10]\n",
        "for index, value in enumerate(v):\n",
        "    v[index] = value + 2\n",
        "\n",
        "print(v)"
      ]
    },
    {
      "cell_type": "markdown",
      "metadata": {
        "nbpresent": {
          "id": "19cc8075-dfee-473f-912e-ec504dcde2f0"
        },
        "id": "OGi3_lEScqgP"
      },
      "source": [
        "## Traversing multiple lists simultaneously: `zip(list1, list2, ...)`\n",
        "Let us consider how we can loop over elements in both `Cdegrees` and `Fdegrees` at the same time. One approach would be to use list indices:"
      ]
    },
    {
      "cell_type": "code",
      "execution_count": 27,
      "metadata": {
        "execution": {
          "iopub.execute_input": "2022-07-29T12:28:23.305723Z",
          "iopub.status.busy": "2022-07-29T12:28:23.305322Z",
          "iopub.status.idle": "2022-07-29T12:28:23.328364Z",
          "shell.execute_reply": "2022-07-29T12:28:23.328010Z"
        },
        "nbpresent": {
          "id": "6c699b8c-adcb-4a73-a1fa-b3c9bd61e2d6"
        },
        "colab": {
          "base_uri": "https://localhost:8080/"
        },
        "id": "umfppP2lcqgP",
        "outputId": "f8ceb0bb-0578-4a05-da52-9ff14bd5572c"
      },
      "outputs": [
        {
          "output_type": "stream",
          "name": "stdout",
          "text": [
            "-20 -4.0\n",
            "-15 5.0\n",
            "-10 14.0\n",
            "-5 23.0\n",
            "0 32.0\n",
            "5 41.0\n",
            "10 50.0\n",
            "15 59.0\n",
            "20 68.0\n",
            "25 77.0\n",
            "30 86.0\n",
            "35 95.0\n",
            "40 104.0\n"
          ]
        }
      ],
      "source": [
        "# First, we have to recreate the data from lecture 1.\n",
        "Cdegrees = [deg for deg in range(-20, 41, 5)]\n",
        "Fdegrees = [(9/5)*deg + 32 for deg in Cdegrees]\n",
        "\n",
        "for i in range(len(Cdegrees)):\n",
        "    print(Cdegrees[i], Fdegrees[i])"
      ]
    },
    {
      "cell_type": "markdown",
      "metadata": {
        "nbpresent": {
          "id": "f3a61755-9040-4250-bddf-09ba66d940ad"
        },
        "id": "CWEwndDkcqgQ"
      },
      "source": [
        "An alternative construct, regarded as more ”Pythonic”, uses the `zip` built-in function:"
      ]
    },
    {
      "cell_type": "code",
      "execution_count": 28,
      "metadata": {
        "execution": {
          "iopub.execute_input": "2022-07-29T12:28:23.345166Z",
          "iopub.status.busy": "2022-07-29T12:28:23.344671Z",
          "iopub.status.idle": "2022-07-29T12:28:23.363152Z",
          "shell.execute_reply": "2022-07-29T12:28:23.362780Z"
        },
        "nbpresent": {
          "id": "a3b3c9c8-b797-4bcb-8af0-301a0c2e81c1"
        },
        "colab": {
          "base_uri": "https://localhost:8080/"
        },
        "id": "b4JNOoAbcqgQ",
        "outputId": "415fd464-465d-44fc-e53e-70377165629f"
      },
      "outputs": [
        {
          "output_type": "stream",
          "name": "stdout",
          "text": [
            "-20 -4.0\n",
            "-15 5.0\n",
            "-10 14.0\n",
            "-5 23.0\n",
            "0 32.0\n",
            "5 41.0\n",
            "10 50.0\n",
            "15 59.0\n",
            "20 68.0\n",
            "25 77.0\n",
            "30 86.0\n",
            "35 95.0\n",
            "40 104.0\n"
          ]
        }
      ],
      "source": [
        "for C, F in zip(Cdegrees, Fdegrees):\n",
        "    print(C, F)"
      ]
    },
    {
      "cell_type": "markdown",
      "metadata": {
        "nbpresent": {
          "id": "c38f5999-bdd5-4eba-b8b7-036d6883f1ff"
        },
        "id": "27UE4Vw5cqgQ"
      },
      "source": [
        "Using `zip`, we can also traverse three or more lists simultaneously:"
      ]
    },
    {
      "cell_type": "code",
      "execution_count": 29,
      "metadata": {
        "execution": {
          "iopub.execute_input": "2022-07-29T12:28:23.388621Z",
          "iopub.status.busy": "2022-07-29T12:28:23.387936Z",
          "iopub.status.idle": "2022-07-29T12:28:23.395885Z",
          "shell.execute_reply": "2022-07-29T12:28:23.395351Z"
        },
        "nbpresent": {
          "id": "dfad409b-2ca3-4c4c-9578-4a3dfb1f1949"
        },
        "colab": {
          "base_uri": "https://localhost:8080/"
        },
        "id": "G5xzw1qFcqgQ",
        "outputId": "1f1e3551-2107-4886-d157-662ba7a77b0e"
      },
      "outputs": [
        {
          "output_type": "stream",
          "name": "stdout",
          "text": [
            "e1 = 3, e2 = 1, e3 = 9\n",
            "e1 = 6, e2 = 1, e3 = 3\n",
            "e1 = 1, e2 = 0, e3 = 2\n"
          ]
        }
      ],
      "source": [
        "l1 = [3, 6, 1]\n",
        "l2 = [1, 1, 0]\n",
        "l3 = [9, 3, 2]\n",
        "\n",
        "for e1, e2, e3 in zip(l1, l2, l3):\n",
        "    print(f\"{e1 = }, {e2 = }, {e3 = }\")"
      ]
    },
    {
      "cell_type": "markdown",
      "metadata": {
        "nbpresent": {
          "id": "87213cfd-ba47-4fab-88e8-917cd5c5f183"
        },
        "id": "QwvU-4UecqgQ"
      },
      "source": [
        "If the lists are of unequal length, then the loop stops when we reach the end of the shortest list. Experiment with this:"
      ]
    },
    {
      "cell_type": "code",
      "execution_count": 30,
      "metadata": {
        "execution": {
          "iopub.execute_input": "2022-07-29T12:28:23.399458Z",
          "iopub.status.busy": "2022-07-29T12:28:23.399249Z",
          "iopub.status.idle": "2022-07-29T12:28:23.414201Z",
          "shell.execute_reply": "2022-07-29T12:28:23.413635Z"
        },
        "nbpresent": {
          "id": "720d5ba3-4001-4abe-8956-a125c1f35845"
        },
        "colab": {
          "base_uri": "https://localhost:8080/"
        },
        "id": "8cQIL3e6cqgQ",
        "outputId": "e26cb2f7-1892-43b0-ffc9-227984f4ae32"
      },
      "outputs": [
        {
          "output_type": "stream",
          "name": "stdout",
          "text": [
            "e1 = 3, e2 = 1, e3 = 9\n",
            "e1 = 6, e2 = 1, e3 = 3\n",
            "e1 = 1, e2 = 0, e3 = 2\n",
            "e1 = 4, e2 = 7, e3 = 0\n"
          ]
        }
      ],
      "source": [
        "l1 = [3, 6, 1, 4, 6]  # len(l1) == 5\n",
        "l2 = [1, 1, 0, 7]     # len(l2) == 4\n",
        "l3 = [9, 3, 2, 0, 9]  # len(l3) == 5\n",
        "\n",
        "for e1, e2, e3 in zip(l1, l2, l3):\n",
        "    print(f\"{e1 = }, {e2 = }, {e3 = }\")"
      ]
    },
    {
      "cell_type": "markdown",
      "metadata": {
        "nbpresent": {
          "id": "8ab146b4-7ec7-45b3-88a4-49860f5b6cc6"
        },
        "id": "TJ2amt1XcqgQ"
      },
      "source": [
        "## Nested lists: list of lists\n",
        "A `list` can contain **any** object as its element, including another `list`. To illustrate this, consider storing the conversion table as a single Python list rather than two separate lists:"
      ]
    },
    {
      "cell_type": "code",
      "execution_count": 31,
      "metadata": {
        "execution": {
          "iopub.execute_input": "2022-07-29T12:28:23.417016Z",
          "iopub.status.busy": "2022-07-29T12:28:23.416810Z",
          "iopub.status.idle": "2022-07-29T12:28:23.430444Z",
          "shell.execute_reply": "2022-07-29T12:28:23.429829Z"
        },
        "nbpresent": {
          "id": "a6fcd4d1-9f61-4b3b-8ec3-12843952ec20"
        },
        "colab": {
          "base_uri": "https://localhost:8080/"
        },
        "id": "KhO120UCcqgQ",
        "outputId": "31823136-a333-4ae9-af66-75e967ddeaf5"
      },
      "outputs": [
        {
          "output_type": "stream",
          "name": "stdout",
          "text": [
            "table1 = [[-20, -15, -10, -5, 0, 5, 10, 15, 20, 25, 30, 35, 40], [-4.0, 5.0, 14.0, 23.0, 32.0, 41.0, 50.0, 59.0, 68.0, 77.0, 86.0, 95.0, 104.0]]\n",
            "table1[0] = [-20, -15, -10, -5, 0, 5, 10, 15, 20, 25, 30, 35, 40]\n",
            "table1[1] = [-4.0, 5.0, 14.0, 23.0, 32.0, 41.0, 50.0, 59.0, 68.0, 77.0, 86.0, 95.0, 104.0]\n",
            "table1[1][3] = 23.0\n"
          ]
        }
      ],
      "source": [
        "Cdegrees = [C for C in range(-20, 41, 5)]\n",
        "Fdegrees = [(9/5)*C + 32 for C in Cdegrees]\n",
        "table1 = [Cdegrees, Fdegrees]  # List of two lists\n",
        "\n",
        "print(f\"{table1 = }\")\n",
        "print(f\"{table1[0] = }\")  # access the first element of list table1 - Cdegrees list\n",
        "print(f\"{table1[1] = }\")  # access the second element of list table1 - Fdegrees list\n",
        "print(f\"{table1[1][3] = }\")  # access 4th element in the 2nd list"
      ]
    },
    {
      "cell_type": "markdown",
      "metadata": {
        "nbpresent": {
          "id": "89a35110-151d-4836-8dde-76da53991134"
        },
        "id": "C2Q0IgqUcqgQ"
      },
      "source": [
        "This gives us a table with two rows. How do we create a table of columns instead:"
      ]
    },
    {
      "cell_type": "code",
      "execution_count": 32,
      "metadata": {
        "execution": {
          "iopub.execute_input": "2022-07-29T12:28:23.433599Z",
          "iopub.status.busy": "2022-07-29T12:28:23.433157Z",
          "iopub.status.idle": "2022-07-29T12:28:23.437699Z",
          "shell.execute_reply": "2022-07-29T12:28:23.437071Z"
        },
        "nbpresent": {
          "id": "950a8775-cf1b-4b7b-a571-b79406b0f1e5"
        },
        "colab": {
          "base_uri": "https://localhost:8080/"
        },
        "id": "sw151V7DcqgQ",
        "outputId": "0b385a38-8c6b-4916-a064-b9d3b20fd423"
      },
      "outputs": [
        {
          "output_type": "stream",
          "name": "stdout",
          "text": [
            "[[-20, -4.0], [-15, 5.0], [-10, 14.0], [-5, 23.0], [0, 32.0], [5, 41.0], [10, 50.0], [15, 59.0], [20, 68.0], [25, 77.0], [30, 86.0], [35, 95.0], [40, 104.0]]\n"
          ]
        }
      ],
      "source": [
        "table2 = []\n",
        "for C, F in zip(Cdegrees, Fdegrees):\n",
        "    row = [C, F]\n",
        "    table2.append(row)\n",
        "\n",
        "print(table2)"
      ]
    },
    {
      "cell_type": "markdown",
      "metadata": {
        "nbpresent": {
          "id": "51044f5c-75c9-4bdc-be04-0c8953317416"
        },
        "id": "7ysc18KWcqgR"
      },
      "source": [
        "We can also use list comprehension to do this more elegantly:"
      ]
    },
    {
      "cell_type": "code",
      "execution_count": 33,
      "metadata": {
        "execution": {
          "iopub.execute_input": "2022-07-29T12:28:23.441956Z",
          "iopub.status.busy": "2022-07-29T12:28:23.441345Z",
          "iopub.status.idle": "2022-07-29T12:28:23.445880Z",
          "shell.execute_reply": "2022-07-29T12:28:23.445262Z"
        },
        "nbpresent": {
          "id": "c747c897-af59-46a2-b52f-de9dcd1b7762"
        },
        "colab": {
          "base_uri": "https://localhost:8080/"
        },
        "id": "ar1OdLVNcqgR",
        "outputId": "8aa3366c-4871-48f7-ede3-cd87a47a0332"
      },
      "outputs": [
        {
          "output_type": "stream",
          "name": "stdout",
          "text": [
            "[[-20, -4.0], [-15, 5.0], [-10, 14.0], [-5, 23.0], [0, 32.0], [5, 41.0], [10, 50.0], [15, 59.0], [20, 68.0], [25, 77.0], [30, 86.0], [35, 95.0], [40, 104.0]]\n"
          ]
        }
      ],
      "source": [
        "table2 = [[C, F] for C, F in zip(Cdegrees, Fdegrees)]\n",
        "print(table2)"
      ]
    },
    {
      "cell_type": "markdown",
      "metadata": {
        "nbpresent": {
          "id": "b7dd1233-53f8-43ed-ba94-fbca4f4def19"
        },
        "id": "NuRAw4w5cqgR"
      },
      "source": [
        "And we can loop through this list as before:"
      ]
    },
    {
      "cell_type": "code",
      "execution_count": 34,
      "metadata": {
        "execution": {
          "iopub.execute_input": "2022-07-29T12:28:23.449875Z",
          "iopub.status.busy": "2022-07-29T12:28:23.449442Z",
          "iopub.status.idle": "2022-07-29T12:28:23.474938Z",
          "shell.execute_reply": "2022-07-29T12:28:23.474547Z"
        },
        "nbpresent": {
          "id": "3eeeb7bf-67f7-49bc-88a3-11ccff9a3a6d"
        },
        "colab": {
          "base_uri": "https://localhost:8080/"
        },
        "id": "ou0989TncqgR",
        "outputId": "a844f37b-5869-47f4-be1d-d984440b52bb"
      },
      "outputs": [
        {
          "output_type": "stream",
          "name": "stdout",
          "text": [
            "-20 -4.0\n",
            "-15 5.0\n",
            "-10 14.0\n",
            "-5 23.0\n",
            "0 32.0\n",
            "5 41.0\n",
            "10 50.0\n",
            "15 59.0\n",
            "20 68.0\n",
            "25 77.0\n",
            "30 86.0\n",
            "35 95.0\n",
            "40 104.0\n"
          ]
        }
      ],
      "source": [
        "for C, F in table2:\n",
        "    print(C, F)"
      ]
    },
    {
      "cell_type": "markdown",
      "metadata": {
        "id": "PXgoztUmcqgR"
      },
      "source": [
        "Since elements of `table2` are length-2 lists, in each iteration, we *unpack* each of the length-2 elements to `C` and `F`."
      ]
    },
    {
      "cell_type": "markdown",
      "metadata": {
        "nbpresent": {
          "id": "0fc837cc-fdec-435c-8ccf-a22a7a743a0d"
        },
        "id": "z71SpNbZcqgR"
      },
      "source": [
        "## Tuples: lists that cannot be changed\n",
        "\n",
        "Tuples are **constant** lists, i.e. we can use them in much the same way as lists except we cannot modify them. They are an example of an [**immutable**](http://en.wikipedia.org/wiki/Immutable_object) type."
      ]
    },
    {
      "cell_type": "code",
      "execution_count": 35,
      "metadata": {
        "execution": {
          "iopub.execute_input": "2022-07-29T12:28:23.494515Z",
          "iopub.status.busy": "2022-07-29T12:28:23.493870Z",
          "iopub.status.idle": "2022-07-29T12:28:23.497416Z",
          "shell.execute_reply": "2022-07-29T12:28:23.496978Z"
        },
        "nbpresent": {
          "id": "0095674c-61c3-4972-a8dd-47a223010482"
        },
        "id": "oMBw4YO5cqgR"
      },
      "outputs": [],
      "source": [
        "t = (2, 4, 6, \"temp.pdf\")  # Define a tuple.\n",
        "t = 2, 4, 6, \"temp.pdf\"    # Can skip parenthesis as it is assumed in this context."
      ]
    },
    {
      "cell_type": "markdown",
      "metadata": {
        "nbpresent": {
          "id": "032624f9-fdc9-488f-881c-9a1329ca393c"
        },
        "id": "780S73GycqgR"
      },
      "source": [
        "Let us see what happens when we try to modify the tuple like we did with a list:"
      ]
    },
    {
      "cell_type": "markdown",
      "metadata": {
        "nbpresent": {
          "id": "56f3d86e-714a-4475-8540-605cf08aadcd"
        },
        "id": "XkDFPemrcqgR"
      },
      "source": [
        "```python\n",
        "t[1] = -1\n",
        "\n",
        "---------------------------------------------------------------------------\n",
        "TypeError                                 Traceback (most recent call last)\n",
        "<ipython-input-3-593c03edf054> in <module>()\n",
        "----> 1 t[1] = -1\n",
        "\n",
        "TypeError: 'tuple' object does not support item assignment\n",
        "```"
      ]
    },
    {
      "cell_type": "markdown",
      "metadata": {
        "nbpresent": {
          "id": "dfdb2267-7c95-466a-8bc4-9ebddd4bfd23"
        },
        "id": "abtKztbZcqgR"
      },
      "source": [
        "```python\n",
        "t.append(0)\n",
        "\n",
        "---------------------------------------------------------------------------\n",
        "AttributeError                            Traceback (most recent call last)\n",
        "<ipython-input-19-78592bf72d62> in <module>()\n",
        "----> 1 t.append(0)\n",
        "\n",
        "AttributeError: 'tuple' object has no attribute 'append'\n",
        "```"
      ]
    },
    {
      "cell_type": "markdown",
      "metadata": {
        "nbpresent": {
          "id": "58223f11-d1d1-4857-850b-8d0749d15fc9"
        },
        "id": "OwH49idvcqgR"
      },
      "source": [
        "```python\n",
        "del t[1]\n",
        "\n",
        "---------------------------------------------------------------------------\n",
        "TypeError                                 Traceback (most recent call last)\n",
        "<ipython-input-20-0193a527a912> in <module>()\n",
        "----> 1 del t[1]\n",
        "\n",
        "TypeError: 'tuple' object doesn't support item deletion\n",
        "```"
      ]
    },
    {
      "cell_type": "markdown",
      "metadata": {
        "nbpresent": {
          "id": "6786d3d8-b078-416b-9ea0-4da6945520bd"
        },
        "id": "4ci_NmkOcqgR"
      },
      "source": [
        "However, we can use the tuple to compose a new tuple:"
      ]
    },
    {
      "cell_type": "code",
      "execution_count": 36,
      "metadata": {
        "execution": {
          "iopub.execute_input": "2022-07-29T12:28:23.501036Z",
          "iopub.status.busy": "2022-07-29T12:28:23.500482Z",
          "iopub.status.idle": "2022-07-29T12:28:23.505498Z",
          "shell.execute_reply": "2022-07-29T12:28:23.504888Z"
        },
        "nbpresent": {
          "id": "a1b2cfa3-a234-4439-bd21-d717ff867609"
        },
        "colab": {
          "base_uri": "https://localhost:8080/"
        },
        "id": "RMp0j3TecqgR",
        "outputId": "337b53bd-f271-4f72-8f1f-4b584dd098ed"
      },
      "outputs": [
        {
          "output_type": "stream",
          "name": "stdout",
          "text": [
            "(2, 4, 6, 'temp.pdf', -1.0, -2.0)\n"
          ]
        }
      ],
      "source": [
        "t = t + (-1.0, -2.0)\n",
        "print(t)"
      ]
    },
    {
      "cell_type": "markdown",
      "metadata": {
        "nbpresent": {
          "id": "fde43ef7-d6f0-4e00-93c6-0d1df9df3854"
        },
        "id": "YmjoDcUlcqgS"
      },
      "source": [
        "So, why would we use tuples when lists have more functionality?\n",
        "\n",
        "* Tuples are constant and thus *protected against accidental changes*.\n",
        "* Tuples are *faster* than lists.\n",
        "* Tuples are *widely used* in Python software (so you need to know about tuples to understand other people's code!)\n",
        "* Tuples (but not lists) are hashable and can be used as *keys in dictionaries* (more about dictionaries later)."
      ]
    },
    {
      "cell_type": "markdown",
      "metadata": {
        "id": "qauJbIYjcqgS"
      },
      "source": [
        "**WARNING**: Tuples are actually not always immutable. If a tuple contains mutable elements, e.g. `list`, it is possible to change the tuple. Let us have a look at this example:"
      ]
    },
    {
      "cell_type": "code",
      "execution_count": 37,
      "metadata": {
        "execution": {
          "iopub.execute_input": "2022-07-29T12:28:23.508766Z",
          "iopub.status.busy": "2022-07-29T12:28:23.508383Z",
          "iopub.status.idle": "2022-07-29T12:28:23.515424Z",
          "shell.execute_reply": "2022-07-29T12:28:23.514860Z"
        },
        "colab": {
          "base_uri": "https://localhost:8080/"
        },
        "id": "d8ymjhqxcqgS",
        "outputId": "7158df3f-e7b0-49dc-dd86-02695aea163b"
      },
      "outputs": [
        {
          "output_type": "stream",
          "name": "stdout",
          "text": [
            "(1, 2, [3, 4, 5])\n"
          ]
        }
      ],
      "source": [
        "t = (1, 2, [3, 4])\n",
        "t[2].append(5)  # we are appending 5 to the list which the tuple holds a reference of\n",
        "print(t)"
      ]
    },
    {
      "cell_type": "markdown",
      "metadata": {
        "id": "pJ02ewehcqgS"
      },
      "source": [
        "Therefore, to ensure the tuple is immutable, it is necessary for it to contain only immutable elements. The best way to check if the tuple is actually mutable is to use the `hashable` function."
      ]
    },
    {
      "cell_type": "code",
      "execution_count": 38,
      "metadata": {
        "execution": {
          "iopub.execute_input": "2022-07-29T12:28:23.518464Z",
          "iopub.status.busy": "2022-07-29T12:28:23.518073Z",
          "iopub.status.idle": "2022-07-29T12:28:23.525069Z",
          "shell.execute_reply": "2022-07-29T12:28:23.524510Z"
        },
        "colab": {
          "base_uri": "https://localhost:8080/"
        },
        "id": "MmpwRmX2cqgS",
        "outputId": "7aacd0fe-e51b-476b-c0a6-55c75c123047"
      },
      "outputs": [
        {
          "output_type": "stream",
          "name": "stdout",
          "text": [
            "Tuple t = (1, 2, [3, 4]) is mutable.\n"
          ]
        }
      ],
      "source": [
        "t = (1, 2, [3, 4])  # tuple contains a list which is a mutable type\n",
        "try:\n",
        "    hash(t)\n",
        "    print(f\"Tuple {t = } is immutable.\")\n",
        "except TypeError:\n",
        "    print(f\"Tuple {t = } is mutable.\")"
      ]
    },
    {
      "cell_type": "code",
      "execution_count": 39,
      "metadata": {
        "execution": {
          "iopub.execute_input": "2022-07-29T12:28:23.528017Z",
          "iopub.status.busy": "2022-07-29T12:28:23.527540Z",
          "iopub.status.idle": "2022-07-29T12:28:23.534046Z",
          "shell.execute_reply": "2022-07-29T12:28:23.533523Z"
        },
        "colab": {
          "base_uri": "https://localhost:8080/"
        },
        "id": "iXO2hBF-cqgS",
        "outputId": "a86d63ff-d27d-4e5f-fca5-09ef1cf4d272"
      },
      "outputs": [
        {
          "output_type": "stream",
          "name": "stdout",
          "text": [
            "Tuple t = (1, 2, 'abc', (5, 6)) is immutable.\n"
          ]
        }
      ],
      "source": [
        "t = (1, 2, \"abc\", (5, 6))  # tuple contains only immutable types\n",
        "try:\n",
        "    hash(t)\n",
        "    print(f\"Tuple {t = } is immutable.\")\n",
        "except TypeError:\n",
        "    print(f\"Tuple {t = } is mutable.\")"
      ]
    },
    {
      "cell_type": "markdown",
      "metadata": {
        "id": "mHId0H7BcqgS"
      },
      "source": [
        "What does it then mean that some types are mutable and some are not? We will talk about this in lecture 4."
      ]
    },
    {
      "cell_type": "markdown",
      "metadata": {
        "nbpresent": {
          "id": "e5c7ed02-153d-409a-a595-93528696a35e"
        },
        "id": "DKTGtjLfcqgT"
      },
      "source": [
        "## The `if` construct\n",
        "Let us consider we need to program the following function:\n",
        "$$\n",
        "f(x)=\n",
        "\\begin{cases}\n",
        "    \\sin(x),& \\text{if } 0 \\leq x \\leq \\pi\\\\\n",
        "    0,              & \\text{otherwise}\n",
        "\\end{cases}\n",
        "$$\n",
        "To do this, we need the `if` construct:"
      ]
    },
    {
      "cell_type": "code",
      "execution_count": 40,
      "metadata": {
        "execution": {
          "iopub.execute_input": "2022-07-29T12:28:23.597720Z",
          "iopub.status.busy": "2022-07-29T12:28:23.597203Z",
          "iopub.status.idle": "2022-07-29T12:28:23.608091Z",
          "shell.execute_reply": "2022-07-29T12:28:23.607433Z"
        },
        "nbpresent": {
          "id": "b3ce7c44-884a-4602-94b1-e647ddf5ac88"
        },
        "colab": {
          "base_uri": "https://localhost:8080/"
        },
        "id": "MjGotj92cqgT",
        "outputId": "d06ae0ab-b475-440e-ee8e-8f5398c849e8"
      },
      "outputs": [
        {
          "output_type": "stream",
          "name": "stdout",
          "text": [
            "f(-pi/2) = 0\n",
            "f(pi/2) = 1.0\n",
            "f(3*pi/2) = 0\n"
          ]
        }
      ],
      "source": [
        "from math import sin, pi\n",
        "\n",
        "\n",
        "def f(x):\n",
        "    if 0 <= x <= pi:\n",
        "        return sin(x)\n",
        "    else:\n",
        "        return 0\n",
        "\n",
        "\n",
        "print(f\"{f(-pi/2) = }\")\n",
        "print(f\"{f(pi/2) = }\")\n",
        "print(f\"{f(3*pi/2) = }\")"
      ]
    },
    {
      "cell_type": "markdown",
      "metadata": {
        "nbpresent": {
          "id": "3abe0d4c-8b40-4710-8198-c60707fe67a5"
        },
        "id": "uukUN5VkcqgT"
      },
      "source": [
        "Please note the indentations we used to define which statements belong to which condition. Sometimes, it is clearer to write this as a conditional expression:"
      ]
    },
    {
      "cell_type": "code",
      "execution_count": 41,
      "metadata": {
        "execution": {
          "iopub.execute_input": "2022-07-29T12:28:23.610833Z",
          "iopub.status.busy": "2022-07-29T12:28:23.610627Z",
          "iopub.status.idle": "2022-07-29T12:28:23.628975Z",
          "shell.execute_reply": "2022-07-29T12:28:23.628331Z"
        },
        "nbpresent": {
          "id": "1f47e475-25a2-4a5b-89dd-7f66d2f4b30f"
        },
        "colab": {
          "base_uri": "https://localhost:8080/"
        },
        "id": "L1OclLy9cqgT",
        "outputId": "270b5afd-158c-409a-a0fa-8441d33ccd99"
      },
      "outputs": [
        {
          "output_type": "stream",
          "name": "stdout",
          "text": [
            "f(-pi/2) = 0\n",
            "f(pi/2) = 1.0\n",
            "f(3*pi/2) = 0\n"
          ]
        }
      ],
      "source": [
        "def f(x):\n",
        "    return sin(x) if 0 <= x <= pi else 0\n",
        "\n",
        "\n",
        "print(\"f(-pi/2) =\", f(-pi/2))\n",
        "print(\"f(pi/2) =\", f(pi/2))\n",
        "print(\"f(3*pi/2) =\", f(3*pi/2))"
      ]
    },
    {
      "cell_type": "markdown",
      "metadata": {
        "nbpresent": {
          "id": "8f2b5db4-b6d4-460e-a902-a8cbc99fef87"
        },
        "id": "LPVZI3pwcqgT"
      },
      "source": [
        "The `else` block can be skipped if there are no statements to be executed when `False`. In general, we can put together multiple conditions. Only the first condition that is `True` is executed.\n",
        "\n",
        "```python\n",
        "if condition1:\n",
        "    <block of statements, executed if condition1 is True>\n",
        "elif condition2:\n",
        "    <block of statements, executed if condition1 is False and condition2 is True>\n",
        "elif condition3:\n",
        "    <block of statements, executed if conditions 1 and 2 are False and condition3 is True>\n",
        "else:\n",
        "    <block of statements, executed if conditions 1, 2, and 3 are False>\n",
        "    \n",
        "<next statement of the program>\n",
        "```"
      ]
    },
    {
      "cell_type": "markdown",
      "metadata": {
        "id": "VMcoDNORcqgV"
      },
      "source": [
        "## Vectors and arrays\n",
        "\n",
        "You have known **vectors** since high school mathematics, e.g. point $(x, y)$ in the plane, point $(x, y, z)$ in space. In general, we can describe a vector $v$ as an $n$-tuple of numbers: $v=(v_0, \\ldots, v_{n-1})$. One way to store vectors in Python is by using sequences, e.g. *lists* or *tuples*: $v_i$ is stored as `v[i]`."
      ]
    },
    {
      "cell_type": "markdown",
      "metadata": {
        "id": "hT9KFB_VcqgV"
      },
      "source": [
        "**Arrays** are a generalisation of vectors where we can have multiple indices: $A_{ij}$, $A_{ijk}$. In Python, this is represented as a nested list, accessed as `A[i][j]`, `A[i][j][k]`.\n",
        "\n",
        "**Example**: Matrices, a table of numbers with one index for the row and one for the column\n",
        "$$\n",
        "\\left\\lbrack\\begin{array}{cccc}\n",
        "0 & 12 & -1 & 5q\\cr\n",
        "11 & 5 & 5 & -2\n",
        "\\end{array}\\right\\rbrack\n",
        "\\hspace{1cm}\n",
        "A =\n",
        "\\left\\lbrack\\begin{array}{ccc}\n",
        "A_{0,0} & \\cdots &  A_{0,n-1}\\cr\n",
        "\\vdots & \\ddots &  \\vdots\\cr\n",
        "A_{m-1,0} & \\cdots & A_{m-1,n-1}\n",
        "\\end{array}\\right\\rbrack\n",
        "$$\n",
        "The number of indices in an array is the *number of dimensions*. Using these terms, a vector can be described as a one-dimensional array or dimension-1 array."
      ]
    },
    {
      "cell_type": "markdown",
      "metadata": {
        "id": "qkpUmHtecqgW"
      },
      "source": [
        "In practice, we use [Numerical Python (*NumPy*)](http://www.numpy.org/) arrays instead of lists to represent mathematical arrays because it is **much** faster for large arrays.\n",
        "\n",
        "Let us consider an example where we store $(x,y)$ points along a curve in Python lists and numpy arrays:"
      ]
    },
    {
      "cell_type": "code",
      "execution_count": 42,
      "metadata": {
        "execution": {
          "iopub.execute_input": "2022-07-29T12:28:24.284798Z",
          "iopub.status.busy": "2022-07-29T12:28:24.284591Z",
          "iopub.status.idle": "2022-07-29T12:28:24.288529Z",
          "shell.execute_reply": "2022-07-29T12:28:24.287920Z"
        },
        "id": "t99uadRwcqgW"
      },
      "outputs": [],
      "source": [
        "# Sample function\n",
        "def f(x):\n",
        "    return x**3\n",
        "\n",
        "\n",
        "# Generate n points in [0, 1]\n",
        "n = 5\n",
        "dx = 1 / (n-1)  # x spacing\n",
        "\n",
        "X = [i*dx for i in range(n)]  # Python list\n",
        "Y = [f(x) for x in X]\n",
        "\n",
        "# Turn these Python lists into Numerical Python (NumPy) arrays:\n",
        "import numpy as np  # as a convention, we import \"numpy as np\"\n",
        "\n",
        "x2 = np.array(X)\n",
        "y2 = np.array(Y)"
      ]
    },
    {
      "cell_type": "markdown",
      "metadata": {
        "id": "HGiftRpucqgW"
      },
      "source": [
        "Instead of first making lists with $x$ and $y = f (x)$ data, and then turning lists into arrays, we can make NumPy arrays\n",
        "directly:"
      ]
    },
    {
      "cell_type": "code",
      "execution_count": 43,
      "metadata": {
        "execution": {
          "iopub.execute_input": "2022-07-29T12:28:24.291615Z",
          "iopub.status.busy": "2022-07-29T12:28:24.291396Z",
          "iopub.status.idle": "2022-07-29T12:28:24.294878Z",
          "shell.execute_reply": "2022-07-29T12:28:24.294250Z"
        },
        "id": "zpjA2mGvcqgW"
      },
      "outputs": [],
      "source": [
        "n = 5                        # number of points\n",
        "x2 = np.linspace(0, 1, n)    # generates n points between 0 and 1\n",
        "y2 = np.zeros(n)\n",
        "for i in range(n):\n",
        "    y2[i] = f(x2[i])"
      ]
    },
    {
      "cell_type": "markdown",
      "metadata": {
        "id": "OV5UC07ecqgW"
      },
      "source": [
        "List comprehensions create lists, not arrays, but we can do:"
      ]
    },
    {
      "cell_type": "code",
      "execution_count": 44,
      "metadata": {
        "execution": {
          "iopub.execute_input": "2022-07-29T12:28:24.297839Z",
          "iopub.status.busy": "2022-07-29T12:28:24.297637Z",
          "iopub.status.idle": "2022-07-29T12:28:24.300586Z",
          "shell.execute_reply": "2022-07-29T12:28:24.299960Z"
        },
        "id": "MNywjCVNcqgW"
      },
      "outputs": [],
      "source": [
        "y2 = np.array([f(xi) for xi in x2])  # list -> array"
      ]
    },
    {
      "cell_type": "markdown",
      "metadata": {
        "id": "Ebh3O7gxcqgW"
      },
      "source": [
        "Passing a list as an argument to some other function (like `np.array` in this case) is very common. Therefore, Python allows to omit the square brackets `[]`. This results in passing a *generator expression* which is both faster and more memory efficient."
      ]
    },
    {
      "cell_type": "code",
      "execution_count": 45,
      "metadata": {
        "execution": {
          "iopub.execute_input": "2022-07-29T12:28:24.303513Z",
          "iopub.status.busy": "2022-07-29T12:28:24.303313Z",
          "iopub.status.idle": "2022-07-29T12:28:24.306222Z",
          "shell.execute_reply": "2022-07-29T12:28:24.305600Z"
        },
        "id": "RvfIQiXdcqgW"
      },
      "outputs": [],
      "source": [
        "y2 = np.array(f(xi) for xi in x2)"
      ]
    },
    {
      "cell_type": "markdown",
      "metadata": {
        "id": "wnNUVf4OcqgW"
      },
      "source": [
        "Since this is not the topic of this introduction to Python lecture series, if you would like to understand more, please refer to [PEP289](https://peps.python.org/pep-0289/)."
      ]
    },
    {
      "cell_type": "markdown",
      "metadata": {
        "id": "4q9P9HmGcqgW"
      },
      "source": [
        "### When and where to use NumPy arrays\n",
        "\n",
        "* Python lists can hold any sequence of any Python objects. However, NumPy arrays can only hold objects of the same type. We refer to NumPy arrays as flat sequences, whereas we refer to lists and tuples as containers (or container sequences).\n",
        "* Arrays are most efficient when the elements are basic number types (*float*, *int*, *complex*).\n",
        "* In that case, arrays are stored efficiently in the computer's memory, and we can compute very efficiently with the array elements.\n",
        "* We can compute mathematical operations on whole arrays without loops in Python. For example,"
      ]
    },
    {
      "cell_type": "code",
      "execution_count": 46,
      "metadata": {
        "execution": {
          "iopub.execute_input": "2022-07-29T12:28:24.325078Z",
          "iopub.status.busy": "2022-07-29T12:28:24.324828Z",
          "iopub.status.idle": "2022-07-29T12:28:24.331378Z",
          "shell.execute_reply": "2022-07-29T12:28:24.330746Z"
        },
        "id": "NeNswERgcqgW"
      },
      "outputs": [],
      "source": [
        "import math\n",
        "\n",
        "x = np.linspace(0, 2, 10001)\n",
        "y = np.zeros(10001)\n",
        "for i in range(len(x)):\n",
        "    y[i] = math.sin(x[i])"
      ]
    },
    {
      "cell_type": "markdown",
      "metadata": {
        "id": "GsMsSelKcqgW"
      },
      "source": [
        "can be coded as"
      ]
    },
    {
      "cell_type": "code",
      "execution_count": 47,
      "metadata": {
        "execution": {
          "iopub.execute_input": "2022-07-29T12:28:24.334364Z",
          "iopub.status.busy": "2022-07-29T12:28:24.334149Z",
          "iopub.status.idle": "2022-07-29T12:28:24.337135Z",
          "shell.execute_reply": "2022-07-29T12:28:24.336497Z"
        },
        "id": "f76PwJpDcqgW"
      },
      "outputs": [],
      "source": [
        "y = np.sin(x)"
      ]
    },
    {
      "cell_type": "markdown",
      "metadata": {
        "id": "QySyI5YTcqgW"
      },
      "source": [
        "In the latter case, the loop over all elements is now performed in an efficient C-function. Instead of using Python `for`-loops, operations on whole arrays are called vectorisation, and they are a very **convenient**, **efficient**, and therefore an **important** programming technique to master."
      ]
    },
    {
      "cell_type": "markdown",
      "metadata": {
        "id": "piyA7-rAcqgW"
      },
      "source": [
        "Let us consider a simple vectorisation example: a loop to compute $x$ coordinates (`x2`) and $y=f(x)$ coordinates (`y2`) along a function curve:"
      ]
    },
    {
      "cell_type": "code",
      "execution_count": 48,
      "metadata": {
        "execution": {
          "iopub.execute_input": "2022-07-29T12:28:24.340287Z",
          "iopub.status.busy": "2022-07-29T12:28:24.340086Z",
          "iopub.status.idle": "2022-07-29T12:28:24.343488Z",
          "shell.execute_reply": "2022-07-29T12:28:24.342873Z"
        },
        "id": "JO2CuC9DcqgX"
      },
      "outputs": [],
      "source": [
        "x2 = np.linspace(0, 1, n)\n",
        "y2 = np.zeros(n)\n",
        "for i in range(n):\n",
        "    y2[i] = f(x2[i])"
      ]
    },
    {
      "cell_type": "markdown",
      "metadata": {
        "id": "yPNDbDKCcqgX"
      },
      "source": [
        "This computation can be replaced by:"
      ]
    },
    {
      "cell_type": "code",
      "execution_count": 49,
      "metadata": {
        "execution": {
          "iopub.execute_input": "2022-07-29T12:28:24.346403Z",
          "iopub.status.busy": "2022-07-29T12:28:24.346205Z",
          "iopub.status.idle": "2022-07-29T12:28:24.349162Z",
          "shell.execute_reply": "2022-07-29T12:28:24.348562Z"
        },
        "id": "V4g6L2I-cqgX"
      },
      "outputs": [],
      "source": [
        "x2 = np.linspace(0, 1, n)\n",
        "y2 = f(x2)"
      ]
    },
    {
      "cell_type": "markdown",
      "metadata": {
        "id": "Dzg_87oycqgX"
      },
      "source": [
        "The advantage of this approach is:\n",
        "\n",
        "* There is no need to allocate space for `y2` (via the NumPy *zeros* function).\n",
        "* There is no need for a loop.\n",
        "* It is *much faster*."
      ]
    },
    {
      "cell_type": "markdown",
      "metadata": {
        "id": "AWoqKRxrcqgX"
      },
      "source": [
        "## How vectorised functions work\n",
        "Consider the function"
      ]
    },
    {
      "cell_type": "code",
      "execution_count": 50,
      "metadata": {
        "execution": {
          "iopub.execute_input": "2022-07-29T12:28:24.352189Z",
          "iopub.status.busy": "2022-07-29T12:28:24.351991Z",
          "iopub.status.idle": "2022-07-29T12:28:24.354691Z",
          "shell.execute_reply": "2022-07-29T12:28:24.354083Z"
        },
        "id": "WGv3oMlJcqgX"
      },
      "outputs": [],
      "source": [
        "def f(x):\n",
        "    return x**3"
      ]
    },
    {
      "cell_type": "markdown",
      "metadata": {
        "id": "HxF9fMwIcqgX"
      },
      "source": [
        "$f(x)$ is intended for a number $x$, i.e. a *scalar*. So, what happens when we call `f(x2)`, where `x2` is a NumPy array? **The function evaluates $x^3$ for an array $x$**. NumPy supports arithmetic operations on arrays, which correspond to the equivalent operations on each element. For example,"
      ]
    },
    {
      "cell_type": "code",
      "execution_count": 51,
      "metadata": {
        "execution": {
          "iopub.execute_input": "2022-07-29T12:28:24.357660Z",
          "iopub.status.busy": "2022-07-29T12:28:24.357461Z",
          "iopub.status.idle": "2022-07-29T12:28:24.361382Z",
          "shell.execute_reply": "2022-07-29T12:28:24.360787Z"
        },
        "id": "rb-itMvGcqgX"
      },
      "outputs": [],
      "source": [
        "r1 = x**3                   # x[i]**3 for all i\n",
        "r2 = np.cos(x)              # cos(x[i]) for all i\n",
        "r3 = x**3 + x*np.cos(x)     # x[i]**3 + x[i]*cos(x[i]) for all i\n",
        "r4 = x/3*np.exp(-x*0.5)     # x[i]/3*exp(-x[i]*0.5) for all i"
      ]
    },
    {
      "cell_type": "markdown",
      "metadata": {
        "id": "ca0-nb79cqgX"
      },
      "source": [
        "In each of these cases, a highly optimised C-function is actually called to evaluate the expression. In this example, the `cos` function called for an `array` is imported from NumPy rather than from the `math` module which only acts on scalars.\n",
        "\n",
        "Notes:\n",
        "\n",
        "* Functions that can operate on arrays are called **vectorised functions**.\n",
        "* Vectorisation is the process of turning a non-vectorised expression/algorithm into a vectorised expression/algorithm.\n",
        "* Mathematical functions in Python automatically work for both scalar and array (vector) arguments, i.e. no vectorisation is needed by the programmer."
      ]
    },
    {
      "cell_type": "markdown",
      "metadata": {
        "id": "pILVAhq4cqgX"
      },
      "source": [
        "### Watch out for references vs. copies of arrays!\n",
        "Consider this code:"
      ]
    },
    {
      "cell_type": "code",
      "execution_count": 52,
      "metadata": {
        "execution": {
          "iopub.execute_input": "2022-07-29T12:28:24.364163Z",
          "iopub.status.busy": "2022-07-29T12:28:24.363966Z",
          "iopub.status.idle": "2022-07-29T12:28:24.367931Z",
          "shell.execute_reply": "2022-07-29T12:28:24.367292Z"
        },
        "colab": {
          "base_uri": "https://localhost:8080/"
        },
        "id": "Q7IF7arpcqgX",
        "outputId": "6f3197f9-30bf-40f9-f3c3-ced46e1be9ee"
      },
      "outputs": [
        {
          "output_type": "stream",
          "name": "stdout",
          "text": [
            "42.0\n"
          ]
        }
      ],
      "source": [
        "a = x\n",
        "a[-1] = 42\n",
        "print(x[-1])"
      ]
    },
    {
      "cell_type": "markdown",
      "metadata": {
        "id": "FMrV3JfccqgX"
      },
      "source": [
        "Notice what happened here - we changed a value in `a`, but the corresponding value in `x` was also changed! This is because `a` refers to the same array as `x`. If we want a separate copy of `x`, then we have to make an explicit copy:"
      ]
    },
    {
      "cell_type": "code",
      "execution_count": 53,
      "metadata": {
        "execution": {
          "iopub.execute_input": "2022-07-29T12:28:24.372253Z",
          "iopub.status.busy": "2022-07-29T12:28:24.372051Z",
          "iopub.status.idle": "2022-07-29T12:28:24.375027Z",
          "shell.execute_reply": "2022-07-29T12:28:24.374416Z"
        },
        "id": "-h9xOKaccqgX"
      },
      "outputs": [],
      "source": [
        "a = x.copy()"
      ]
    },
    {
      "cell_type": "markdown",
      "metadata": {
        "id": "3z84Fc36cqgY"
      },
      "source": [
        "## Generalised array indexing\n",
        "\n",
        "We can select a slice of an array using `a[start:stop:inc]`, where the slice `start:stop:inc` implies a set of indices starting from `start`, up to `stop` in increments `inc`. Any integer list or array can be used to indicate a set of indices:"
      ]
    },
    {
      "cell_type": "code",
      "execution_count": 54,
      "metadata": {
        "execution": {
          "iopub.execute_input": "2022-07-29T12:28:24.458325Z",
          "iopub.status.busy": "2022-07-29T12:28:24.457976Z",
          "iopub.status.idle": "2022-07-29T12:28:24.465010Z",
          "shell.execute_reply": "2022-07-29T12:28:24.464466Z"
        },
        "colab": {
          "base_uri": "https://localhost:8080/"
        },
        "id": "Nm_7pVmQcqgY",
        "outputId": "1decae3c-865c-4599-b8e1-066b0167d02f"
      },
      "outputs": [
        {
          "output_type": "stream",
          "name": "stdout",
          "text": [
            "[1. 2. 3. 4. 5. 6. 7. 8.]\n"
          ]
        }
      ],
      "source": [
        "a = np.linspace(1, 8, 8)\n",
        "print(a)"
      ]
    },
    {
      "cell_type": "code",
      "execution_count": 55,
      "metadata": {
        "execution": {
          "iopub.execute_input": "2022-07-29T12:28:24.467734Z",
          "iopub.status.busy": "2022-07-29T12:28:24.467301Z",
          "iopub.status.idle": "2022-07-29T12:28:24.473471Z",
          "shell.execute_reply": "2022-07-29T12:28:24.472876Z"
        },
        "colab": {
          "base_uri": "https://localhost:8080/"
        },
        "id": "75WoO7avcqgY",
        "outputId": "06ed8d2c-0dba-4c6b-933b-bcda7c896b73"
      },
      "outputs": [
        {
          "output_type": "stream",
          "name": "stdout",
          "text": [
            "[ 1. 10.  3.  4.  5.  6. 10. 10.]\n"
          ]
        }
      ],
      "source": [
        "a[[1, 6, 7]] = 10  # i.e. set the elements with indicies 1, 6, and 7 in the array to 10.\n",
        "print(a)"
      ]
    },
    {
      "cell_type": "code",
      "execution_count": 56,
      "metadata": {
        "execution": {
          "iopub.execute_input": "2022-07-29T12:28:24.476194Z",
          "iopub.status.busy": "2022-07-29T12:28:24.475782Z",
          "iopub.status.idle": "2022-07-29T12:28:24.480338Z",
          "shell.execute_reply": "2022-07-29T12:28:24.479718Z"
        },
        "colab": {
          "base_uri": "https://localhost:8080/"
        },
        "id": "KwO9SLXrcqgY",
        "outputId": "c7cb8fa5-88d5-48a0-db38-385151144e02"
      },
      "outputs": [
        {
          "output_type": "stream",
          "name": "stdout",
          "text": [
            "[ 1. 10. -2.  4.  5. -2. 10. 10.]\n"
          ]
        }
      ],
      "source": [
        "a[range(2, 8, 3)] = -2   # same as a[2:8:3] = -2\n",
        "print(a)"
      ]
    },
    {
      "cell_type": "markdown",
      "metadata": {
        "id": "0i9YG1sEcqgY"
      },
      "source": [
        "Even boolean expressions can be used to select part of an array(!)"
      ]
    },
    {
      "cell_type": "code",
      "execution_count": 57,
      "metadata": {
        "execution": {
          "iopub.execute_input": "2022-07-29T12:28:24.484315Z",
          "iopub.status.busy": "2022-07-29T12:28:24.483904Z",
          "iopub.status.idle": "2022-07-29T12:28:24.488170Z",
          "shell.execute_reply": "2022-07-29T12:28:24.487552Z"
        },
        "colab": {
          "base_uri": "https://localhost:8080/"
        },
        "id": "PPwLY9cxcqgY",
        "outputId": "d3908a23-616c-43a5-a491-2b7c1e855aba"
      },
      "outputs": [
        {
          "output_type": "stream",
          "name": "stdout",
          "text": [
            "[-2. -2.]\n"
          ]
        }
      ],
      "source": [
        "print(a[a < 0])  # pick out all negative elements"
      ]
    },
    {
      "cell_type": "code",
      "execution_count": 58,
      "metadata": {
        "execution": {
          "iopub.execute_input": "2022-07-29T12:28:24.492089Z",
          "iopub.status.busy": "2022-07-29T12:28:24.491516Z",
          "iopub.status.idle": "2022-07-29T12:28:24.496009Z",
          "shell.execute_reply": "2022-07-29T12:28:24.495369Z"
        },
        "colab": {
          "base_uri": "https://localhost:8080/"
        },
        "id": "VQarv66_cqgY",
        "outputId": "3be71474-9b75-4556-cf39-dddc763b9dac"
      },
      "outputs": [
        {
          "output_type": "stream",
          "name": "stdout",
          "text": [
            "[ 1. 10. 10.  4.  5. 10. 10. 10.]\n"
          ]
        }
      ],
      "source": [
        "a[a < 0] = a.max()  # if a[i]<0, set a[i]=10\n",
        "print(a)"
      ]
    },
    {
      "cell_type": "markdown",
      "metadata": {
        "id": "GuUzNjNmcqgZ"
      },
      "source": [
        "## 2D arrays\n",
        "When we have a table of numbers,\n",
        "\n",
        "$$\n",
        "\\left\\lbrack\\begin{array}{cccc}\n",
        "0 & 12 & -1 & 5\\cr\n",
        "-1 & -1 & -1 & 0\\cr\n",
        "11 & 5 & 5 & -2\n",
        "\\end{array}\\right\\rbrack\n",
        "$$\n",
        "\n",
        "(i.e. a *matrix*) it is natural to use a two-dimensional array $A_{i, j}$ with one index for the rows and one for the columns:\n",
        "\n",
        "$$\n",
        "A =\n",
        "\\left\\lbrack\\begin{array}{ccc}\n",
        "A_{0,0} & \\cdots &  A_{0,n-1}\\cr\n",
        "\\vdots & \\ddots &  \\vdots\\cr\n",
        "A_{m-1,0} & \\cdots & A_{m-1,n-1}\n",
        "\\end{array}\\right\\rbrack\n",
        "$$\n",
        "\n",
        "Let us recreate this array using NumPy:"
      ]
    },
    {
      "cell_type": "code",
      "execution_count": 59,
      "metadata": {
        "execution": {
          "iopub.execute_input": "2022-07-29T12:28:24.554810Z",
          "iopub.status.busy": "2022-07-29T12:28:24.554318Z",
          "iopub.status.idle": "2022-07-29T12:28:24.560266Z",
          "shell.execute_reply": "2022-07-29T12:28:24.559663Z"
        },
        "colab": {
          "base_uri": "https://localhost:8080/"
        },
        "id": "e1ONjAuPcqgZ",
        "outputId": "6cd4b636-e5ff-4169-9ff7-a2c733f0b23e"
      },
      "outputs": [
        {
          "output_type": "stream",
          "name": "stdout",
          "text": [
            "[[ 0. 12. -1.  5.]\n",
            " [-1. -1. -1.  0.]\n",
            " [11.  5.  5. -2.]]\n"
          ]
        }
      ],
      "source": [
        "A = np.zeros((3, 4))  # we create a 2-dimensional (3 x 4) array filled with zeros\n",
        "\n",
        "A[0, 0] = 0\n",
        "A[1, 0] = -1\n",
        "A[2, 0] = 11\n",
        "\n",
        "A[0, 1] = 12\n",
        "A[1, 1] = -1\n",
        "A[2, 1] = 5\n",
        "\n",
        "A[0, 2] = -1\n",
        "A[1, 2] = -1\n",
        "A[2, 2] = 5\n",
        "\n",
        "# we can also use the same syntax that we used for nested lists\n",
        "\n",
        "A[0][3] = 5\n",
        "A[1][3] = 0\n",
        "A[2][3] = -2\n",
        "\n",
        "print(A)"
      ]
    },
    {
      "cell_type": "markdown",
      "metadata": {
        "id": "HV4h0SwtcqgZ"
      },
      "source": [
        "Next, let us create a nested list and then convert into a 2D array:"
      ]
    },
    {
      "cell_type": "code",
      "execution_count": 60,
      "metadata": {
        "execution": {
          "iopub.execute_input": "2022-07-29T12:28:24.564177Z",
          "iopub.status.busy": "2022-07-29T12:28:24.563762Z",
          "iopub.status.idle": "2022-07-29T12:28:24.568537Z",
          "shell.execute_reply": "2022-07-29T12:28:24.567916Z"
        },
        "colab": {
          "base_uri": "https://localhost:8080/"
        },
        "id": "QDJBRHhIcqgZ",
        "outputId": "af4d55d2-11d4-4592-863e-8558cb0e27e9"
      },
      "outputs": [
        {
          "output_type": "stream",
          "name": "stdout",
          "text": [
            "[[0, 32.0], [10, 50.0], [20, 68.0], [30, 86.0], [40, 104.0], [50, 122.0], [60, 140.0], [70, 158.0], [80, 176.0], [90, 194.0], [100, 212.0]]\n"
          ]
        }
      ],
      "source": [
        "Cdegrees = range(0, 101, 10)\n",
        "Fdegrees = [9/5*C + 32 for C in Cdegrees]\n",
        "table = [[C, F] for C, F in zip(Cdegrees, Fdegrees)]  # create a nested list\n",
        "print(table)"
      ]
    },
    {
      "cell_type": "code",
      "execution_count": 61,
      "metadata": {
        "execution": {
          "iopub.execute_input": "2022-07-29T12:28:24.572406Z",
          "iopub.status.busy": "2022-07-29T12:28:24.571909Z",
          "iopub.status.idle": "2022-07-29T12:28:24.576337Z",
          "shell.execute_reply": "2022-07-29T12:28:24.575748Z"
        },
        "colab": {
          "base_uri": "https://localhost:8080/"
        },
        "id": "LG0LLZHacqgZ",
        "outputId": "ade40443-87d4-4641-97b0-aefb76048a47"
      },
      "outputs": [
        {
          "output_type": "stream",
          "name": "stdout",
          "text": [
            "[[  0.  32.]\n",
            " [ 10.  50.]\n",
            " [ 20.  68.]\n",
            " [ 30.  86.]\n",
            " [ 40. 104.]\n",
            " [ 50. 122.]\n",
            " [ 60. 140.]\n",
            " [ 70. 158.]\n",
            " [ 80. 176.]\n",
            " [ 90. 194.]\n",
            " [100. 212.]]\n"
          ]
        }
      ],
      "source": [
        "# Convert this nested list into a NumPy array:\n",
        "table2 = np.array(table)\n",
        "print(table2)"
      ]
    },
    {
      "cell_type": "markdown",
      "metadata": {
        "id": "9XTG8hs-cqgZ"
      },
      "source": [
        "To see the number of elements in each dimension we ask for array's `shape`:"
      ]
    },
    {
      "cell_type": "code",
      "execution_count": 62,
      "metadata": {
        "execution": {
          "iopub.execute_input": "2022-07-29T12:28:24.580102Z",
          "iopub.status.busy": "2022-07-29T12:28:24.579766Z",
          "iopub.status.idle": "2022-07-29T12:28:24.583819Z",
          "shell.execute_reply": "2022-07-29T12:28:24.583212Z"
        },
        "colab": {
          "base_uri": "https://localhost:8080/"
        },
        "id": "FIK7Ij7WcqgZ",
        "outputId": "d2820321-8db4-46dd-e833-2c923e4921e3"
      },
      "outputs": [
        {
          "output_type": "stream",
          "name": "stdout",
          "text": [
            "(11, 2)\n"
          ]
        }
      ],
      "source": [
        "print(table2.shape)"
      ]
    },
    {
      "cell_type": "markdown",
      "metadata": {
        "id": "ooAjxh-5cqgZ"
      },
      "source": [
        "i.e. our table has 11 rows and 2 columns.\n",
        "\n",
        "Let us write a loop over all array elements of A:"
      ]
    },
    {
      "cell_type": "code",
      "execution_count": 63,
      "metadata": {
        "execution": {
          "iopub.execute_input": "2022-07-29T12:28:24.586593Z",
          "iopub.status.busy": "2022-07-29T12:28:24.586113Z",
          "iopub.status.idle": "2022-07-29T12:28:24.609398Z",
          "shell.execute_reply": "2022-07-29T12:28:24.608993Z"
        },
        "colab": {
          "base_uri": "https://localhost:8080/"
        },
        "id": "M7SigtcDcqgZ",
        "outputId": "fc261c53-54b8-44bb-d834-c26f82d0ad6f"
      },
      "outputs": [
        {
          "output_type": "stream",
          "name": "stdout",
          "text": [
            "table2[0, 0] = 0.0\n",
            "table2[0, 1] = 32.0\n",
            "table2[1, 0] = 10.0\n",
            "table2[1, 1] = 50.0\n",
            "table2[2, 0] = 20.0\n",
            "table2[2, 1] = 68.0\n",
            "table2[3, 0] = 30.0\n",
            "table2[3, 1] = 86.0\n",
            "table2[4, 0] = 40.0\n",
            "table2[4, 1] = 104.0\n",
            "table2[5, 0] = 50.0\n",
            "table2[5, 1] = 122.0\n",
            "table2[6, 0] = 60.0\n",
            "table2[6, 1] = 140.0\n",
            "table2[7, 0] = 70.0\n",
            "table2[7, 1] = 158.0\n",
            "table2[8, 0] = 80.0\n",
            "table2[8, 1] = 176.0\n",
            "table2[9, 0] = 90.0\n",
            "table2[9, 1] = 194.0\n",
            "table2[10, 0] = 100.0\n",
            "table2[10, 1] = 212.0\n"
          ]
        }
      ],
      "source": [
        "for i in range(table2.shape[0]):\n",
        "    for j in range(table2.shape[1]):\n",
        "        print(f\"table2[{i}, {j}] = {table2[i, j]}\")"
      ]
    },
    {
      "cell_type": "markdown",
      "metadata": {
        "id": "EiSrDsqKcqgZ"
      },
      "source": [
        "Alternatively:"
      ]
    },
    {
      "cell_type": "code",
      "execution_count": 64,
      "metadata": {
        "execution": {
          "iopub.execute_input": "2022-07-29T12:28:24.622067Z",
          "iopub.status.busy": "2022-07-29T12:28:24.621515Z",
          "iopub.status.idle": "2022-07-29T12:28:24.648299Z",
          "shell.execute_reply": "2022-07-29T12:28:24.647843Z"
        },
        "colab": {
          "base_uri": "https://localhost:8080/"
        },
        "id": "g9uH2XIycqgZ",
        "outputId": "8558e04b-c256-4bec-b72d-29119366f781"
      },
      "outputs": [
        {
          "output_type": "stream",
          "name": "stdout",
          "text": [
            "index (0, 0) has value 0.0\n",
            "index (0, 1) has value 32.0\n",
            "index (1, 0) has value 10.0\n",
            "index (1, 1) has value 50.0\n",
            "index (2, 0) has value 20.0\n",
            "index (2, 1) has value 68.0\n",
            "index (3, 0) has value 30.0\n",
            "index (3, 1) has value 86.0\n",
            "index (4, 0) has value 40.0\n",
            "index (4, 1) has value 104.0\n",
            "index (5, 0) has value 50.0\n",
            "index (5, 1) has value 122.0\n",
            "index (6, 0) has value 60.0\n",
            "index (6, 1) has value 140.0\n",
            "index (7, 0) has value 70.0\n",
            "index (7, 1) has value 158.0\n",
            "index (8, 0) has value 80.0\n",
            "index (8, 1) has value 176.0\n",
            "index (9, 0) has value 90.0\n",
            "index (9, 1) has value 194.0\n",
            "index (10, 0) has value 100.0\n",
            "index (10, 1) has value 212.0\n"
          ]
        }
      ],
      "source": [
        "for index_tuple, value in np.ndenumerate(table2):\n",
        "    print(f\"index {index_tuple} has value {value}\")"
      ]
    },
    {
      "cell_type": "markdown",
      "metadata": {
        "id": "YebejXm-cqga"
      },
      "source": [
        "We can also extract slices from multi-dimensional arrays as before. For example, extract the second column:"
      ]
    },
    {
      "cell_type": "code",
      "execution_count": 65,
      "metadata": {
        "execution": {
          "iopub.execute_input": "2022-07-29T12:28:24.662198Z",
          "iopub.status.busy": "2022-07-29T12:28:24.661552Z",
          "iopub.status.idle": "2022-07-29T12:28:24.668925Z",
          "shell.execute_reply": "2022-07-29T12:28:24.668370Z"
        },
        "colab": {
          "base_uri": "https://localhost:8080/"
        },
        "id": "8anM-GjXcqga",
        "outputId": "520cb332-4bb7-4791-f1b5-21d17dde1a8f"
      },
      "outputs": [
        {
          "output_type": "stream",
          "name": "stdout",
          "text": [
            "[ 32.  50.  68.  86. 104. 122. 140. 158. 176. 194. 212.]\n"
          ]
        }
      ],
      "source": [
        "print(table2[:, 1])  # 2nd column (index 1)"
      ]
    },
    {
      "cell_type": "markdown",
      "metadata": {
        "id": "bCeTeOiYcqga"
      },
      "source": [
        "Play with this more complicated example:"
      ]
    },
    {
      "cell_type": "code",
      "execution_count": 66,
      "metadata": {
        "execution": {
          "iopub.execute_input": "2022-07-29T12:28:24.671864Z",
          "iopub.status.busy": "2022-07-29T12:28:24.671646Z",
          "iopub.status.idle": "2022-07-29T12:28:24.677161Z",
          "shell.execute_reply": "2022-07-29T12:28:24.676675Z"
        },
        "colab": {
          "base_uri": "https://localhost:8080/"
        },
        "id": "Jxc6fcjDcqga",
        "outputId": "bb876b21-a6eb-45fd-fdc8-db65e895ae0c"
      },
      "outputs": [
        {
          "output_type": "stream",
          "name": "stdout",
          "text": [
            "[[ 1.  2.  3.  4.  5.  6.]\n",
            " [ 7.  8.  9. 10. 11. 12.]\n",
            " [13. 14. 15. 16. 17. 18.]\n",
            " [19. 20. 21. 22. 23. 24.]\n",
            " [25. 26. 27. 28. 29. 30.]]\n"
          ]
        }
      ],
      "source": [
        "t = np.linspace(1, 30, 30).reshape(5, 6)\n",
        "print(t)"
      ]
    },
    {
      "cell_type": "code",
      "execution_count": 67,
      "metadata": {
        "execution": {
          "iopub.execute_input": "2022-07-29T12:28:24.680923Z",
          "iopub.status.busy": "2022-07-29T12:28:24.680710Z",
          "iopub.status.idle": "2022-07-29T12:28:24.686973Z",
          "shell.execute_reply": "2022-07-29T12:28:24.686369Z"
        },
        "colab": {
          "base_uri": "https://localhost:8080/"
        },
        "id": "6Ev2KPlycqga",
        "outputId": "bf974a69-40ed-4f7f-df6d-77a8853a0268"
      },
      "outputs": [
        {
          "output_type": "stream",
          "name": "stdout",
          "text": [
            "[[ 9. 10. 11. 12.]\n",
            " [21. 22. 23. 24.]]\n"
          ]
        }
      ],
      "source": [
        "print(t[1:-1:2, 2:])"
      ]
    },
    {
      "cell_type": "code",
      "execution_count": 67,
      "metadata": {
        "id": "myfH_EOycqgb"
      },
      "outputs": [],
      "source": []
    }
  ],
  "metadata": {
    "celltoolbar": "Tags",
    "kernelspec": {
      "display_name": "Python 3 (ipykernel)",
      "language": "python",
      "name": "python3"
    },
    "language_info": {
      "codemirror_mode": {
        "name": "ipython",
        "version": 3
      },
      "file_extension": ".py",
      "mimetype": "text/x-python",
      "name": "python",
      "nbconvert_exporter": "python",
      "pygments_lexer": "ipython3",
      "version": "3.9.13"
    },
    "colab": {
      "provenance": [],
      "include_colab_link": true
    }
  },
  "nbformat": 4,
  "nbformat_minor": 0
}