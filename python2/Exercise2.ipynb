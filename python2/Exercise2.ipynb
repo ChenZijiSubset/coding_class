{
  "nbformat": 4,
  "nbformat_minor": 0,
  "metadata": {
    "colab": {
      "provenance": [],
      "authorship_tag": "ABX9TyN80w4JuJMcBPP1zCFOWB1u",
      "include_colab_link": true
    },
    "kernelspec": {
      "name": "python3",
      "display_name": "Python 3"
    },
    "language_info": {
      "name": "python"
    }
  },
  "cells": [
    {
      "cell_type": "markdown",
      "metadata": {
        "id": "view-in-github",
        "colab_type": "text"
      },
      "source": [
        "<a href=\"https://colab.research.google.com/github/ChenZijiSubset/coding_class/blob/main/Exercise2.ipynb\" target=\"_parent\"><img src=\"https://colab.research.google.com/assets/colab-badge.svg\" alt=\"Open In Colab\"/></a>"
      ]
    },
    {
      "cell_type": "markdown",
      "source": [
        "## Exercise 2.1: Make a table (a list of lists) of function values\n",
        "\n",
        "* Write a loop that evaluates the expression $y(t) = v_0 t − {1\\over2}gt^2$ for 11 evenly spaced $t$ values ranging from $0$, to $2v_0/g$ (remember that dividing a range into $n$ intervals results in $n+1$ values). You can assume that $v_0 = 1\\,$ms$^{-1}$ and $g = 9.81\\,$ms$^{-2}$.\n",
        "* Store the time values and displacement ($y$) values as a nested list, i.e.\n",
        "```python\n",
        "tlist = [t0, t1, t2, ...]\n",
        "ylist = [y0, y1, y2, ...]\n",
        "displacement = [tlist, ylist]\n",
        "```\n",
        "* Use the variable names `tlist`, `ylist` and `displacement` as illustrated in the above example for testing purposes."
      ],
      "metadata": {
        "id": "QX6kBvVZdCGD"
      }
    },
    {
      "cell_type": "code",
      "execution_count": 8,
      "metadata": {
        "id": "GP4IsCiWdBhs"
      },
      "outputs": [],
      "source": [
        "# Uncomment and modify the following lines. Do not change variable names for testing purposes.\n",
        "# def y(v0, tlist):\n",
        "# #....\n",
        "#     return y\n",
        "\n",
        "# v0 = 1\n",
        "# g = 9.81\n",
        "\n",
        "\n",
        "# ylist = y(v0, tlist)\n",
        "\n",
        "# displacement = [tlist, ylist]"
      ]
    },
    {
      "cell_type": "code",
      "source": [
        "# displacement"
      ],
      "metadata": {
        "id": "xMwQ4GtSfNdU"
      },
      "execution_count": 9,
      "outputs": []
    },
    {
      "cell_type": "markdown",
      "source": [
        "## Exercise 2.2: Express a step (Heaviside) function as a Python function\n",
        "The following \"step\" function is known as the Heaviside function and it is widely used in mathematics:\n",
        "$$\n",
        "H(x)=\n",
        "\\begin{cases}\n",
        "    0, & \\text{if}\\; x < 0\\\\\n",
        "    1, & \\text{if}\\; x \\ge 0.\n",
        "\\end{cases}\n",
        "$$\n",
        "Write a Python function `heaviside(x)` that computes $H(x)$."
      ],
      "metadata": {
        "id": "340gEcB_dPjf"
      }
    },
    {
      "cell_type": "code",
      "source": [
        "# Uncomment and modify the following lines. Do not change variable names for testing purposes.\n",
        "\n",
        "# def heaviside(x):\n",
        "#     ..."
      ],
      "metadata": {
        "id": "kH8dAKjjdQPP"
      },
      "execution_count": 10,
      "outputs": []
    },
    {
      "cell_type": "code",
      "source": [
        "# heaviside(100)"
      ],
      "metadata": {
        "id": "TdUldSSFfWVy"
      },
      "execution_count": 11,
      "outputs": []
    },
    {
      "cell_type": "code",
      "source": [
        "# heaviside(-100)"
      ],
      "metadata": {
        "id": "bnYlKA3nfaL6"
      },
      "execution_count": 12,
      "outputs": []
    },
    {
      "cell_type": "markdown",
      "source": [
        "## Exercise 2.3: Implement the factorial function\n",
        "\n",
        "The factorial of $n$, written as $n!$, is defined as\n",
        "\n",
        "$$n! = n(n − 1)(n − 2) \\cdot \\ldots \\cdot 2 \\cdot 1,$$\n",
        "\n",
        "with the special cases\n",
        "\n",
        "$$1! = 1,$$ $$0! = 1.$$\n",
        "\n",
        "For example, $4! = 4 \\cdot 3 \\cdot 2 \\cdot 1 = 24$, and $2! = 2 \\cdot 1 = 2$.\n",
        "\n",
        "Implement your own factorial function to calculate $n!$. Return $1$ immediately if $n$ is $1$ or $0$; otherwise use a loop to compute $n!$. You can use Python's own [math.factorial(x)](https://docs.python.org/3/library/math.html) to check your code."
      ],
      "metadata": {
        "id": "7SNxd-JzdXD-"
      }
    },
    {
      "cell_type": "code",
      "source": [
        "# Uncomment and complete this code - keep the names the same for testing purposes.\n",
        "# def my_factorial(n):\n",
        "#...\n",
        "    # return tmp"
      ],
      "metadata": {
        "id": "9Q0p3b2ddXri"
      },
      "execution_count": 13,
      "outputs": []
    },
    {
      "cell_type": "code",
      "source": [
        "# my_factorial(10)"
      ],
      "metadata": {
        "id": "Yq0n9xvMfjaQ"
      },
      "execution_count": 14,
      "outputs": []
    }
  ]
}
