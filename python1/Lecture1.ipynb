{
  "cells": [
    {
      "cell_type": "markdown",
      "metadata": {
        "id": "VXA3oWlBDJjp"
      },
      "source": [
        "# Introduction to Python\n",
        "\n",
        "# Lecture 1: Hello world, conditional expressions, loops, and lists"
      ]
    },
    {
      "cell_type": "markdown",
      "metadata": {
        "id": "ymdKki_fDJjp"
      },
      "source": [
        "## Learning objectives:\n",
        "\n",
        "At the end of this lecture, you will:\n",
        "\n",
        "* Execute Python *statements* from within Google Colab notebook.\n",
        "* Explain what a *variable* is and express a mathematical formula in code.\n",
        "* Print program outputs.\n",
        "* Access mathematical functions from a Python module.\n",
        "* Write your own *function*.\n",
        "* Form a *condition* using a *boolean expression*.\n",
        "* Use a conditional expression in combination with a `while`-loop to perform repetitive tasks.\n",
        "* Store data elements within a Python `list`.\n",
        "* Use a `for`-loop to iterate, and perform some task over a sequence of elements."
      ]
    },
    {
      "cell_type": "markdown",
      "metadata": {
        "id": "d4ROYtMEDJjq"
      },
      "source": [
        "## Programming a mathematical formula\n",
        "\n",
        "Here is a formula for the position of a ball, $y(t)$, in vertical motion, starting at ground level (i.e. at $y=0$) at time $t=0$:\n",
        "\n",
        "$$ y(t) = v_{0}t- \\frac{1}{2}gt^2, $$\n",
        "\n",
        "where:\n",
        "\n",
        "* $y(t)$ is the height (position) as a function of time $t$,\n",
        "* $v_0$ is the initial velocity (at $t=0$), and\n",
        "* $g$ is the acceleration due to gravity.\n",
        "\n",
        "The computational task we want to solve is: given the values of $v_0$, $g$, and $t$, compute the height $y$."
      ]
    },
    {
      "cell_type": "markdown",
      "metadata": {
        "id": "0Z6A5S_1DJjq"
      },
      "source": [
        "**How do we program this task?** A program is a sequence of instructions given to the computer. However, while a programming language is much **simpler** than a natural language, it is more **pedantic**. Programs must have correct syntax, i.e. correct use of the computer language grammar rules, and no misprints.\n",
        "\n",
        "So let us execute a Python statement based on this example to evaluate $y(t) = v_0t- \\frac{1}{2}gt^2$ for $v_0 = 5 \\,\\text{ms}^{-1}$, $g = 9.81 \\,\\text{ms}^{-2}$ and $t = 0.6 \\,\\text{s}$. If you were doing this on paper, you would probably write something like this: $$y = 5\\cdot 0.6 - \\frac{1}{2}\\cdot 9.81 \\cdot 0.6^2.$$ Happily, writing this in Python is very similar:"
      ]
    },
    {
      "cell_type": "code",
      "execution_count": 23,
      "metadata": {
        "execution": {
          "iopub.execute_input": "2022-07-29T12:28:19.191379Z",
          "iopub.status.busy": "2022-07-29T12:28:19.191045Z",
          "iopub.status.idle": "2022-07-29T12:28:19.195392Z",
          "shell.execute_reply": "2022-07-29T12:28:19.194756Z"
        },
        "tags": [],
        "colab": {
          "base_uri": "https://localhost:8080/"
        },
        "id": "C-6d-a_6DJjq",
        "outputId": "d975920c-f353-4c66-ad9a-df54a4c6a17b"
      },
      "outputs": [
        {
          "output_type": "stream",
          "name": "stdout",
          "text": [
            "1.2342\n"
          ]
        }
      ],
      "source": [
        "# Comment: This is a 'code' cell within Jupyter notebook.\n",
        "# Press Shift-Enter to execute the code within it,\n",
        "# or click 'Run' in the Jupyter toolbar above.\n",
        "\n",
        "print(5*0.6 - 0.5*9.81*0.6**2)"
      ]
    },
    {
      "cell_type": "markdown",
      "metadata": {
        "id": "hfjM_utBDJjq"
      },
      "source": [
        "You probably noticed that, in the code cell we just wrote, the first few lines start with the hash (`#`) character. In Python, we use `#` to tell the Python interpreter to ignore everything that comes after `#`. We call those lines **comments**, and we write them to help us (humans) understand the code. Besides, we used `print` and we enclosed our calculation within parentheses to display the output. We will explain *comments* and *print function* in more detail later."
      ]
    },
    {
      "cell_type": "markdown",
      "metadata": {
        "id": "0fqD6wWVDJjq"
      },
      "source": [
        "## Exercise 1.1 during lecture: Open a code cell and write some code.\n"
      ]
    },
    {
      "cell_type": "code",
      "execution_count": 24,
      "metadata": {
        "colab": {
          "base_uri": "https://localhost:8080/"
        },
        "id": "EBSXrGJ3DJjq",
        "outputId": "293aa53c-c3f2-4292-b907-8497900637ff"
      },
      "outputs": [
        {
          "output_type": "stream",
          "name": "stdout",
          "text": [
            "1.2342\n"
          ]
        }
      ],
      "source": [
        "print(5*0.6 - 0.5*9.81*0.6**2)"
      ]
    },
    {
      "cell_type": "markdown",
      "metadata": {
        "id": "7NX0xuTSDJjq"
      },
      "source": [
        "## Storing numbers in variables\n",
        "\n",
        "From mathematics, you are already familiar with *variables* (e.g. $v_0 = 5$, $g = 9.81$, $t = 0.6$, $y = v_0t - \\frac{1}{2}gt^2$), and know how important they are for working out complicated problems. Similarly, you can use variables in a program to make it easier to read and understand."
      ]
    },
    {
      "cell_type": "code",
      "execution_count": 25,
      "metadata": {
        "execution": {
          "iopub.execute_input": "2022-07-29T12:28:19.208225Z",
          "iopub.status.busy": "2022-07-29T12:28:19.208023Z",
          "iopub.status.idle": "2022-07-29T12:28:19.212078Z",
          "shell.execute_reply": "2022-07-29T12:28:19.211454Z"
        },
        "tags": [],
        "colab": {
          "base_uri": "https://localhost:8080/"
        },
        "id": "gjKCV5nWDJjq",
        "outputId": "24d34e08-f70a-4286-d224-1d6db12d4981"
      },
      "outputs": [
        {
          "output_type": "stream",
          "name": "stdout",
          "text": [
            "1.2342\n"
          ]
        }
      ],
      "source": [
        "v0 = 5\n",
        "g = 9.81\n",
        "t = 0.6\n",
        "y = v0*t - 0.5*g*t**2\n",
        "print(y)"
      ]
    },
    {
      "cell_type": "markdown",
      "metadata": {
        "id": "I_Q63IV5DJjq"
      },
      "source": [
        "This program performs the same calculations as the previous one and gives the same output. However, this program spans several lines and uses variables.\n",
        "\n",
        "We usually use one letter for a variable in mathematics, resorting to using the Greek alphabet and other characters for more clarity. The main reason for this is to avoid becoming exhausted from writing when working out long expressions or derivations. However, when programming, you should use more descriptive names for variables. This might not seem like an important consideration for the trivial example here. Still, it becomes increasingly important as the program gets more complicated and if someone else has to read your code."
      ]
    },
    {
      "cell_type": "markdown",
      "metadata": {
        "id": "9ZNnyIH4DJjq"
      },
      "source": [
        "### Good variable names make a program easier to understand!\n",
        "\n",
        "Python *allows* variable names to include:\n",
        "* lowercase `a-z`, uppercase `A-Z`, underscore (`_`), and digits `0-9`, **but** the name cannot start with a digit or contain a whitespace.\n",
        "* \"textlike\" [Unicode](http://www.unicode.org/) characters from other languages are also allowed.\n",
        "\n",
        "Variable names are case-sensitive (strictly, character sensitive, i.e. `a` is different from `A`).\n",
        "\n",
        "**Good** variable names are often:\n",
        "* standard one-letter symbols,\n",
        "* words or abbreviations of words,\n",
        "* phrases joined together in [snake_case](https://en.wikipedia.org/wiki/Snake_case) or [camelCase](https://en.wikipedia.org/wiki/Camel_case).\n",
        "\n",
        "Let us rewrite the previous example using more descriptive variable names:"
      ]
    },
    {
      "cell_type": "code",
      "execution_count": 26,
      "metadata": {
        "execution": {
          "iopub.execute_input": "2022-07-29T12:28:19.216592Z",
          "iopub.status.busy": "2022-07-29T12:28:19.216390Z",
          "iopub.status.idle": "2022-07-29T12:28:19.220483Z",
          "shell.execute_reply": "2022-07-29T12:28:19.219859Z"
        },
        "tags": [],
        "colab": {
          "base_uri": "https://localhost:8080/"
        },
        "id": "fQ8J1qseDJjq",
        "outputId": "b1374c79-1250-42b0-b52c-7dc321cc576e"
      },
      "outputs": [
        {
          "output_type": "stream",
          "name": "stdout",
          "text": [
            "1.2342\n"
          ]
        }
      ],
      "source": [
        "initial_velocity = 5\n",
        "acceleration_of_gravity = 9.81\n",
        "TIME = 0.6\n",
        "VerticalPositionOfBall = initial_velocity*TIME - 0.5*acceleration_of_gravity*TIME**2\n",
        "print(VerticalPositionOfBall)"
      ]
    },
    {
      "cell_type": "markdown",
      "metadata": {
        "id": "dLaWNjjYDJjr"
      },
      "source": [
        "In Python, you can check if the name you would like to give to your variable is valid or not, i.e. check if it is a valid identifier. To do that, you can enclose the variable name in quotes (to form a string literal) and call its `isidentifier()` method:"
      ]
    },
    {
      "cell_type": "code",
      "execution_count": 27,
      "metadata": {
        "execution": {
          "iopub.execute_input": "2022-07-29T12:28:19.224856Z",
          "iopub.status.busy": "2022-07-29T12:28:19.224656Z",
          "iopub.status.idle": "2022-07-29T12:28:19.230835Z",
          "shell.execute_reply": "2022-07-29T12:28:19.230207Z"
        },
        "colab": {
          "base_uri": "https://localhost:8080/"
        },
        "id": "VZxcyYg3DJjr",
        "outputId": "9f88e5b4-9c12-452e-e1c4-04c40d950421"
      },
      "outputs": [
        {
          "output_type": "stream",
          "name": "stdout",
          "text": [
            "True\n",
            "True\n",
            "False\n"
          ]
        }
      ],
      "source": [
        "print(\"initial_velocity\".isidentifier())  # snake_case-style variable name\n",
        "print(\"InitialVelocity\".isidentifier())  # CamelCase-style variable name\n",
        "print(\"initial velocity\".isidentifier())  # variable name contains space"
      ]
    },
    {
      "cell_type": "markdown",
      "metadata": {
        "id": "GOOw_axgDJjr"
      },
      "source": [
        "Certain words have a **special meaning** in Python and **cannot be used as variable names**. We refer to them as **keywords**, and in Python 3.9 they are:\n",
        "\n",
        "`and`, `as`, `assert`, `async`, `await`, `break`, `class`, `continue`, `def`, `del`, `elif`, `else`, `except`, `finally`, `for`, `from`, `global`, `if`, `import`, `in`, `is`, `lambda`, `nonlocal`, `not`, `or`, `pass`, `raise`, `return`, `try`, `while`, `with`, and `yield`.\n",
        "\n",
        "Similarly, `True`, `False`, and `None` are keywords we use for the values of variables, and we cannot use them for variable names. Keywords are very important in programming and, in these lectures, we will learn how to use some of them.\n",
        "\n",
        "Finally, Python has some \"builtin\" functions which are always available. While Python will let you do it, it is usually a bad idea to use these names, since this would *overshadow* the builtin function and prevent us from calling it. The full list of builtin functions in Python 3.9 is `abs()`, `aiter()`, `all()`, `any()`, `anext()`, `ascii()`, `bin()`, `bool()`, `breakpoint()`, `bytearray()`, `bytes()`, `callable()`, `chr()`, `classmethod()`, `compile()`, `complex()`, `delattr()`, `dict()`, `dir()`, `divmod()`, `enumerate()`, `eval()`, `exec()`, `filter()`, `float()`, `format()`, `frozenset()`, `getattr()`, `globals()`, `hasattr()`, `hash()`, `help()`, `hex()`, `id()`, `input()`, `int()`, `isinstance()`, `issubclass()`, `iter()`, `len()`, `list()`, `locals()`, `map()`, `max()`, `memoryview()`, `min()`, `next()`, `object()`, `oct()`, `open()`, `ord()`, `pow()`, `print()`, `property()`, `range()`, `repr()`, `reversed()`, `round()`, `set()`, `setattr()`, `slice()`, `sorted()`, `staticmethod()`, `str()`, `sum()`, `super()`, `tuple()`, `type()`, `vars()`, and  `zip()`.\n",
        "\n",
        "Please note that the list of keywords and builtins may differ between different Python versions."
      ]
    },
    {
      "cell_type": "markdown",
      "metadata": {
        "id": "nZIVOA1jDJjr"
      },
      "source": [
        "## Adding comments to code\n",
        "\n",
        "Not everything written in a computer program is intended for execution. In Python, anything on a line after the `#` character is ignored and is known as a **comment**. You can write whatever you want in a comment. Comments are intended to be used to explain what a snippet of code is intended for. It might, for example, explain the objective or provide a reference to the data or algorithm used. This is useful for you when you have to understand your code at some later stage, and indeed for whoever has to read and understand your code later."
      ]
    },
    {
      "cell_type": "code",
      "execution_count": 28,
      "metadata": {
        "execution": {
          "iopub.execute_input": "2022-07-29T12:28:19.238151Z",
          "iopub.status.busy": "2022-07-29T12:28:19.237586Z",
          "iopub.status.idle": "2022-07-29T12:28:19.244289Z",
          "shell.execute_reply": "2022-07-29T12:28:19.243735Z"
        },
        "tags": [],
        "colab": {
          "base_uri": "https://localhost:8080/"
        },
        "id": "19q0PAT_DJjr",
        "outputId": "0568543b-1d43-4673-fa00-251e0677243e"
      },
      "outputs": [
        {
          "output_type": "stream",
          "name": "stdout",
          "text": [
            "1.2342\n"
          ]
        }
      ],
      "source": [
        "# Program for computing the height of a ball in vertical motion.\n",
        "v0 = 5    # Set initial velocity in m/s.\n",
        "g = 9.81  # Set acceleration due to gravity in m/s^2.\n",
        "t = 0.6   # Time at which we want to know the height of the ball in seconds.\n",
        "y = v0*t - 0.5*g*t**2  # Calculate the vertical position.\n",
        "print(y)"
      ]
    },
    {
      "cell_type": "markdown",
      "metadata": {
        "id": "69exlxk_DJjr"
      },
      "source": [
        "## Formatted printing style\n",
        "\n",
        "Often we want to print out results using a combination of text and numbers, e.g. `\"At t=0.6 s, y is 1.23 m\"`. In Python, we can do this using f-strings:"
      ]
    },
    {
      "cell_type": "code",
      "execution_count": 29,
      "metadata": {
        "execution": {
          "iopub.execute_input": "2022-07-29T12:28:19.305522Z",
          "iopub.status.busy": "2022-07-29T12:28:19.305205Z",
          "iopub.status.idle": "2022-07-29T12:28:19.310750Z",
          "shell.execute_reply": "2022-07-29T12:28:19.310223Z"
        },
        "colab": {
          "base_uri": "https://localhost:8080/"
        },
        "id": "r6uLRbUjDJjr",
        "outputId": "0432016e-a995-40a5-90cd-4a5eeef0b643"
      },
      "outputs": [
        {
          "output_type": "stream",
          "name": "stdout",
          "text": [
            "At t=0.6 s, y is 1.2342 m.\n"
          ]
        }
      ],
      "source": [
        "print(f\"At t={t} s, y is {y} m.\")  # f-string method - string literal begins with an f"
      ]
    },
    {
      "cell_type": "markdown",
      "metadata": {
        "id": "WpsDr61tDJjr"
      },
      "source": [
        "We enclose our sentence in (single or double) quotes to denote a string literal and add `f` in front of it to tell Python to replace `{t}` and `{y}` with the values of `t` and `y`, respectively.\n",
        "\n",
        "When printing out floating-point numbers, we should **never** quote numbers to a higher accuracy than they were measured. Python provides a *printf formatting* syntax exactly for this purpose. We can see in the following example where the *format* `g` expresses the floating-point number with the minimum number of significant figures, and the *format* `.2f` specifies that only two digits are printed out after the decimal point. We specify the format inside `{}` and separate it from the variable name with `:`."
      ]
    },
    {
      "cell_type": "code",
      "execution_count": 30,
      "metadata": {
        "execution": {
          "iopub.execute_input": "2022-07-29T12:28:19.313426Z",
          "iopub.status.busy": "2022-07-29T12:28:19.313209Z",
          "iopub.status.idle": "2022-07-29T12:28:19.317091Z",
          "shell.execute_reply": "2022-07-29T12:28:19.316591Z"
        },
        "tags": [],
        "colab": {
          "base_uri": "https://localhost:8080/"
        },
        "id": "NWSdoO9NDJjr",
        "outputId": "7d40d146-4364-40b9-f34f-c01311ce35ee"
      },
      "outputs": [
        {
          "output_type": "stream",
          "name": "stdout",
          "text": [
            "At t=0.6 s, y is 1.23 m.\n"
          ]
        }
      ],
      "source": [
        "print(f\"At t={t:g} s, y is {y:.2f} m.\")  # f-string with specified formatting"
      ]
    },
    {
      "cell_type": "markdown",
      "metadata": {
        "id": "9RY_Kkh_DJjr"
      },
      "source": [
        "Sometimes we want a multi-line output. This is achieved using a triple quotation, i.e. `\"\"\"`:"
      ]
    },
    {
      "cell_type": "code",
      "execution_count": 31,
      "metadata": {
        "execution": {
          "iopub.execute_input": "2022-07-29T12:28:19.319853Z",
          "iopub.status.busy": "2022-07-29T12:28:19.319288Z",
          "iopub.status.idle": "2022-07-29T12:28:19.323588Z",
          "shell.execute_reply": "2022-07-29T12:28:19.322981Z"
        },
        "colab": {
          "base_uri": "https://localhost:8080/"
        },
        "id": "p2jMwyESDJjr",
        "outputId": "3fad8eca-5a72-41a0-c0f6-c39a097497c6"
      },
      "outputs": [
        {
          "output_type": "stream",
          "name": "stdout",
          "text": [
            "At t=0.600000 s, a ball with\n",
            "initial velocity v0=5.000E+00 m/s\n",
            "is located at the height y=1.23 m.\n",
            "\n"
          ]
        }
      ],
      "source": [
        "print(f\"\"\"At t={t:f} s, a ball with\n",
        "initial velocity v0={v0:.3E} m/s\n",
        "is located at the height y={y:.2f} m.\n",
        "\"\"\")"
      ]
    },
    {
      "cell_type": "markdown",
      "metadata": {
        "id": "HG9j2gQhDJjr"
      },
      "source": [
        "Notice in this example we used `f`, `.3E`, and `.2f` to define formats, into which we inserted the values of `t`, `v0`, and `y` respectively. You can find more details about the format specification mini-language in the Python [documentation](https://docs.python.org/3/library/string.html#format-specification-mini-language)."
      ]
    },
    {
      "cell_type": "markdown",
      "metadata": {
        "id": "5Z4_Ny7VDJjr"
      },
      "source": [
        "Instead of using the f-string formatted printing, Python offers another two syntax alternatives: string's `format` method and the `%` operator. Let us have a look at how we can print `\"At t=0.6 s, y is 1.23 m\"` using these two alternative solutions."
      ]
    },
    {
      "cell_type": "code",
      "execution_count": 32,
      "metadata": {
        "execution": {
          "iopub.execute_input": "2022-07-29T12:28:19.326524Z",
          "iopub.status.busy": "2022-07-29T12:28:19.325985Z",
          "iopub.status.idle": "2022-07-29T12:28:19.331246Z",
          "shell.execute_reply": "2022-07-29T12:28:19.330671Z"
        },
        "colab": {
          "base_uri": "https://localhost:8080/"
        },
        "id": "9LymLlkjDJjr",
        "outputId": "6b0d5db1-3396-45b4-b357-72db5a91c392"
      },
      "outputs": [
        {
          "output_type": "stream",
          "name": "stdout",
          "text": [
            "At t=0.6 s, y is 1.23 m.\n",
            "At t=0.6 s, y is 1.23 m.\n"
          ]
        }
      ],
      "source": [
        "print(\"At t={:g} s, y is {:.2f} m.\".format(t, y))  # string's format method\n",
        "print(\"At t=%g s, y is %.2f m.\" % (t, y))  # % operator"
      ]
    },
    {
      "cell_type": "markdown",
      "metadata": {
        "id": "nN_o5GLnDJjs"
      },
      "source": [
        "Notice that we defined slots in a string using curly braces `{}` where we also specified the formatting style in the same way we did before. We inserted the values into the slots by passing them to the `format()` method or by writing them in curly braces.\n",
        "\n",
        "The `%` operator expands out the input tuple place by place (so the first *slot* gets the first element, the second the second, and so on). If there is only one *slot* then using a tuple is optional."
      ]
    },
    {
      "cell_type": "markdown",
      "metadata": {
        "id": "_pe6lq8YDJjs"
      },
      "source": [
        "## How are arithmetic expressions evaluated?\n",
        "Consider the random mathematical expression:\n",
        "\n",
        "$$ \\frac{5}{9} + \\frac{3a^4}{2} $$\n",
        "\n",
        "implemented in Python as `5/9 + 3 * a**4 / 2`. The rules for evaluating the expression are the same as in mathematics: proceed term by term (additions/subtractions) from the left, compute powers first, then multiplication and division. Therefore in this example the order of evaluation will be:\n",
        "\n",
        "1. `r1 = 5/9`\n",
        "2. `r2 = a**4`\n",
        "3. `r3 = 3*r2`\n",
        "4. `r4 = r3/2`\n",
        "5. `r5 = r1 + r4`\n",
        "\n",
        "We use parenthesis to override these default rules. Indeed, many programmers use parenthesis for greater clarity."
      ]
    },
    {
      "cell_type": "markdown",
      "metadata": {
        "id": "YBwxx8eMDJjv"
      },
      "source": [
        "## Standard mathematical functions\n",
        "\n",
        "What if we need to compute $\\sin x$, $\\cos x$, $\\ln x$, $e^x$ etc., in a program? Such functions are available in Python's `math` module. In fact, there is a vast universe of functionality for Python available in modules. We just `import` in whatever we need for the task at hand.\n",
        "\n",
        "In this example, we compute $\\sqrt{2}$ using the `sqrt` function from the `math` module:"
      ]
    },
    {
      "cell_type": "code",
      "execution_count": 33,
      "metadata": {
        "execution": {
          "iopub.execute_input": "2022-07-29T12:28:19.432800Z",
          "iopub.status.busy": "2022-07-29T12:28:19.432286Z",
          "iopub.status.idle": "2022-07-29T12:28:19.438771Z",
          "shell.execute_reply": "2022-07-29T12:28:19.438223Z"
        },
        "tags": [],
        "colab": {
          "base_uri": "https://localhost:8080/"
        },
        "id": "IVn06NVqDJjv",
        "outputId": "863818dc-d240-475f-f3bb-76855a1e25dc"
      },
      "outputs": [
        {
          "output_type": "stream",
          "name": "stdout",
          "text": [
            "1.4142135623730951\n"
          ]
        }
      ],
      "source": [
        "import math\n",
        "\n",
        "# Since we imported library (import math),\n",
        "# we access the sqrt function using math.sqrt.\n",
        "r = math.sqrt(2)\n",
        "print(r)"
      ]
    },
    {
      "cell_type": "markdown",
      "metadata": {
        "id": "r11WM5mQDJjv"
      },
      "source": [
        "or:"
      ]
    },
    {
      "cell_type": "code",
      "execution_count": 34,
      "metadata": {
        "execution": {
          "iopub.execute_input": "2022-07-29T12:28:19.441620Z",
          "iopub.status.busy": "2022-07-29T12:28:19.441203Z",
          "iopub.status.idle": "2022-07-29T12:28:19.445582Z",
          "shell.execute_reply": "2022-07-29T12:28:19.444973Z"
        },
        "tags": [],
        "colab": {
          "base_uri": "https://localhost:8080/"
        },
        "id": "4Y7tmZcJDJjv",
        "outputId": "6b436eaf-8813-479b-d832-681f19c07eed"
      },
      "outputs": [
        {
          "output_type": "stream",
          "name": "stdout",
          "text": [
            "1.4142135623730951\n"
          ]
        }
      ],
      "source": [
        "from math import sqrt\n",
        "\n",
        "# This time, we did not import the entire library -\n",
        "# we imported only sqrt function.\n",
        "# Therefore, we can use it directly.\n",
        "r = sqrt(2)\n",
        "print(r)"
      ]
    },
    {
      "cell_type": "markdown",
      "metadata": {
        "id": "_4OsZMJgDJjw"
      },
      "source": [
        "Let us now have a look at a more complicated expression, such as\n",
        "\n",
        "$$\\sin x \\cos x + 4\\ln x$$"
      ]
    },
    {
      "cell_type": "code",
      "execution_count": 35,
      "metadata": {
        "execution": {
          "iopub.execute_input": "2022-07-29T12:28:19.448327Z",
          "iopub.status.busy": "2022-07-29T12:28:19.447918Z",
          "iopub.status.idle": "2022-07-29T12:28:19.452247Z",
          "shell.execute_reply": "2022-07-29T12:28:19.451742Z"
        },
        "colab": {
          "base_uri": "https://localhost:8080/"
        },
        "id": "FwM561rHDJjw",
        "outputId": "35ef75de-fcc9-4907-d93f-73330dac3b54"
      },
      "outputs": [
        {
          "output_type": "stream",
          "name": "stdout",
          "text": [
            "1.0670178174513938\n"
          ]
        }
      ],
      "source": [
        "from math import sin, cos, log\n",
        "\n",
        "x = 1.2\n",
        "print(sin(x)*cos(x) + 4*log(x))   # log is ln (base e)"
      ]
    },
    {
      "cell_type": "markdown",
      "metadata": {
        "id": "YSKKdlLFDJjw"
      },
      "source": [
        "## Functions\n",
        "\n",
        "We have already used Python functions above, e.g. `sqrt` from the `math` module. In general, a function is a collection of statements we can execute wherever and whenever we want. For example, consider any of the formulae we implemented above.\n",
        "\n",
        "Functions can take any number of inputs (called *arguments* or *parameters*) to produce outputs. Functions help to organise programs, make them more understandable, shorter, and easier to extend. Wouldn't it be nice to implement it just once and then be able to use it again any time you need it, rather than having to write out the whole formula again?\n",
        "\n",
        "For our first example, we will reuse the formula for the position of a ball in a vertical motion, which we have seen earlier."
      ]
    },
    {
      "cell_type": "code",
      "execution_count": 36,
      "metadata": {
        "execution": {
          "iopub.execute_input": "2022-07-29T12:28:19.555801Z",
          "iopub.status.busy": "2022-07-29T12:28:19.555347Z",
          "iopub.status.idle": "2022-07-29T12:28:19.558858Z",
          "shell.execute_reply": "2022-07-29T12:28:19.558226Z"
        },
        "tags": [],
        "id": "OvZwVpmODJjw"
      },
      "outputs": [],
      "source": [
        "def ball_height(v0, t, g=9.81):\n",
        "    \"\"\"Function to calculate and return height of the ball in vertical motion.\n",
        "\n",
        "    Parameters\n",
        "    ----------\n",
        "    v0 : float\n",
        "        Initial velocity (units, m/s).\n",
        "    t : float\n",
        "        Time at which we want to know the height of the ball (units, seconds).\n",
        "    g : float, optional\n",
        "        Acceleration due to gravity (units, m/s^2). By default 9.81 m/s^2.\n",
        "\n",
        "    Returns\n",
        "    -------\n",
        "    float\n",
        "        Height of the ball in metres.\n",
        "\n",
        "    \"\"\"\n",
        "    height = v0*t - 0.5*g*t**2\n",
        "\n",
        "    return height"
      ]
    },
    {
      "cell_type": "markdown",
      "metadata": {
        "id": "fJRlJHCPDJjw"
      },
      "source": [
        "Let us break this example down:\n",
        "* Function *signature* (header):\n",
        "    * Functions start with `def` followed by the name we want to give the function (`ball_height` in this case). Just like with variables, function names must be valid identifiers.\n",
        "    * Following the name, we have parentheses followed by a colon `(...):` containing zero or more function *arguments*.\n",
        "    * In this case, `v0` and `t` are *positional arguments*, while `g` is known as a *keyword argument* (more about this later).\n",
        "* Function *body*:\n",
        "    * The first thing to notice is that the body of the function is indented one level. All code that is indented with respect to `def`-line belongs to a function.\n",
        "    * Best practice is to include a [docstring](https://sphinxcontrib-napoleon.readthedocs.io/en/latest/example_numpy.html) to explain to others (or remind our future self) how to use the function. Docstring is defined as a multi-line string literal (enclosed in triple quotes \"\"\").\n",
        "    * The function output is passed back via the `return` statement.\n",
        "\n",
        "Notice that this just defines the function. Nothing is executed until we actually *call* the function:"
      ]
    },
    {
      "cell_type": "code",
      "execution_count": 37,
      "metadata": {
        "execution": {
          "iopub.execute_input": "2022-07-29T12:28:19.561640Z",
          "iopub.status.busy": "2022-07-29T12:28:19.561300Z",
          "iopub.status.idle": "2022-07-29T12:28:19.567183Z",
          "shell.execute_reply": "2022-07-29T12:28:19.566542Z"
        },
        "tags": [],
        "colab": {
          "base_uri": "https://localhost:8080/"
        },
        "id": "pAU-yfGzDJjw",
        "outputId": "ab498f3c-1c7a-46e3-ffec-541426390c64"
      },
      "outputs": [
        {
          "output_type": "stream",
          "name": "stdout",
          "text": [
            "Ball height: 1.2342 metres.\n"
          ]
        }
      ],
      "source": [
        "# We pass 5 and 0.6 to v0 and t, respectively.\n",
        "# Since we do not pass a value for g,\n",
        "# a default value we defined in function's signature is used.\n",
        "# The value function returns (height) is put in variable h.\n",
        "h = ball_height(5, 0.6)\n",
        "\n",
        "print(f\"Ball height: {h:g} metres.\")"
      ]
    },
    {
      "cell_type": "markdown",
      "metadata": {
        "id": "gC-ICVEgDJjw"
      },
      "source": [
        "No return value implies that `None` is returned. `None` is a special Python object (singleton) that semantically often represents an ”empty” or undefined value. It is surprisingly useful, and we will use it a lot later.\n",
        "\n",
        "Functions can also return multiple values. Let us extend the previous example to calculate the ball's velocity as well as its height:"
      ]
    },
    {
      "cell_type": "code",
      "execution_count": 38,
      "metadata": {
        "execution": {
          "iopub.execute_input": "2022-07-29T12:28:19.570277Z",
          "iopub.status.busy": "2022-07-29T12:28:19.569755Z",
          "iopub.status.idle": "2022-07-29T12:28:19.577988Z",
          "shell.execute_reply": "2022-07-29T12:28:19.577402Z"
        },
        "tags": [],
        "colab": {
          "base_uri": "https://localhost:8080/"
        },
        "id": "IO9EYPvbDJjx",
        "outputId": "c71492ee-601c-41c2-cfb3-ab21d4a5e632"
      },
      "outputs": [
        {
          "output_type": "stream",
          "name": "stdout",
          "text": [
            "Ball height: 1.2342 metres.\n",
            "Ball velocity: -0.886 m/s.\n"
          ]
        }
      ],
      "source": [
        "def ball_height_velocity(v0, t, g=9.81):\n",
        "    \"\"\"Function to calculate ball's height and its velocity.\n",
        "\n",
        "    Parameters\n",
        "    ----------\n",
        "    v0 : float\n",
        "        Initial velocity (units, m/s).\n",
        "    t : float\n",
        "        Time at which we want to know the height of the ball (units, seconds).\n",
        "    g : float, optional\n",
        "        Acceleration due to gravity (units, m/s^2). By default 9.81 m/s^2.\n",
        "\n",
        "    Returns\n",
        "    -------\n",
        "    float\n",
        "        Height of ball in metres.\n",
        "    float\n",
        "        Velocity of ball in m/s.\n",
        "\n",
        "    \"\"\"\n",
        "    height = v0*t - 0.5*g*t**2\n",
        "    velocity = v0 - g*t\n",
        "\n",
        "    return height, velocity\n",
        "\n",
        "\n",
        "# We pass 5 and 0.6 to v0 and t, respectively.\n",
        "# The first value function returns (height) is put into variable h,\n",
        "# whereas the second one (velocity) is placed in v - iterable unpacking.\n",
        "h, v = ball_height_velocity(5, 0.6)\n",
        "\n",
        "print(\"Ball height: %g metres.\" % h)\n",
        "print(\"Ball velocity: %g m/s.\" % v)"
      ]
    },
    {
      "cell_type": "markdown",
      "metadata": {
        "id": "6lukNiEgDJjx"
      },
      "source": [
        "## Scope: Local and global variables\n",
        "\n",
        "Variables defined within a function are said to have *local scope*. That is to say that we can only reference them within that function. Consider the example function defined above where we used the *local* variable *height*. You can see that if you try to print the variable height outside the function, you will get an error.\n",
        "\n",
        "```python\n",
        "print(height)\n",
        "\n",
        "---------------------------------------------------------------------------\n",
        "NameError                                 Traceback (most recent call last)\n",
        "<ipython-input-50-aa6406a13920> in <module>\n",
        "----> 1 print(height)\n",
        "\n",
        "NameError: name 'height' is not defined\n",
        "```"
      ]
    },
    {
      "cell_type": "markdown",
      "metadata": {
        "id": "Y-_Yl9OHDJjx"
      },
      "source": [
        "## Keyword arguments and default input values\n",
        "\n",
        "Besides *positional arguments*, functions can have arguments of the form `argument_name=value` and they are called *keyword arguments*:"
      ]
    },
    {
      "cell_type": "code",
      "execution_count": 39,
      "metadata": {
        "execution": {
          "iopub.execute_input": "2022-07-29T12:28:19.581078Z",
          "iopub.status.busy": "2022-07-29T12:28:19.580648Z",
          "iopub.status.idle": "2022-07-29T12:28:19.585116Z",
          "shell.execute_reply": "2022-07-29T12:28:19.584512Z"
        },
        "tags": [],
        "colab": {
          "base_uri": "https://localhost:8080/"
        },
        "id": "5KnUwKZNDJjx",
        "outputId": "d5ce637c-c9f7-4e40-ca0f-a80d55cf78a1"
      },
      "outputs": [
        {
          "output_type": "stream",
          "name": "stdout",
          "text": [
            "arg1: Hello, arg2: [1, 2], kwarg1: True, kwarg2: 0\n"
          ]
        }
      ],
      "source": [
        "def somefunc(arg1, arg2, kwarg1=True, kwarg2=0):\n",
        "    print(f\"arg1: {arg1}, arg2: {arg2}, kwarg1: {kwarg1}, kwarg2: {kwarg2}\")\n",
        "\n",
        "\n",
        "# Note that we have not specified inputs for kwarg1 and kwarg2.\n",
        "somefunc(\"Hello\", [1, 2])"
      ]
    },
    {
      "cell_type": "code",
      "execution_count": 40,
      "metadata": {
        "execution": {
          "iopub.execute_input": "2022-07-29T12:28:19.588648Z",
          "iopub.status.busy": "2022-07-29T12:28:19.588448Z",
          "iopub.status.idle": "2022-07-29T12:28:19.592315Z",
          "shell.execute_reply": "2022-07-29T12:28:19.591691Z"
        },
        "colab": {
          "base_uri": "https://localhost:8080/"
        },
        "id": "qn_kGUK8DJjx",
        "outputId": "8365b07d-29fb-49b6-8e02-247a7a710384"
      },
      "outputs": [
        {
          "output_type": "stream",
          "name": "stdout",
          "text": [
            "arg1: Hello, arg2: [1, 2], kwarg1: Hi, kwarg2: 0\n"
          ]
        }
      ],
      "source": [
        "# Note that we replace the default value for kwarg1.\n",
        "somefunc(\"Hello\", [1, 2], kwarg1=\"Hi\")"
      ]
    },
    {
      "cell_type": "code",
      "execution_count": 41,
      "metadata": {
        "execution": {
          "iopub.execute_input": "2022-07-29T12:28:19.596436Z",
          "iopub.status.busy": "2022-07-29T12:28:19.596236Z",
          "iopub.status.idle": "2022-07-29T12:28:19.600078Z",
          "shell.execute_reply": "2022-07-29T12:28:19.599448Z"
        },
        "colab": {
          "base_uri": "https://localhost:8080/"
        },
        "id": "8AW65ccHDJjx",
        "outputId": "5dbb5436-998e-4138-c2f7-8830a0858570"
      },
      "outputs": [
        {
          "output_type": "stream",
          "name": "stdout",
          "text": [
            "arg1: Hello, arg2: [1, 2], kwarg1: True, kwarg2: Hi\n"
          ]
        }
      ],
      "source": [
        "# Note that we replace the default value for kwarg2.\n",
        "somefunc(\"Hello\", [1, 2], kwarg2=\"Hi\")"
      ]
    },
    {
      "cell_type": "code",
      "execution_count": 42,
      "metadata": {
        "execution": {
          "iopub.execute_input": "2022-07-29T12:28:19.604016Z",
          "iopub.status.busy": "2022-07-29T12:28:19.603809Z",
          "iopub.status.idle": "2022-07-29T12:28:19.607511Z",
          "shell.execute_reply": "2022-07-29T12:28:19.607052Z"
        },
        "colab": {
          "base_uri": "https://localhost:8080/"
        },
        "id": "EAHGL0MTDJjx",
        "outputId": "8c737d09-4745-44b0-b849-64e51e7e8d87"
      },
      "outputs": [
        {
          "output_type": "stream",
          "name": "stdout",
          "text": [
            "arg1: Hello, arg2: [1, 2], kwarg1: 6, kwarg2: Hi\n"
          ]
        }
      ],
      "source": [
        "# Here, we replace both default values for keyword arguments kwarg1 and kwarg2.\n",
        "somefunc(\"Hello\", [1, 2], kwarg2=\"Hi\", kwarg1=6)"
      ]
    },
    {
      "cell_type": "markdown",
      "metadata": {
        "id": "m8d9dhWsDJjx"
      },
      "source": [
        "If we use `argument_name=value` for all arguments, their sequence in the function call can be in any order."
      ]
    },
    {
      "cell_type": "code",
      "execution_count": 43,
      "metadata": {
        "execution": {
          "iopub.execute_input": "2022-07-29T12:28:19.610688Z",
          "iopub.status.busy": "2022-07-29T12:28:19.610239Z",
          "iopub.status.idle": "2022-07-29T12:28:19.614591Z",
          "shell.execute_reply": "2022-07-29T12:28:19.613931Z"
        },
        "colab": {
          "base_uri": "https://localhost:8080/"
        },
        "id": "TMv2sUqPDJjx",
        "outputId": "5109fc2b-3dce-4b8f-9835-9582194949b4"
      },
      "outputs": [
        {
          "output_type": "stream",
          "name": "stdout",
          "text": [
            "arg1: Hi, arg2: [2], kwarg1: 6, kwarg2: Hello\n"
          ]
        }
      ],
      "source": [
        "somefunc(kwarg2=\"Hello\", arg1=\"Hi\", kwarg1=6, arg2=[2])"
      ]
    },
    {
      "cell_type": "markdown",
      "metadata": {
        "id": "aP7mRG40DJjy"
      },
      "source": [
        "## Boolean expressions\n",
        "\n",
        "An expression with value `True` or `False` is called a boolean expression. Example expressions for what you would write mathematically as\n",
        "$C = 40$, $C \\ne 40$, $C \\ge 40$, $C \\gt 40$ and $C \\lt 40$ are:\n",
        "\n",
        "```python\n",
        "C == 40  # Note: the double == checks for equality!\n",
        "C != 40  # This could also be written as \"not C == 4\"\n",
        "C >= 40\n",
        "C > 40\n",
        "C < 40\n",
        "```"
      ]
    },
    {
      "cell_type": "markdown",
      "metadata": {
        "id": "udDR-P46DJjy"
      },
      "source": [
        "Let us now test some boolean expressions:"
      ]
    },
    {
      "cell_type": "code",
      "execution_count": 44,
      "metadata": {
        "execution": {
          "iopub.execute_input": "2022-07-29T12:28:19.786100Z",
          "iopub.status.busy": "2022-07-29T12:28:19.785505Z",
          "iopub.status.idle": "2022-07-29T12:28:19.803566Z",
          "shell.execute_reply": "2022-07-29T12:28:19.802987Z"
        },
        "colab": {
          "base_uri": "https://localhost:8080/"
        },
        "id": "IATCf7JhDJjy",
        "outputId": "f9af1824-d9d4-4759-e8c6-f7a393427d1c"
      },
      "outputs": [
        {
          "output_type": "stream",
          "name": "stdout",
          "text": [
            "C != 40:  True\n",
            "C < 40:  False\n",
            "C == 41:  True\n"
          ]
        }
      ],
      "source": [
        "C = 41\n",
        "\n",
        "print(\"C != 40: \", C != 40)\n",
        "print(\"C < 40: \", C < 40)\n",
        "print(\"C == 41: \", C == 41)"
      ]
    },
    {
      "cell_type": "markdown",
      "metadata": {
        "id": "8AgKiwt5DJjy"
      },
      "source": [
        "Several conditions can be combined with keywords `and` and `or` into a single boolean expression:\n",
        "\n",
        "* **Rule 1**: (`C1 and C2`) is `True` only if both `C1` and `C2` are `True`.\n",
        "* **Rule 2**: (`C1 or C2`) is `True` if either `C1` or `C2` are `True`.\n",
        "\n",
        "Examples:"
      ]
    },
    {
      "cell_type": "code",
      "execution_count": 45,
      "metadata": {
        "execution": {
          "iopub.execute_input": "2022-07-29T12:28:19.806654Z",
          "iopub.status.busy": "2022-07-29T12:28:19.806206Z",
          "iopub.status.idle": "2022-07-29T12:28:19.813663Z",
          "shell.execute_reply": "2022-07-29T12:28:19.813061Z"
        },
        "colab": {
          "base_uri": "https://localhost:8080/"
        },
        "id": "GjK5yA69DJjy",
        "outputId": "30e89ad3-0b00-4cd3-908f-21ad2ae66720"
      },
      "outputs": [
        {
          "output_type": "stream",
          "name": "stdout",
          "text": [
            "x >= 0 and y < 1: False\n",
            "x >= 0 or y < 1: True\n"
          ]
        }
      ],
      "source": [
        "x = 0\n",
        "y = 1.2\n",
        "\n",
        "print(\"x >= 0 and y < 1:\", x >= 0 and y < 1)\n",
        "print(\"x >= 0 or y < 1:\", x >= 0 or y < 1)"
      ]
    },
    {
      "cell_type": "markdown",
      "metadata": {
        "id": "XErb2KppDJjy"
      },
      "source": [
        "## Loops\n",
        "Suppose we want to make the following table of Celsius and Fahrenheit degrees:\n",
        "```\n",
        " -20  -4.0\n",
        " -15   5.0\n",
        " -10  14.0\n",
        "  -5  23.0\n",
        "   0  32.0\n",
        "   5  41.0\n",
        "  10  50.0\n",
        "  15  59.0\n",
        "  20  68.0\n",
        "  25  77.0\n",
        "  30  86.0\n",
        "  35  95.0\n",
        "  40 104.0\n",
        "```"
      ]
    },
    {
      "cell_type": "markdown",
      "metadata": {
        "id": "F0q_r0yYDJjy"
      },
      "source": [
        "How do we write a program that prints out such a table? We know that $F = \\frac{9}{5}C + 32$, and a single line in this table is:"
      ]
    },
    {
      "cell_type": "code",
      "execution_count": 46,
      "metadata": {
        "execution": {
          "iopub.execute_input": "2022-07-29T12:28:19.864474Z",
          "iopub.status.busy": "2022-07-29T12:28:19.863839Z",
          "iopub.status.idle": "2022-07-29T12:28:19.871557Z",
          "shell.execute_reply": "2022-07-29T12:28:19.870842Z"
        },
        "colab": {
          "base_uri": "https://localhost:8080/"
        },
        "id": "_IrpiJ5nDJjy",
        "outputId": "01667894-f46e-49ad-dff4-87708b3e9174"
      },
      "outputs": [
        {
          "output_type": "stream",
          "name": "stdout",
          "text": [
            "-20 -4.0\n"
          ]
        }
      ],
      "source": [
        "C = -20\n",
        "F = 9/5*C + 32\n",
        "\n",
        "print(C, F)"
      ]
    },
    {
      "cell_type": "markdown",
      "metadata": {
        "id": "JU9WboCIDJjy"
      },
      "source": [
        "Now, we can just repeat these statements:"
      ]
    },
    {
      "cell_type": "code",
      "execution_count": 47,
      "metadata": {
        "execution": {
          "iopub.execute_input": "2022-07-29T12:28:19.875181Z",
          "iopub.status.busy": "2022-07-29T12:28:19.874599Z",
          "iopub.status.idle": "2022-07-29T12:28:19.911028Z",
          "shell.execute_reply": "2022-07-29T12:28:19.910555Z"
        },
        "colab": {
          "base_uri": "https://localhost:8080/"
        },
        "id": "asTXM6n7DJjy",
        "outputId": "cdc361a0-e99d-4d5a-96d0-354e08283f3d"
      },
      "outputs": [
        {
          "output_type": "stream",
          "name": "stdout",
          "text": [
            "-20 -4.0\n",
            "-15 5.0\n",
            "-10 14.0\n",
            "-5 23.0\n",
            "0 32.0\n",
            "5 41.0\n",
            "10 50.0\n",
            "15 59.0\n",
            "20 68.0\n",
            "25 77.0\n",
            "30 86.0\n",
            "35 95.0\n",
            "40 104.0\n"
          ]
        }
      ],
      "source": [
        "C = -20; F = 9/5*C + 32; print(C, F)\n",
        "C = -15; F = 9/5*C + 32; print(C, F)\n",
        "C = -10; F = 9/5*C + 32; print(C, F)\n",
        "C = -5; F = 9/5*C + 32; print(C, F)\n",
        "C = 0; F = 9/5*C + 32; print(C, F)\n",
        "C = 5; F = 9/5*C + 32; print(C, F)\n",
        "C = 10; F = 9/5*C + 32; print(C, F)\n",
        "C = 15; F = 9/5*C + 32; print(C, F)\n",
        "C = 20; F = 9/5*C + 32; print(C, F)\n",
        "C = 25; F = 9/5*C + 32; print(C, F)\n",
        "C = 30; F = 9/5*C + 32; print(C, F)\n",
        "C = 35; F = 9/5*C + 32; print(C, F)\n",
        "C = 40; F = 9/5*C + 32; print(C, F)"
      ]
    },
    {
      "cell_type": "markdown",
      "metadata": {
        "id": "0DL0jKXkDJjy"
      },
      "source": [
        "We can see that works but it is **very boring** to write and very easy to introduce a misprint.\n",
        "\n",
        "**You really should not be doing boring repetitive tasks like this.** Spend your time instead looking for a smarter solution. When programming becomes boring, there is usually a construct that automates the writing. Computers are very good at performing repetitive tasks. For this purpose we use **loops**."
      ]
    },
    {
      "cell_type": "markdown",
      "metadata": {
        "id": "8_HcUk1gDJjy"
      },
      "source": [
        "## The `while` loop\n",
        "\n",
        "A `while`-loop executes repeatedly a set of statements as long as a boolean `condition` is `True`\n",
        "\n",
        "```python\n",
        "while condition:\n",
        "    <statement 1>\n",
        "    <statement 2>\n",
        "    ...\n",
        "\n",
        "<first statement after the loop>\n",
        "```"
      ]
    },
    {
      "cell_type": "markdown",
      "metadata": {
        "id": "Kc9WtoFtDJjy"
      },
      "source": [
        "Note that all statements to be executed within the loop must be indented by the same amount! The loop ends when an unindented statement is encountered."
      ]
    },
    {
      "cell_type": "markdown",
      "metadata": {
        "id": "98752j7bDJjy"
      },
      "source": [
        "In Python, indentations are very important. For instance, when writing a `while` loop:"
      ]
    },
    {
      "cell_type": "code",
      "execution_count": 48,
      "metadata": {
        "execution": {
          "iopub.execute_input": "2022-07-29T12:28:19.933664Z",
          "iopub.status.busy": "2022-07-29T12:28:19.932998Z",
          "iopub.status.idle": "2022-07-29T12:28:19.937703Z",
          "shell.execute_reply": "2022-07-29T12:28:19.937276Z"
        },
        "colab": {
          "base_uri": "https://localhost:8080/"
        },
        "id": "d9TRppW-DJjy",
        "outputId": "29afd101-7dec-4237-a9e5-a4ea365b5ecd"
      },
      "outputs": [
        {
          "output_type": "stream",
          "name": "stdout",
          "text": [
            "11\n"
          ]
        }
      ],
      "source": [
        "counter = 0\n",
        "while counter <= 10:\n",
        "    counter = counter + 1\n",
        "\n",
        "print(counter)"
      ]
    },
    {
      "cell_type": "markdown",
      "metadata": {
        "id": "VrWD_ocBDJjz"
      },
      "source": [
        "Let us take a look at what happens when we forget to indent correctly:"
      ]
    },
    {
      "cell_type": "markdown",
      "metadata": {
        "id": "giQ52kA7DJjz"
      },
      "source": [
        "```python\n",
        "counter = 0\n",
        "while counter <= 10:\n",
        "counter = counter + 1\n",
        "print(counter)\n",
        "\n",
        "\n",
        "  File \"<ipython-input-86-d8461f52562c>\", line 3\n",
        "    counter = counter + 1\n",
        "    ^\n",
        "IndentationError: expected an indented block\n",
        "```"
      ]
    },
    {
      "cell_type": "markdown",
      "metadata": {
        "id": "2ZOK4X-xDJjz"
      },
      "source": [
        "Let us now use the `while`-loop to create the table above:"
      ]
    },
    {
      "cell_type": "code",
      "execution_count": 49,
      "metadata": {
        "execution": {
          "iopub.execute_input": "2022-07-29T12:28:19.940871Z",
          "iopub.status.busy": "2022-07-29T12:28:19.940667Z",
          "iopub.status.idle": "2022-07-29T12:28:19.959513Z",
          "shell.execute_reply": "2022-07-29T12:28:19.959125Z"
        },
        "tags": [],
        "colab": {
          "base_uri": "https://localhost:8080/"
        },
        "id": "1ioJE3v_DJjz",
        "outputId": "2e924c0e-7ece-4d2f-f43d-d5880819ee30"
      },
      "outputs": [
        {
          "output_type": "stream",
          "name": "stdout",
          "text": [
            "-20 -4.0\n",
            "-15 5.0\n",
            "-10 14.0\n",
            "-5 23.0\n",
            "0 32.0\n",
            "5 41.0\n",
            "10 50.0\n",
            "15 59.0\n",
            "20 68.0\n",
            "25 77.0\n",
            "30 86.0\n",
            "35 95.0\n",
            "40 104.0\n"
          ]
        }
      ],
      "source": [
        "C = -20                 # Initialise C\n",
        "dC = 5                  # Increment for C within the loop\n",
        "while C <= 40:          # Loop heading with condition (C <= 40)\n",
        "    F = (9/5)*C + 32  # 1st statement inside loop\n",
        "    print(C, F)         # 2nd statement inside loop\n",
        "    C = C + dC          # Increment C for the next iteration of the loop."
      ]
    },
    {
      "cell_type": "markdown",
      "metadata": {
        "id": "Jzco1viHDJjz"
      },
      "source": [
        "## Lists\n",
        "So far, one variable has referred to one number (or string). Sometimes, however, we naturally have a collection of numbers, e.g. degrees −20, −15, −10, −5, 0, ..., 40. One way to store these values in a computer program would be to have one variable per value:"
      ]
    },
    {
      "cell_type": "code",
      "execution_count": 50,
      "metadata": {
        "execution": {
          "iopub.execute_input": "2022-07-29T12:28:20.197931Z",
          "iopub.status.busy": "2022-07-29T12:28:20.197719Z",
          "iopub.status.idle": "2022-07-29T12:28:20.202125Z",
          "shell.execute_reply": "2022-07-29T12:28:20.201570Z"
        },
        "tags": [],
        "id": "vHw0V1O_DJjz"
      },
      "outputs": [],
      "source": [
        "C1 = -20\n",
        "C2 = -15\n",
        "C3 = -10\n",
        "...\n",
        "C13 = 40"
      ]
    },
    {
      "cell_type": "markdown",
      "metadata": {
        "id": "qQOEfwY3DJjz"
      },
      "source": [
        "This is clearly a terrible solution, particularly if we have lots of values. A better way of doing this is to collect values together in a list:"
      ]
    },
    {
      "cell_type": "code",
      "execution_count": 51,
      "metadata": {
        "execution": {
          "iopub.execute_input": "2022-07-29T12:28:20.204889Z",
          "iopub.status.busy": "2022-07-29T12:28:20.204684Z",
          "iopub.status.idle": "2022-07-29T12:28:20.208900Z",
          "shell.execute_reply": "2022-07-29T12:28:20.208340Z"
        },
        "id": "CwE6B3LUDJjz"
      },
      "outputs": [],
      "source": [
        "C = [-20, -15, -10, -5, 0, 5, 10, 15, 20, 25, 30, 35, 40]"
      ]
    },
    {
      "cell_type": "markdown",
      "metadata": {
        "id": "iZwWPFjwDJjz"
      },
      "source": [
        "Now, there is just one variable, `C`, holding all the values. We access elements in a list via an index. List indices are always *zero-indexed*, i.e. they are numbered as 0, 1, 2, and so forth up to the number of elements minus one:"
      ]
    },
    {
      "cell_type": "code",
      "execution_count": 52,
      "metadata": {
        "execution": {
          "iopub.execute_input": "2022-07-29T12:28:20.211753Z",
          "iopub.status.busy": "2022-07-29T12:28:20.211528Z",
          "iopub.status.idle": "2022-07-29T12:28:20.224304Z",
          "shell.execute_reply": "2022-07-29T12:28:20.223815Z"
        },
        "tags": [],
        "colab": {
          "base_uri": "https://localhost:8080/"
        },
        "id": "vqg9ftxyDJjz",
        "outputId": "6e70455f-b0ba-4e17-e9f4-37ff2b9051ca"
      },
      "outputs": [
        {
          "output_type": "stream",
          "name": "stdout",
          "text": [
            "First element: 4\n",
            "Second element: 6\n",
            "Third element: -3.5\n"
          ]
        }
      ],
      "source": [
        "mylist = [4, 6, -3.5]\n",
        "print(\"First element:\", mylist[0])\n",
        "print(\"Second element:\", mylist[1])\n",
        "print(\"Third element:\", mylist[2])"
      ]
    },
    {
      "cell_type": "markdown",
      "metadata": {
        "id": "EdaAdn9nDJjz"
      },
      "source": [
        "Here are a few examples of operations that you can perform on lists:"
      ]
    },
    {
      "cell_type": "code",
      "execution_count": 53,
      "metadata": {
        "execution": {
          "iopub.execute_input": "2022-07-29T12:28:20.227091Z",
          "iopub.status.busy": "2022-07-29T12:28:20.226884Z",
          "iopub.status.idle": "2022-07-29T12:28:20.233642Z",
          "shell.execute_reply": "2022-07-29T12:28:20.233088Z"
        },
        "tags": [],
        "colab": {
          "base_uri": "https://localhost:8080/"
        },
        "id": "hb_DO7J3DJjz",
        "outputId": "ed9c7619-b01f-44b9-fdaf-c53e7e73f0e1"
      },
      "outputs": [
        {
          "output_type": "stream",
          "name": "stdout",
          "text": [
            "[-10, -5, 0, 5, 10, 15, 20, 25, 30, 35]\n"
          ]
        }
      ],
      "source": [
        "C = [-10, -5, 0, 5, 10, 15, 20, 25, 30]\n",
        "C.append(35)  # add new element 35 at the end\n",
        "print(C)"
      ]
    },
    {
      "cell_type": "code",
      "execution_count": 54,
      "metadata": {
        "execution": {
          "iopub.execute_input": "2022-07-29T12:28:20.236244Z",
          "iopub.status.busy": "2022-07-29T12:28:20.236046Z",
          "iopub.status.idle": "2022-07-29T12:28:20.241131Z",
          "shell.execute_reply": "2022-07-29T12:28:20.240496Z"
        },
        "tags": [],
        "colab": {
          "base_uri": "https://localhost:8080/"
        },
        "id": "w5ngEJuuDJj0",
        "outputId": "ec81da64-723e-498d-eab6-1c05f67cafef"
      },
      "outputs": [
        {
          "output_type": "stream",
          "name": "stdout",
          "text": [
            "[-10, -5, 0, 5, 10, 15, 20, 25, 30, 35, 40, 45]\n"
          ]
        }
      ],
      "source": [
        "C = C + [40, 45]  # And another list to the end of C\n",
        "print(C)"
      ]
    },
    {
      "cell_type": "code",
      "execution_count": 55,
      "metadata": {
        "execution": {
          "iopub.execute_input": "2022-07-29T12:28:20.244125Z",
          "iopub.status.busy": "2022-07-29T12:28:20.243919Z",
          "iopub.status.idle": "2022-07-29T12:28:20.247850Z",
          "shell.execute_reply": "2022-07-29T12:28:20.247210Z"
        },
        "tags": [],
        "colab": {
          "base_uri": "https://localhost:8080/"
        },
        "id": "N4bV0Gu8DJj0",
        "outputId": "c47ecc9a-3308-49ce-80b4-710be7047f1e"
      },
      "outputs": [
        {
          "output_type": "stream",
          "name": "stdout",
          "text": [
            "[-15, -10, -5, 0, 5, 10, 15, 20, 25, 30, 35, 40, 45]\n"
          ]
        }
      ],
      "source": [
        "C.insert(0, -15)  # Insert -15 as index 0\n",
        "print(C)"
      ]
    },
    {
      "cell_type": "code",
      "execution_count": 56,
      "metadata": {
        "execution": {
          "iopub.execute_input": "2022-07-29T12:28:20.251846Z",
          "iopub.status.busy": "2022-07-29T12:28:20.251639Z",
          "iopub.status.idle": "2022-07-29T12:28:20.255590Z",
          "shell.execute_reply": "2022-07-29T12:28:20.254948Z"
        },
        "tags": [],
        "colab": {
          "base_uri": "https://localhost:8080/"
        },
        "id": "2PGElU0FDJj0",
        "outputId": "4fb5a633-df34-4ce9-bcf9-be7c9ce7c6c7"
      },
      "outputs": [
        {
          "output_type": "stream",
          "name": "stdout",
          "text": [
            "[-15, -10, 0, 5, 10, 15, 20, 25, 30, 35, 40, 45]\n"
          ]
        }
      ],
      "source": [
        "del C[2]  # delete 3rd element\n",
        "print(C)"
      ]
    },
    {
      "cell_type": "code",
      "execution_count": 57,
      "metadata": {
        "execution": {
          "iopub.execute_input": "2022-07-29T12:28:20.259531Z",
          "iopub.status.busy": "2022-07-29T12:28:20.259328Z",
          "iopub.status.idle": "2022-07-29T12:28:20.263228Z",
          "shell.execute_reply": "2022-07-29T12:28:20.262595Z"
        },
        "tags": [],
        "colab": {
          "base_uri": "https://localhost:8080/"
        },
        "id": "VCE5L_MqDJj0",
        "outputId": "e7557727-d8f3-4f02-f229-f330235aef25"
      },
      "outputs": [
        {
          "output_type": "stream",
          "name": "stdout",
          "text": [
            "[-15, -10, 5, 10, 15, 20, 25, 30, 35, 40, 45]\n"
          ]
        }
      ],
      "source": [
        "del C[2]  # delete what is now 3rd element\n",
        "print(C)"
      ]
    },
    {
      "cell_type": "code",
      "execution_count": 58,
      "metadata": {
        "execution": {
          "iopub.execute_input": "2022-07-29T12:28:20.267440Z",
          "iopub.status.busy": "2022-07-29T12:28:20.267060Z",
          "iopub.status.idle": "2022-07-29T12:28:20.271125Z",
          "shell.execute_reply": "2022-07-29T12:28:20.270510Z"
        },
        "tags": [],
        "colab": {
          "base_uri": "https://localhost:8080/"
        },
        "id": "YRekEPYkDJj0",
        "outputId": "0a006f04-f981-4bc4-e633-eaed345f8aca"
      },
      "outputs": [
        {
          "output_type": "stream",
          "name": "stdout",
          "text": [
            "11\n"
          ]
        }
      ],
      "source": [
        "print(len(C))  # length of list"
      ]
    },
    {
      "cell_type": "code",
      "execution_count": 59,
      "metadata": {
        "execution": {
          "iopub.execute_input": "2022-07-29T12:28:20.275374Z",
          "iopub.status.busy": "2022-07-29T12:28:20.274918Z",
          "iopub.status.idle": "2022-07-29T12:28:20.279041Z",
          "shell.execute_reply": "2022-07-29T12:28:20.278428Z"
        },
        "tags": [],
        "colab": {
          "base_uri": "https://localhost:8080/"
        },
        "id": "tJyObgMFDJj0",
        "outputId": "349f7b10-f29f-46b3-cb8e-0cc640360ed0"
      },
      "outputs": [
        {
          "output_type": "stream",
          "name": "stdout",
          "text": [
            "3\n"
          ]
        }
      ],
      "source": [
        "print(C.index(10))  # Find the index of the element with the value 10"
      ]
    },
    {
      "cell_type": "code",
      "execution_count": 60,
      "metadata": {
        "execution": {
          "iopub.execute_input": "2022-07-29T12:28:20.282560Z",
          "iopub.status.busy": "2022-07-29T12:28:20.282357Z",
          "iopub.status.idle": "2022-07-29T12:28:20.288045Z",
          "shell.execute_reply": "2022-07-29T12:28:20.287484Z"
        },
        "tags": [],
        "colab": {
          "base_uri": "https://localhost:8080/"
        },
        "id": "XV6QxoQiDJj0",
        "outputId": "0d0590c1-145c-410e-bb0a-93ac206d47e1"
      },
      "outputs": [
        {
          "output_type": "stream",
          "name": "stdout",
          "text": [
            "True\n"
          ]
        }
      ],
      "source": [
        "print(10 in C)  # True only if the value 10 is stored in the list"
      ]
    },
    {
      "cell_type": "code",
      "execution_count": 61,
      "metadata": {
        "execution": {
          "iopub.execute_input": "2022-07-29T12:28:20.290921Z",
          "iopub.status.busy": "2022-07-29T12:28:20.290530Z",
          "iopub.status.idle": "2022-07-29T12:28:20.295949Z",
          "shell.execute_reply": "2022-07-29T12:28:20.295348Z"
        },
        "tags": [],
        "colab": {
          "base_uri": "https://localhost:8080/"
        },
        "id": "DUe5yp2iDJj0",
        "outputId": "e75c4f1f-ff86-4634-8817-6f3ab888b659"
      },
      "outputs": [
        {
          "output_type": "stream",
          "name": "stdout",
          "text": [
            "45\n"
          ]
        }
      ],
      "source": [
        "print(C[-1])  # The last value in the list"
      ]
    },
    {
      "cell_type": "code",
      "execution_count": 62,
      "metadata": {
        "execution": {
          "iopub.execute_input": "2022-07-29T12:28:20.298739Z",
          "iopub.status.busy": "2022-07-29T12:28:20.298364Z",
          "iopub.status.idle": "2022-07-29T12:28:20.302460Z",
          "shell.execute_reply": "2022-07-29T12:28:20.302003Z"
        },
        "tags": [],
        "colab": {
          "base_uri": "https://localhost:8080/"
        },
        "id": "C0gfk6fNDJj0",
        "outputId": "9326b8bd-1ab7-464f-e97a-67ad3c6c4a11"
      },
      "outputs": [
        {
          "output_type": "stream",
          "name": "stdout",
          "text": [
            "40\n"
          ]
        }
      ],
      "source": [
        "print(C[-2])  # The second last value in the list"
      ]
    },
    {
      "cell_type": "markdown",
      "metadata": {
        "id": "gGFSCRiiDJj0"
      },
      "source": [
        "We can also extract sublists using `:`:"
      ]
    },
    {
      "cell_type": "code",
      "execution_count": 63,
      "metadata": {
        "execution": {
          "iopub.execute_input": "2022-07-29T12:28:20.305128Z",
          "iopub.status.busy": "2022-07-29T12:28:20.304685Z",
          "iopub.status.idle": "2022-07-29T12:28:20.308592Z",
          "shell.execute_reply": "2022-07-29T12:28:20.308117Z"
        },
        "tags": [],
        "colab": {
          "base_uri": "https://localhost:8080/"
        },
        "id": "kcUtlYAVDJj0",
        "outputId": "81ee251f-6714-4d45-d3d4-e3176efc6923"
      },
      "outputs": [
        {
          "output_type": "stream",
          "name": "stdout",
          "text": [
            "[20, 25, 30, 35, 40, 45]\n"
          ]
        }
      ],
      "source": [
        "print(C[5:])  # From index 5 to the end of the list"
      ]
    },
    {
      "cell_type": "code",
      "execution_count": 64,
      "metadata": {
        "execution": {
          "iopub.execute_input": "2022-07-29T12:28:20.311344Z",
          "iopub.status.busy": "2022-07-29T12:28:20.310796Z",
          "iopub.status.idle": "2022-07-29T12:28:20.316490Z",
          "shell.execute_reply": "2022-07-29T12:28:20.315924Z"
        },
        "tags": [],
        "colab": {
          "base_uri": "https://localhost:8080/"
        },
        "id": "IOgFIGiEDJj0",
        "outputId": "ef362cd6-b830-48fe-cb37-0b1da2f7187a"
      },
      "outputs": [
        {
          "output_type": "stream",
          "name": "stdout",
          "text": [
            "[20, 25]\n"
          ]
        }
      ],
      "source": [
        "print(C[5:7])  # From index 5 up to, but NOT including index 7"
      ]
    },
    {
      "cell_type": "code",
      "execution_count": 65,
      "metadata": {
        "execution": {
          "iopub.execute_input": "2022-07-29T12:28:20.319199Z",
          "iopub.status.busy": "2022-07-29T12:28:20.318811Z",
          "iopub.status.idle": "2022-07-29T12:28:20.325566Z",
          "shell.execute_reply": "2022-07-29T12:28:20.324852Z"
        },
        "tags": [],
        "colab": {
          "base_uri": "https://localhost:8080/"
        },
        "id": "lej12VmODJj0",
        "outputId": "dc06915c-3909-4336-cfd6-501ad0b29209"
      },
      "outputs": [
        {
          "output_type": "stream",
          "name": "stdout",
          "text": [
            "[30, 35, 40]\n"
          ]
        }
      ],
      "source": [
        "print(C[7:-1])  # From index 7 up to the second last element"
      ]
    },
    {
      "cell_type": "code",
      "execution_count": 66,
      "metadata": {
        "execution": {
          "iopub.execute_input": "2022-07-29T12:28:20.328310Z",
          "iopub.status.busy": "2022-07-29T12:28:20.327972Z",
          "iopub.status.idle": "2022-07-29T12:28:20.333767Z",
          "shell.execute_reply": "2022-07-29T12:28:20.333150Z"
        },
        "tags": [],
        "colab": {
          "base_uri": "https://localhost:8080/"
        },
        "id": "XcotTB2lDJj0",
        "outputId": "c35e13ef-5c8e-442c-fb96-c57440978094"
      },
      "outputs": [
        {
          "output_type": "stream",
          "name": "stdout",
          "text": [
            "[-15, -10, 5, 10, 15, 20, 25, 30, 35, 40, 45]\n"
          ]
        }
      ],
      "source": [
        "print(C[:])  # [:] specifies the whole list."
      ]
    },
    {
      "cell_type": "markdown",
      "metadata": {
        "id": "4BDAu0MTDJj0"
      },
      "source": [
        "We can also *unpack* the elements of a list into separate variables:"
      ]
    },
    {
      "cell_type": "code",
      "execution_count": 67,
      "metadata": {
        "execution": {
          "iopub.execute_input": "2022-07-29T12:28:20.336749Z",
          "iopub.status.busy": "2022-07-29T12:28:20.336339Z",
          "iopub.status.idle": "2022-07-29T12:28:20.340666Z",
          "shell.execute_reply": "2022-07-29T12:28:20.340059Z"
        },
        "tags": [],
        "colab": {
          "base_uri": "https://localhost:8080/"
        },
        "id": "PDVNv-mtDJj0",
        "outputId": "3d2fa7ce-3e09-4ea7-db00-fd2d023231e0"
      },
      "outputs": [
        {
          "output_type": "stream",
          "name": "stdout",
          "text": [
            "stooge1: Curly, stooge2: Larry, stooge3: Moe\n"
          ]
        }
      ],
      "source": [
        "somelist = [\"Curly\", \"Larry\", \"Moe\"]\n",
        "stooge1, stooge2, stooge3 = somelist\n",
        "print(f\"stooge1: {stooge1}, stooge2: {stooge2}, stooge3: {stooge3}\")"
      ]
    },
    {
      "cell_type": "markdown",
      "metadata": {
        "id": "XTy7ca0JDJj1"
      },
      "source": [
        "## `for`-loops\n",
        "We can visit each element in a list and process it with some statements using a `for`-loop, for example:"
      ]
    },
    {
      "cell_type": "code",
      "execution_count": 68,
      "metadata": {
        "execution": {
          "iopub.execute_input": "2022-07-29T12:28:20.460264Z",
          "iopub.status.busy": "2022-07-29T12:28:20.459864Z",
          "iopub.status.idle": "2022-07-29T12:28:20.478919Z",
          "shell.execute_reply": "2022-07-29T12:28:20.478504Z"
        },
        "tags": [],
        "colab": {
          "base_uri": "https://localhost:8080/"
        },
        "id": "1eiqjMGgDJj1",
        "outputId": "21ff57a3-fadd-4379-a2fe-86f2f5a6fe49"
      },
      "outputs": [
        {
          "output_type": "stream",
          "name": "stdout",
          "text": [
            "list element: 0\n",
            "list element: 10\n",
            "list element: 20\n",
            "list element: 40\n",
            "list element: 100\n",
            "The list has 5 elements.\n"
          ]
        }
      ],
      "source": [
        "degrees = [0, 10, 20, 40, 100]\n",
        "for C in degrees:\n",
        "    print(\"list element:\", C)\n",
        "print(f\"The list has {len(degrees)} elements.\")"
      ]
    },
    {
      "cell_type": "markdown",
      "metadata": {
        "id": "KLr4cDbmDJj1"
      },
      "source": [
        "Notice again how the statements to be executed within the loop must be indented! Let us now revisit the conversion table example using the `for` loop:"
      ]
    },
    {
      "cell_type": "code",
      "execution_count": 69,
      "metadata": {
        "execution": {
          "iopub.execute_input": "2022-07-29T12:28:20.487217Z",
          "iopub.status.busy": "2022-07-29T12:28:20.486752Z",
          "iopub.status.idle": "2022-07-29T12:28:20.511845Z",
          "shell.execute_reply": "2022-07-29T12:28:20.511442Z"
        },
        "tags": [],
        "colab": {
          "base_uri": "https://localhost:8080/"
        },
        "id": "fgqO__1IDJj1",
        "outputId": "6bf39fa8-48bf-45d3-9119-67eec6b85fcd"
      },
      "outputs": [
        {
          "output_type": "stream",
          "name": "stdout",
          "text": [
            "-20 -4.0\n",
            "-15 5.0\n",
            "-10 14.0\n",
            "-5 23.0\n",
            "0 32.0\n",
            "5 41.0\n",
            "10 50.0\n",
            "15 59.0\n",
            "20 68.0\n",
            "25 77.0\n",
            "30 86.0\n",
            "35 95.0\n",
            "40 104.0\n"
          ]
        }
      ],
      "source": [
        "Cdegrees = [-20, -15, -10, -5, 0, 5, 10, 15, 20, 25, 30, 35, 40]\n",
        "for C in Cdegrees:\n",
        "    F = (9/5)*C + 32\n",
        "    print(C, F)"
      ]
    },
    {
      "cell_type": "markdown",
      "metadata": {
        "id": "EhUcoBMODJj1"
      },
      "source": [
        "We can easily beautify the table using the *printf syntax* we encountered previously:"
      ]
    },
    {
      "cell_type": "code",
      "execution_count": 70,
      "metadata": {
        "execution": {
          "iopub.execute_input": "2022-07-29T12:28:20.531284Z",
          "iopub.status.busy": "2022-07-29T12:28:20.530843Z",
          "iopub.status.idle": "2022-07-29T12:28:20.552169Z",
          "shell.execute_reply": "2022-07-29T12:28:20.551717Z"
        },
        "tags": [],
        "colab": {
          "base_uri": "https://localhost:8080/"
        },
        "id": "moV2dHVLDJj1",
        "outputId": "6de2b0e0-48f3-41d6-90d4-3f06041c05e7"
      },
      "outputs": [
        {
          "output_type": "stream",
          "name": "stdout",
          "text": [
            "  -20  -4.0\n",
            "  -15   5.0\n",
            "  -10  14.0\n",
            "   -5  23.0\n",
            "    0  32.0\n",
            "    5  41.0\n",
            "   10  50.0\n",
            "   15  59.0\n",
            "   20  68.0\n",
            "   25  77.0\n",
            "   30  86.0\n",
            "   35  95.0\n",
            "   40 104.0\n"
          ]
        }
      ],
      "source": [
        "for C in Cdegrees:\n",
        "    F = (9.0/5)*C + 32\n",
        "    print(f\"{C:5d} {F:5.1f}\")"
      ]
    },
    {
      "cell_type": "markdown",
      "metadata": {
        "id": "z1Pdv08rDJj1"
      },
      "source": [
        "It is also possible to rewrite the `for` loop as a `while` loop, i.e.\n",
        "\n",
        "```python\n",
        "for element in somelist:\n",
        "    # process element\n",
        "```\n",
        "\n",
        "can always be transformed to a `while` loop\n",
        "```python\n",
        "index = 0\n",
        "while index < len(somelist):\n",
        "    element = somelist[index]\n",
        "    # process element\n",
        "    index += 1\n",
        "```"
      ]
    },
    {
      "cell_type": "markdown",
      "metadata": {
        "id": "wWuUxz92DJj1"
      },
      "source": [
        "Let us see how a previous example would look like if we used `while` instead of `for` loop:"
      ]
    },
    {
      "cell_type": "code",
      "execution_count": 71,
      "metadata": {
        "execution": {
          "iopub.execute_input": "2022-07-29T12:28:20.561229Z",
          "iopub.status.busy": "2022-07-29T12:28:20.560999Z",
          "iopub.status.idle": "2022-07-29T12:28:20.578712Z",
          "shell.execute_reply": "2022-07-29T12:28:20.578227Z"
        },
        "tags": [],
        "colab": {
          "base_uri": "https://localhost:8080/"
        },
        "id": "7EubgSZdDJj1",
        "outputId": "dea9c077-0b5e-4ff8-80c2-27a39ad63aaf"
      },
      "outputs": [
        {
          "output_type": "stream",
          "name": "stdout",
          "text": [
            "  -20  -4.0\n",
            "  -15   5.0\n",
            "  -10  14.0\n",
            "   -5  23.0\n",
            "    0  32.0\n",
            "    5  41.0\n",
            "   10  50.0\n",
            "   15  59.0\n",
            "   20  68.0\n",
            "   25  77.0\n",
            "   30  86.0\n",
            "   35  95.0\n",
            "   40 104.0\n"
          ]
        }
      ],
      "source": [
        "Cdegrees = [-20, -15, -10, -5, 0, 5, 10, 15, 20, 25, 30, 35, 40]\n",
        "index = 0\n",
        "while index < len(Cdegrees):\n",
        "    C = Cdegrees[index]\n",
        "    F = (9.0/5)*C + 32\n",
        "    print(f\"{C:5d} {F:5.1f}\")\n",
        "    index += 1"
      ]
    },
    {
      "cell_type": "markdown",
      "metadata": {
        "id": "JqPOANEoDJj1"
      },
      "source": [
        "Rather than just printing out the Fahrenheit values, let us also store these computed values in a list of their own:"
      ]
    },
    {
      "cell_type": "code",
      "execution_count": 72,
      "metadata": {
        "execution": {
          "iopub.execute_input": "2022-07-29T12:28:20.589655Z",
          "iopub.status.busy": "2022-07-29T12:28:20.589118Z",
          "iopub.status.idle": "2022-07-29T12:28:20.596534Z",
          "shell.execute_reply": "2022-07-29T12:28:20.595950Z"
        },
        "tags": [],
        "colab": {
          "base_uri": "https://localhost:8080/"
        },
        "id": "HhK5ccM2DJj1",
        "outputId": "3ebf5d05-1122-42ed-ffb0-73532f4f70a1"
      },
      "outputs": [
        {
          "output_type": "stream",
          "name": "stdout",
          "text": [
            "[-4.0, 5.0, 14.0, 23.0, 32.0, 41.0, 50.0, 59.0, 68.0, 77.0, 86.0, 95.0, 104.0]\n"
          ]
        }
      ],
      "source": [
        "Cdegrees = [-20, -15, -10, -5, 0, 5, 10, 15, 20, 25, 30, 35, 40]\n",
        "Fdegrees = []  # start with empty list\n",
        "for C in Cdegrees:\n",
        "    F = (9/5)*C + 32\n",
        "    Fdegrees.append(F)  # add new element to Fdegrees\n",
        "print(Fdegrees)"
      ]
    },
    {
      "cell_type": "markdown",
      "metadata": {
        "id": "SpveSga_DJj1"
      },
      "source": [
        "In Python, `for` loops usually loop over list values (elements), i.e.\n",
        "\n",
        "```python\n",
        "for element in somelist:\n",
        "    # process variable element\n",
        "```\n",
        "\n",
        "However, we can also loop over list indices:\n",
        "\n",
        "```python\n",
        "for i in range(0, len(somelist), 1):\n",
        "    element = somelist[i]\n",
        "    # process element or somelist[i] directly\n",
        "```"
      ]
    },
    {
      "cell_type": "markdown",
      "metadata": {
        "id": "S8tCRu4CDJj1"
      },
      "source": [
        "The statement `range(start, stop, increment)` generates a list of integers *start*, *start+increment*, *start+2\\*increment*, and so on up to, but not including, *stop*. We can also write `range(stop)` as an abbreviation for `range(0, stop, 1)`:"
      ]
    },
    {
      "cell_type": "code",
      "execution_count": 73,
      "metadata": {
        "execution": {
          "iopub.execute_input": "2022-07-29T12:28:20.599500Z",
          "iopub.status.busy": "2022-07-29T12:28:20.599088Z",
          "iopub.status.idle": "2022-07-29T12:28:20.609500Z",
          "shell.execute_reply": "2022-07-29T12:28:20.608957Z"
        },
        "tags": [],
        "colab": {
          "base_uri": "https://localhost:8080/"
        },
        "id": "X0Se9Bj6DJj1",
        "outputId": "278929bc-8da8-451a-d1d1-03c809436dd3"
      },
      "outputs": [
        {
          "output_type": "stream",
          "name": "stdout",
          "text": [
            "0\n",
            "1\n",
            "2\n"
          ]
        }
      ],
      "source": [
        "for i in range(3):  # same as range(0, 3, 1)\n",
        "    print(i)"
      ]
    },
    {
      "cell_type": "code",
      "execution_count": 74,
      "metadata": {
        "execution": {
          "iopub.execute_input": "2022-07-29T12:28:20.612232Z",
          "iopub.status.busy": "2022-07-29T12:28:20.611821Z",
          "iopub.status.idle": "2022-07-29T12:28:20.616942Z",
          "shell.execute_reply": "2022-07-29T12:28:20.616307Z"
        },
        "tags": [],
        "colab": {
          "base_uri": "https://localhost:8080/"
        },
        "id": "mMznq0CGDJj1",
        "outputId": "8861c02a-3bad-4f0a-cee7-341eba1316a8"
      },
      "outputs": [
        {
          "output_type": "stream",
          "name": "stdout",
          "text": [
            "2\n",
            "5\n"
          ]
        }
      ],
      "source": [
        "for i in range(2, 8, 3):\n",
        "    print(i)"
      ]
    },
    {
      "cell_type": "markdown",
      "metadata": {
        "id": "dIj4w7QTDJj1"
      },
      "source": [
        "## List comprehensions\n",
        "Consider this example where we compute two lists in a `for` loop:"
      ]
    },
    {
      "cell_type": "code",
      "execution_count": 75,
      "metadata": {
        "execution": {
          "iopub.execute_input": "2022-07-29T12:28:20.622125Z",
          "iopub.status.busy": "2022-07-29T12:28:20.621625Z",
          "iopub.status.idle": "2022-07-29T12:28:20.629837Z",
          "shell.execute_reply": "2022-07-29T12:28:20.628961Z"
        },
        "tags": [],
        "colab": {
          "base_uri": "https://localhost:8080/"
        },
        "id": "QOsM4QA5DJj1",
        "outputId": "2570888c-bb79-4557-8505-fb75007a0bf9"
      },
      "outputs": [
        {
          "output_type": "stream",
          "name": "stdout",
          "text": [
            "Cdegrees =  [-5.0, -4.5, -4.0, -3.5, -3.0, -2.5, -2.0, -1.5, -1.0, -0.5, 0.0, 0.5, 1.0, 1.5, 2.0, 2.5]\n",
            "Fdegrees =  [23.0, 23.9, 24.8, 25.7, 26.6, 27.5, 28.4, 29.3, 30.2, 31.1, 32.0, 32.9, 33.8, 34.7, 35.6, 36.5]\n"
          ]
        }
      ],
      "source": [
        "n = 16\n",
        "\n",
        "# empty lists\n",
        "Cdegrees = []\n",
        "Fdegrees = []\n",
        "\n",
        "for i in range(n):\n",
        "    Cdegrees.append(-5 + i*0.5)\n",
        "    Fdegrees.append((9/5)*Cdegrees[i] + 32)\n",
        "\n",
        "print(\"Cdegrees = \", Cdegrees)\n",
        "print(\"Fdegrees = \", Fdegrees)"
      ]
    },
    {
      "cell_type": "markdown",
      "metadata": {
        "id": "iUP6_8H0DJj1"
      },
      "source": [
        "As constructing lists is a very common task, the above way of doing it can become very tedious both to write and read. Therefore, Python has a compact construct, called *list comprehension* for generating lists from a `for` loop:"
      ]
    },
    {
      "cell_type": "code",
      "execution_count": 76,
      "metadata": {
        "execution": {
          "iopub.execute_input": "2022-07-29T12:28:20.637024Z",
          "iopub.status.busy": "2022-07-29T12:28:20.636598Z",
          "iopub.status.idle": "2022-07-29T12:28:20.644877Z",
          "shell.execute_reply": "2022-07-29T12:28:20.644360Z"
        },
        "colab": {
          "base_uri": "https://localhost:8080/"
        },
        "id": "nruvgoJUDJj2",
        "outputId": "76c6c3c6-0545-4517-b32e-e77940a90b8c"
      },
      "outputs": [
        {
          "output_type": "stream",
          "name": "stdout",
          "text": [
            "Cdegrees =  [-5.0, -4.5, -4.0, -3.5, -3.0, -2.5, -2.0, -1.5, -1.0, -0.5, 0.0, 0.5, 1.0, 1.5, 2.0, 2.5]\n",
            "Fdegrees =  [23.0, 23.9, 24.8, 25.7, 26.6, 27.5, 28.4, 29.3, 30.2, 31.1, 32.0, 32.9, 33.8, 34.7, 35.6, 36.5]\n"
          ]
        }
      ],
      "source": [
        "n = 16\n",
        "Cdegrees = [-5 + i*0.5 for i in range(n)]\n",
        "Fdegrees = [(9/5)*C + 32 for C in Cdegrees]\n",
        "print(\"Cdegrees = \", Cdegrees)\n",
        "print(\"Fdegrees = \", Fdegrees)"
      ]
    },
    {
      "cell_type": "markdown",
      "metadata": {
        "id": "hDqDbf6_DJj2"
      },
      "source": [
        "The most general form of a list comprehension is:\n",
        "```python\n",
        "somelist = [expression for element in somelist if condition]\n",
        "```\n",
        "\n",
        "Here the `condition` can be used to pick out elements which satisfy a specific property."
      ]
    }
  ],
  "metadata": {
    "celltoolbar": "Tags",
    "kernelspec": {
      "display_name": "Python 3 (ipykernel)",
      "language": "python",
      "name": "python3"
    },
    "language_info": {
      "codemirror_mode": {
        "name": "ipython",
        "version": 3
      },
      "file_extension": ".py",
      "mimetype": "text/x-python",
      "name": "python",
      "nbconvert_exporter": "python",
      "pygments_lexer": "ipython3",
      "version": "3.9.13"
    },
    "metadata": {
      "interpreter": {
        "hash": "09160679218cef01ff15815045f22f73847c787608cecc83e75aba7b6298eccd"
      }
    },
    "colab": {
      "provenance": []
    }
  },
  "nbformat": 4,
  "nbformat_minor": 0
}
