{
  "nbformat": 4,
  "nbformat_minor": 0,
  "metadata": {
    "colab": {
      "provenance": [],
      "authorship_tag": "ABX9TyOrjit5Js/MNMy/EV9ojofY",
      "include_colab_link": true
    },
    "kernelspec": {
      "name": "python3",
      "display_name": "Python 3"
    },
    "language_info": {
      "name": "python"
    }
  },
  "cells": [
    {
      "cell_type": "markdown",
      "metadata": {
        "id": "view-in-github",
        "colab_type": "text"
      },
      "source": [
        "<a href=\"https://colab.research.google.com/github/ChenZijiSubset/coding_class/blob/main/Exercise2withAnswer.ipynb\" target=\"_parent\"><img src=\"https://colab.research.google.com/assets/colab-badge.svg\" alt=\"Open In Colab\"/></a>"
      ]
    },
    {
      "cell_type": "markdown",
      "source": [
        "## Exercise 2.1: Make a table (a list of lists) of function values\n",
        "\n",
        "* Write a loop that evaluates the expression $y(t) = v_0 t − {1\\over2}gt^2$ for 11 evenly spaced $t$ values ranging from $0$, to $2v_0/g$ (remember that dividing a range into $n$ intervals results in $n+1$ values). You can assume that $v_0 = 1\\,$ms$^{-1}$ and $g = 9.81\\,$ms$^{-2}$.\n",
        "* Store the time values and displacement ($y$) values as a nested list, i.e.\n",
        "```python\n",
        "tlist = [t0, t1, t2, ...]\n",
        "ylist = [y0, y1, y2, ...]\n",
        "displacement = [tlist, ylist]\n",
        "```\n",
        "* Use the variable names `tlist`, `ylist` and `displacement` as illustrated in the above example for testing purposes."
      ],
      "metadata": {
        "id": "QX6kBvVZdCGD"
      }
    },
    {
      "cell_type": "code",
      "execution_count": 1,
      "metadata": {
        "id": "GP4IsCiWdBhs"
      },
      "outputs": [],
      "source": [
        "# Uncomment and modify the following lines. Do not change variable names for testing purposes.\n",
        "def y(v0, tlist):\n",
        "    y = []\n",
        "    for i in range(len(tlist)):\n",
        "        g = 9.81\n",
        "        tmp = v0 * tlist[i] - 0.5 * g * tlist[i]**2\n",
        "        y.append(tmp)\n",
        "    return y\n",
        "\n",
        "v0 = 1\n",
        "g = 9.81\n",
        "\n",
        "t = 0\n",
        "tlist = []\n",
        "for i in range(0, 11):\n",
        "    tlist.append(t)\n",
        "    t = t + 2 * v0 / (10 * g)\n",
        "\n",
        "ylist = y(v0, tlist)\n",
        "\n",
        "displacement = [tlist, ylist]"
      ]
    },
    {
      "cell_type": "code",
      "source": [
        "displacement"
      ],
      "metadata": {
        "colab": {
          "base_uri": "https://localhost:8080/"
        },
        "id": "xMwQ4GtSfNdU",
        "outputId": "dcc00d75-6568-457a-b0de-8567b92ba373"
      },
      "execution_count": 2,
      "outputs": [
        {
          "output_type": "execute_result",
          "data": {
            "text/plain": [
              "[[0,\n",
              "  0.02038735983690112,\n",
              "  0.04077471967380224,\n",
              "  0.061162079510703356,\n",
              "  0.08154943934760447,\n",
              "  0.1019367991845056,\n",
              "  0.12232415902140673,\n",
              "  0.14271151885830785,\n",
              "  0.16309887869520898,\n",
              "  0.1834862385321101,\n",
              "  0.20387359836901123],\n",
              " [0.0,\n",
              "  0.018348623853211007,\n",
              "  0.03261977573904179,\n",
              "  0.04281345565749235,\n",
              "  0.04892966360856269,\n",
              "  0.0509683995922528,\n",
              "  0.048929663608562685,\n",
              "  0.04281345565749235,\n",
              "  0.03261977573904179,\n",
              "  0.018348623853210982,\n",
              "  -2.7755575615628914e-17]]"
            ]
          },
          "metadata": {},
          "execution_count": 2
        }
      ]
    },
    {
      "cell_type": "markdown",
      "source": [
        "## Exercise 2.2: Express a step (Heaviside) function as a Python function\n",
        "The following \"step\" function is known as the Heaviside function and it is widely used in mathematics:\n",
        "$$\n",
        "H(x)=\n",
        "\\begin{cases}\n",
        "    0, & \\text{if}\\; x < 0\\\\\n",
        "    1, & \\text{if}\\; x \\ge 0.\n",
        "\\end{cases}\n",
        "$$\n",
        "Write a Python function `heaviside(x)` that computes $H(x)$."
      ],
      "metadata": {
        "id": "340gEcB_dPjf"
      }
    },
    {
      "cell_type": "code",
      "source": [
        "# Uncomment and modify the following lines. Do not change variable names for testing purposes.\n",
        "\n",
        "def heaviside(x):\n",
        "    return 0 if x < 0 else 1\n",
        "#     ..."
      ],
      "metadata": {
        "id": "kH8dAKjjdQPP"
      },
      "execution_count": 3,
      "outputs": []
    },
    {
      "cell_type": "code",
      "source": [
        "heaviside(100)"
      ],
      "metadata": {
        "colab": {
          "base_uri": "https://localhost:8080/"
        },
        "id": "TdUldSSFfWVy",
        "outputId": "868d3830-8a75-49a6-d0c5-a3f0f43ab184"
      },
      "execution_count": 4,
      "outputs": [
        {
          "output_type": "execute_result",
          "data": {
            "text/plain": [
              "1"
            ]
          },
          "metadata": {},
          "execution_count": 4
        }
      ]
    },
    {
      "cell_type": "code",
      "source": [
        "heaviside(-100)"
      ],
      "metadata": {
        "colab": {
          "base_uri": "https://localhost:8080/"
        },
        "id": "bnYlKA3nfaL6",
        "outputId": "7801d69b-e336-41ad-b6b1-c383976693b9"
      },
      "execution_count": 5,
      "outputs": [
        {
          "output_type": "execute_result",
          "data": {
            "text/plain": [
              "0"
            ]
          },
          "metadata": {},
          "execution_count": 5
        }
      ]
    },
    {
      "cell_type": "markdown",
      "source": [
        "## Exercise 2.3: Implement the factorial function\n",
        "\n",
        "The factorial of $n$, written as $n!$, is defined as\n",
        "\n",
        "$$n! = n(n − 1)(n − 2) \\cdot \\ldots \\cdot 2 \\cdot 1,$$\n",
        "\n",
        "with the special cases\n",
        "\n",
        "$$1! = 1,$$ $$0! = 1.$$\n",
        "\n",
        "For example, $4! = 4 \\cdot 3 \\cdot 2 \\cdot 1 = 24$, and $2! = 2 \\cdot 1 = 2$.\n",
        "\n",
        "Implement your own factorial function to calculate $n!$. Return $1$ immediately if $n$ is $1$ or $0$; otherwise use a loop to compute $n!$. You can use Python's own [math.factorial(x)](https://docs.python.org/3/library/math.html) to check your code."
      ],
      "metadata": {
        "id": "7SNxd-JzdXD-"
      }
    },
    {
      "cell_type": "code",
      "source": [
        "# Uncomment and complete this code - keep the names the same for testing purposes.\n",
        "def my_factorial(n):\n",
        "    if(n == 0):\n",
        "        tmp = 1\n",
        "    else:\n",
        "        tmp = 1\n",
        "        for i in range(0, n):\n",
        "            tmp = tmp * (i + 1)\n",
        "    return tmp"
      ],
      "metadata": {
        "id": "9Q0p3b2ddXri"
      },
      "execution_count": 6,
      "outputs": []
    },
    {
      "cell_type": "code",
      "source": [
        "my_factorial(10)"
      ],
      "metadata": {
        "colab": {
          "base_uri": "https://localhost:8080/"
        },
        "id": "Yq0n9xvMfjaQ",
        "outputId": "74dca85b-e8ce-4d6f-80ed-2546663fcea6"
      },
      "execution_count": 7,
      "outputs": [
        {
          "output_type": "execute_result",
          "data": {
            "text/plain": [
              "3628800"
            ]
          },
          "metadata": {},
          "execution_count": 7
        }
      ]
    }
  ]
}
