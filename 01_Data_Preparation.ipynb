{
  "cells": [
    {
      "cell_type": "markdown",
      "metadata": {
        "id": "view-in-github",
        "colab_type": "text"
      },
      "source": [
        "<a href=\"https://colab.research.google.com/github/ChenZijiSubset/coding_class/blob/main/01_Data_Preparation.ipynb\" target=\"_parent\"><img src=\"https://colab.research.google.com/assets/colab-badge.svg\" alt=\"Open In Colab\"/></a>"
      ]
    },
    {
      "cell_type": "markdown",
      "id": "0b998d02",
      "metadata": {
        "id": "0b998d02"
      },
      "source": [
        "<center><h1 style=\"color:maroon\">Data Science and Machine Learning</h1>"
      ]
    },
    {
      "cell_type": "markdown",
      "id": "5ee4a048",
      "metadata": {
        "id": "5ee4a048"
      },
      "source": [
        "## Intended learning outcomes 👨🏿‍🎓"
      ]
    },
    {
      "cell_type": "markdown",
      "id": "25f98159",
      "metadata": {
        "id": "25f98159"
      },
      "source": [
        "* Introduction to Data Science\n",
        "* Consolidate your NumPy and Pandas skills\n",
        "* Confidently preprocess data for analysis\n",
        "* Basic use of the Scikit-learn Library"
      ]
    },
    {
      "cell_type": "markdown",
      "id": "54826d41",
      "metadata": {
        "id": "54826d41"
      },
      "source": [
        "### Dataset\n",
        "\n",
        "<span style=\"color:teal\">**Todays's dataset:**</span><a href=\"https://www.kaggle.com/datasets/rohanrao/air-quality-data-in-india\"> India air quality data, Kaggle</a>"
      ]
    },
    {
      "cell_type": "markdown",
      "source": [
        "Run this cell to mount your Google Drive."
      ],
      "metadata": {
        "id": "YtygPMbDoJnk"
      },
      "id": "YtygPMbDoJnk"
    },
    {
      "cell_type": "code",
      "source": [
        "from google.colab import drive\n",
        "drive.mount('/content/drive')"
      ],
      "metadata": {
        "colab": {
          "base_uri": "https://localhost:8080/"
        },
        "id": "9Y9OjTmzoG5X",
        "outputId": "556305e4-b07a-4d34-ebe3-c24d92f01018"
      },
      "id": "9Y9OjTmzoG5X",
      "execution_count": 28,
      "outputs": [
        {
          "output_type": "stream",
          "name": "stdout",
          "text": [
            "Drive already mounted at /content/drive; to attempt to forcibly remount, call drive.mount(\"/content/drive\", force_remount=True).\n"
          ]
        }
      ]
    },
    {
      "cell_type": "code",
      "execution_count": 29,
      "id": "1dbacb68",
      "metadata": {
        "colab": {
          "base_uri": "https://localhost:8080/",
          "height": 206
        },
        "id": "1dbacb68",
        "outputId": "761cf978-7f8d-4acc-b746-167e369b623f"
      },
      "outputs": [
        {
          "output_type": "execute_result",
          "data": {
            "text/plain": [
              "  stn_code           state   location         type  so2   no2   rspm    spm  \\\n",
              "0      NaN  Andhra Pradesh  Hyderabad       Others  5.1  14.2   50.0  128.0   \n",
              "1      229          Odisha   Rayagada   Industrial  2.0  14.5   36.0   54.0   \n",
              "2      631             Goa      Honda  Residential  5.0  11.0   42.0   19.0   \n",
              "3      674       Karnataka  Davangere  Residential  6.0   9.0  302.0    NaN   \n",
              "4      NaN     West Bengal    Kolkata   Industrial  7.4  69.5   77.0  164.0   \n",
              "\n",
              "   pm2_5        date   rainfall  \n",
              "0    NaN  29/02/2008        NaN  \n",
              "1    NaN  08/04/2010  53.897548  \n",
              "2    NaN  10/11/2013        NaN  \n",
              "3    NaN  02/01/2015  95.685937  \n",
              "4    NaN  20/08/2007  83.049383  "
            ],
            "text/html": [
              "\n",
              "  <div id=\"df-e655adfa-75e4-4d2b-9773-9917651c2251\" class=\"colab-df-container\">\n",
              "    <div>\n",
              "<style scoped>\n",
              "    .dataframe tbody tr th:only-of-type {\n",
              "        vertical-align: middle;\n",
              "    }\n",
              "\n",
              "    .dataframe tbody tr th {\n",
              "        vertical-align: top;\n",
              "    }\n",
              "\n",
              "    .dataframe thead th {\n",
              "        text-align: right;\n",
              "    }\n",
              "</style>\n",
              "<table border=\"1\" class=\"dataframe\">\n",
              "  <thead>\n",
              "    <tr style=\"text-align: right;\">\n",
              "      <th></th>\n",
              "      <th>stn_code</th>\n",
              "      <th>state</th>\n",
              "      <th>location</th>\n",
              "      <th>type</th>\n",
              "      <th>so2</th>\n",
              "      <th>no2</th>\n",
              "      <th>rspm</th>\n",
              "      <th>spm</th>\n",
              "      <th>pm2_5</th>\n",
              "      <th>date</th>\n",
              "      <th>rainfall</th>\n",
              "    </tr>\n",
              "  </thead>\n",
              "  <tbody>\n",
              "    <tr>\n",
              "      <th>0</th>\n",
              "      <td>NaN</td>\n",
              "      <td>Andhra Pradesh</td>\n",
              "      <td>Hyderabad</td>\n",
              "      <td>Others</td>\n",
              "      <td>5.1</td>\n",
              "      <td>14.2</td>\n",
              "      <td>50.0</td>\n",
              "      <td>128.0</td>\n",
              "      <td>NaN</td>\n",
              "      <td>29/02/2008</td>\n",
              "      <td>NaN</td>\n",
              "    </tr>\n",
              "    <tr>\n",
              "      <th>1</th>\n",
              "      <td>229</td>\n",
              "      <td>Odisha</td>\n",
              "      <td>Rayagada</td>\n",
              "      <td>Industrial</td>\n",
              "      <td>2.0</td>\n",
              "      <td>14.5</td>\n",
              "      <td>36.0</td>\n",
              "      <td>54.0</td>\n",
              "      <td>NaN</td>\n",
              "      <td>08/04/2010</td>\n",
              "      <td>53.897548</td>\n",
              "    </tr>\n",
              "    <tr>\n",
              "      <th>2</th>\n",
              "      <td>631</td>\n",
              "      <td>Goa</td>\n",
              "      <td>Honda</td>\n",
              "      <td>Residential</td>\n",
              "      <td>5.0</td>\n",
              "      <td>11.0</td>\n",
              "      <td>42.0</td>\n",
              "      <td>19.0</td>\n",
              "      <td>NaN</td>\n",
              "      <td>10/11/2013</td>\n",
              "      <td>NaN</td>\n",
              "    </tr>\n",
              "    <tr>\n",
              "      <th>3</th>\n",
              "      <td>674</td>\n",
              "      <td>Karnataka</td>\n",
              "      <td>Davangere</td>\n",
              "      <td>Residential</td>\n",
              "      <td>6.0</td>\n",
              "      <td>9.0</td>\n",
              "      <td>302.0</td>\n",
              "      <td>NaN</td>\n",
              "      <td>NaN</td>\n",
              "      <td>02/01/2015</td>\n",
              "      <td>95.685937</td>\n",
              "    </tr>\n",
              "    <tr>\n",
              "      <th>4</th>\n",
              "      <td>NaN</td>\n",
              "      <td>West Bengal</td>\n",
              "      <td>Kolkata</td>\n",
              "      <td>Industrial</td>\n",
              "      <td>7.4</td>\n",
              "      <td>69.5</td>\n",
              "      <td>77.0</td>\n",
              "      <td>164.0</td>\n",
              "      <td>NaN</td>\n",
              "      <td>20/08/2007</td>\n",
              "      <td>83.049383</td>\n",
              "    </tr>\n",
              "  </tbody>\n",
              "</table>\n",
              "</div>\n",
              "    <div class=\"colab-df-buttons\">\n",
              "\n",
              "  <div class=\"colab-df-container\">\n",
              "    <button class=\"colab-df-convert\" onclick=\"convertToInteractive('df-e655adfa-75e4-4d2b-9773-9917651c2251')\"\n",
              "            title=\"Convert this dataframe to an interactive table.\"\n",
              "            style=\"display:none;\">\n",
              "\n",
              "  <svg xmlns=\"http://www.w3.org/2000/svg\" height=\"24px\" viewBox=\"0 -960 960 960\">\n",
              "    <path d=\"M120-120v-720h720v720H120Zm60-500h600v-160H180v160Zm220 220h160v-160H400v160Zm0 220h160v-160H400v160ZM180-400h160v-160H180v160Zm440 0h160v-160H620v160ZM180-180h160v-160H180v160Zm440 0h160v-160H620v160Z\"/>\n",
              "  </svg>\n",
              "    </button>\n",
              "\n",
              "  <style>\n",
              "    .colab-df-container {\n",
              "      display:flex;\n",
              "      gap: 12px;\n",
              "    }\n",
              "\n",
              "    .colab-df-convert {\n",
              "      background-color: #E8F0FE;\n",
              "      border: none;\n",
              "      border-radius: 50%;\n",
              "      cursor: pointer;\n",
              "      display: none;\n",
              "      fill: #1967D2;\n",
              "      height: 32px;\n",
              "      padding: 0 0 0 0;\n",
              "      width: 32px;\n",
              "    }\n",
              "\n",
              "    .colab-df-convert:hover {\n",
              "      background-color: #E2EBFA;\n",
              "      box-shadow: 0px 1px 2px rgba(60, 64, 67, 0.3), 0px 1px 3px 1px rgba(60, 64, 67, 0.15);\n",
              "      fill: #174EA6;\n",
              "    }\n",
              "\n",
              "    .colab-df-buttons div {\n",
              "      margin-bottom: 4px;\n",
              "    }\n",
              "\n",
              "    [theme=dark] .colab-df-convert {\n",
              "      background-color: #3B4455;\n",
              "      fill: #D2E3FC;\n",
              "    }\n",
              "\n",
              "    [theme=dark] .colab-df-convert:hover {\n",
              "      background-color: #434B5C;\n",
              "      box-shadow: 0px 1px 3px 1px rgba(0, 0, 0, 0.15);\n",
              "      filter: drop-shadow(0px 1px 2px rgba(0, 0, 0, 0.3));\n",
              "      fill: #FFFFFF;\n",
              "    }\n",
              "  </style>\n",
              "\n",
              "    <script>\n",
              "      const buttonEl =\n",
              "        document.querySelector('#df-e655adfa-75e4-4d2b-9773-9917651c2251 button.colab-df-convert');\n",
              "      buttonEl.style.display =\n",
              "        google.colab.kernel.accessAllowed ? 'block' : 'none';\n",
              "\n",
              "      async function convertToInteractive(key) {\n",
              "        const element = document.querySelector('#df-e655adfa-75e4-4d2b-9773-9917651c2251');\n",
              "        const dataTable =\n",
              "          await google.colab.kernel.invokeFunction('convertToInteractive',\n",
              "                                                    [key], {});\n",
              "        if (!dataTable) return;\n",
              "\n",
              "        const docLinkHtml = 'Like what you see? Visit the ' +\n",
              "          '<a target=\"_blank\" href=https://colab.research.google.com/notebooks/data_table.ipynb>data table notebook</a>'\n",
              "          + ' to learn more about interactive tables.';\n",
              "        element.innerHTML = '';\n",
              "        dataTable['output_type'] = 'display_data';\n",
              "        await google.colab.output.renderOutput(dataTable, element);\n",
              "        const docLink = document.createElement('div');\n",
              "        docLink.innerHTML = docLinkHtml;\n",
              "        element.appendChild(docLink);\n",
              "      }\n",
              "    </script>\n",
              "  </div>\n",
              "\n",
              "\n",
              "<div id=\"df-72bb0e2b-5af7-442f-86a6-5a736b33aec0\">\n",
              "  <button class=\"colab-df-quickchart\" onclick=\"quickchart('df-72bb0e2b-5af7-442f-86a6-5a736b33aec0')\"\n",
              "            title=\"Suggest charts\"\n",
              "            style=\"display:none;\">\n",
              "\n",
              "<svg xmlns=\"http://www.w3.org/2000/svg\" height=\"24px\"viewBox=\"0 0 24 24\"\n",
              "     width=\"24px\">\n",
              "    <g>\n",
              "        <path d=\"M19 3H5c-1.1 0-2 .9-2 2v14c0 1.1.9 2 2 2h14c1.1 0 2-.9 2-2V5c0-1.1-.9-2-2-2zM9 17H7v-7h2v7zm4 0h-2V7h2v10zm4 0h-2v-4h2v4z\"/>\n",
              "    </g>\n",
              "</svg>\n",
              "  </button>\n",
              "\n",
              "<style>\n",
              "  .colab-df-quickchart {\n",
              "      --bg-color: #E8F0FE;\n",
              "      --fill-color: #1967D2;\n",
              "      --hover-bg-color: #E2EBFA;\n",
              "      --hover-fill-color: #174EA6;\n",
              "      --disabled-fill-color: #AAA;\n",
              "      --disabled-bg-color: #DDD;\n",
              "  }\n",
              "\n",
              "  [theme=dark] .colab-df-quickchart {\n",
              "      --bg-color: #3B4455;\n",
              "      --fill-color: #D2E3FC;\n",
              "      --hover-bg-color: #434B5C;\n",
              "      --hover-fill-color: #FFFFFF;\n",
              "      --disabled-bg-color: #3B4455;\n",
              "      --disabled-fill-color: #666;\n",
              "  }\n",
              "\n",
              "  .colab-df-quickchart {\n",
              "    background-color: var(--bg-color);\n",
              "    border: none;\n",
              "    border-radius: 50%;\n",
              "    cursor: pointer;\n",
              "    display: none;\n",
              "    fill: var(--fill-color);\n",
              "    height: 32px;\n",
              "    padding: 0;\n",
              "    width: 32px;\n",
              "  }\n",
              "\n",
              "  .colab-df-quickchart:hover {\n",
              "    background-color: var(--hover-bg-color);\n",
              "    box-shadow: 0 1px 2px rgba(60, 64, 67, 0.3), 0 1px 3px 1px rgba(60, 64, 67, 0.15);\n",
              "    fill: var(--button-hover-fill-color);\n",
              "  }\n",
              "\n",
              "  .colab-df-quickchart-complete:disabled,\n",
              "  .colab-df-quickchart-complete:disabled:hover {\n",
              "    background-color: var(--disabled-bg-color);\n",
              "    fill: var(--disabled-fill-color);\n",
              "    box-shadow: none;\n",
              "  }\n",
              "\n",
              "  .colab-df-spinner {\n",
              "    border: 2px solid var(--fill-color);\n",
              "    border-color: transparent;\n",
              "    border-bottom-color: var(--fill-color);\n",
              "    animation:\n",
              "      spin 1s steps(1) infinite;\n",
              "  }\n",
              "\n",
              "  @keyframes spin {\n",
              "    0% {\n",
              "      border-color: transparent;\n",
              "      border-bottom-color: var(--fill-color);\n",
              "      border-left-color: var(--fill-color);\n",
              "    }\n",
              "    20% {\n",
              "      border-color: transparent;\n",
              "      border-left-color: var(--fill-color);\n",
              "      border-top-color: var(--fill-color);\n",
              "    }\n",
              "    30% {\n",
              "      border-color: transparent;\n",
              "      border-left-color: var(--fill-color);\n",
              "      border-top-color: var(--fill-color);\n",
              "      border-right-color: var(--fill-color);\n",
              "    }\n",
              "    40% {\n",
              "      border-color: transparent;\n",
              "      border-right-color: var(--fill-color);\n",
              "      border-top-color: var(--fill-color);\n",
              "    }\n",
              "    60% {\n",
              "      border-color: transparent;\n",
              "      border-right-color: var(--fill-color);\n",
              "    }\n",
              "    80% {\n",
              "      border-color: transparent;\n",
              "      border-right-color: var(--fill-color);\n",
              "      border-bottom-color: var(--fill-color);\n",
              "    }\n",
              "    90% {\n",
              "      border-color: transparent;\n",
              "      border-bottom-color: var(--fill-color);\n",
              "    }\n",
              "  }\n",
              "</style>\n",
              "\n",
              "  <script>\n",
              "    async function quickchart(key) {\n",
              "      const quickchartButtonEl =\n",
              "        document.querySelector('#' + key + ' button');\n",
              "      quickchartButtonEl.disabled = true;  // To prevent multiple clicks.\n",
              "      quickchartButtonEl.classList.add('colab-df-spinner');\n",
              "      try {\n",
              "        const charts = await google.colab.kernel.invokeFunction(\n",
              "            'suggestCharts', [key], {});\n",
              "      } catch (error) {\n",
              "        console.error('Error during call to suggestCharts:', error);\n",
              "      }\n",
              "      quickchartButtonEl.classList.remove('colab-df-spinner');\n",
              "      quickchartButtonEl.classList.add('colab-df-quickchart-complete');\n",
              "    }\n",
              "    (() => {\n",
              "      let quickchartButtonEl =\n",
              "        document.querySelector('#df-72bb0e2b-5af7-442f-86a6-5a736b33aec0 button');\n",
              "      quickchartButtonEl.style.display =\n",
              "        google.colab.kernel.accessAllowed ? 'block' : 'none';\n",
              "    })();\n",
              "  </script>\n",
              "</div>\n",
              "\n",
              "    </div>\n",
              "  </div>\n"
            ],
            "application/vnd.google.colaboratory.intrinsic+json": {
              "type": "dataframe",
              "variable_name": "data"
            }
          },
          "metadata": {},
          "execution_count": 29
        }
      ],
      "source": [
        "import pandas as pd\n",
        "# df is your pandas.DataFrame. to_markdown requires tabulate\n",
        "\n",
        "data = pd.read_csv('/content/drive/MyDrive/India_air_quality.csv')\n",
        "data.head()"
      ]
    },
    {
      "cell_type": "markdown",
      "id": "5d9f0f3e",
      "metadata": {
        "id": "5d9f0f3e"
      },
      "source": [
        "## Ensuring Generalization\n"
      ]
    },
    {
      "cell_type": "markdown",
      "id": "7401c714",
      "metadata": {
        "id": "7401c714"
      },
      "source": [
        "The performance of a Machine Learning model is evaluated on its ability to **generalize** when predicting **unseen data**."
      ]
    },
    {
      "cell_type": "markdown",
      "id": "461e667f",
      "metadata": {
        "id": "461e667f"
      },
      "source": [
        "We ensure that a model that we train on data generalizes well by testing it on unseen data!"
      ]
    },
    {
      "cell_type": "markdown",
      "id": "aa2d5fb1",
      "metadata": {
        "id": "aa2d5fb1"
      },
      "source": [
        "\n",
        "### Dealing with duplicates\n"
      ]
    },
    {
      "cell_type": "markdown",
      "id": "30cedcf3",
      "metadata": {
        "id": "30cedcf3"
      },
      "source": [
        "* Unwanted duplicated observations can discredit the performance evaluation of a model because the same data can leak from the training set to the test set."
      ]
    },
    {
      "cell_type": "markdown",
      "id": "31be87ab",
      "metadata": {
        "id": "31be87ab"
      },
      "source": [
        "🚨 **REMOVING DUPLICATES IS THE ONLY OPERATION THAT NEEDS TO BE DONE BEFORE SPLITTING THE DATASET**"
      ]
    },
    {
      "cell_type": "markdown",
      "id": "984aaaaa",
      "metadata": {
        "id": "984aaaaa"
      },
      "source": [
        "### 💻 <code>drop_duplicates</code>\n"
      ]
    },
    {
      "cell_type": "code",
      "execution_count": 30,
      "id": "8fbca706",
      "metadata": {
        "colab": {
          "base_uri": "https://localhost:8080/"
        },
        "id": "8fbca706",
        "outputId": "c6caa462-ec12-41fb-8af3-9b79f89be3e0"
      },
      "outputs": [
        {
          "output_type": "execute_result",
          "data": {
            "text/plain": [
              "400"
            ]
          },
          "metadata": {},
          "execution_count": 30
        }
      ],
      "source": [
        "# Check number of duplicates\n",
        "data.duplicated().sum()"
      ]
    },
    {
      "cell_type": "code",
      "execution_count": 31,
      "id": "8dd4527b",
      "metadata": {
        "id": "8dd4527b"
      },
      "outputs": [],
      "source": [
        "# Remove duplicates\n",
        "data = data.drop_duplicates()"
      ]
    },
    {
      "cell_type": "code",
      "execution_count": 32,
      "id": "f8c71af5",
      "metadata": {
        "colab": {
          "base_uri": "https://localhost:8080/"
        },
        "id": "f8c71af5",
        "outputId": "71847d2b-feaf-47b5-99d2-4380001846f4"
      },
      "outputs": [
        {
          "output_type": "execute_result",
          "data": {
            "text/plain": [
              "0"
            ]
          },
          "metadata": {},
          "execution_count": 32
        }
      ],
      "source": [
        "# Check number of duplicates\n",
        "data.duplicated().sum()"
      ]
    },
    {
      "cell_type": "markdown",
      "id": "59740aa5",
      "metadata": {
        "id": "59740aa5"
      },
      "source": [
        "### Splitting data with the Holdout Method\n",
        "The Holdout Method is used to evaluate a model's ability to generalize. It consists of splitting the dataset into two sets:\n",
        "\n",
        "* **Training set** (~70%)\n",
        "* **Testing set** (~30%)\n"
      ]
    },
    {
      "cell_type": "markdown",
      "id": "cee66c47",
      "metadata": {
        "id": "cee66c47"
      },
      "source": [
        "### 💻 <code>train_test_split</code>"
      ]
    },
    {
      "cell_type": "code",
      "execution_count": 33,
      "id": "67efb1ee",
      "metadata": {
        "id": "67efb1ee"
      },
      "outputs": [],
      "source": [
        "from sklearn.model_selection import train_test_split\n",
        "\n",
        "# Split the dataset\n",
        "train_set, test_set,  = train_test_split(data, test_size=0.3)"
      ]
    },
    {
      "cell_type": "markdown",
      "id": "d7046146",
      "metadata": {
        "id": "d7046146"
      },
      "source": [
        "## Exploratory Data Analysis (EDA)"
      ]
    },
    {
      "cell_type": "markdown",
      "id": "59543fa2",
      "metadata": {
        "id": "59543fa2"
      },
      "source": [
        "* A mix of statistics of tabular data and graphic exploration of the data"
      ]
    },
    {
      "cell_type": "markdown",
      "id": "c1502be2",
      "metadata": {
        "id": "c1502be2"
      },
      "source": [
        "* Applied **AFTER** splitting the data and **ONLY** on the training set"
      ]
    },
    {
      "cell_type": "markdown",
      "id": "dcdf3be2",
      "metadata": {
        "id": "dcdf3be2"
      },
      "source": [
        "* A crucial step to understand your data"
      ]
    },
    {
      "cell_type": "markdown",
      "id": "c6867471",
      "metadata": {
        "id": "c6867471"
      },
      "source": [
        "🏃‍♀️ You will learn how to **EDA** in your exercise..."
      ]
    },
    {
      "cell_type": "markdown",
      "id": "e31c457c",
      "metadata": {
        "id": "e31c457c"
      },
      "source": [
        "## Missing Data"
      ]
    },
    {
      "cell_type": "markdown",
      "id": "562a5052",
      "metadata": {
        "id": "562a5052"
      },
      "source": [
        "### Common representations\n",
        "* <code>NaN</code> (not a number)\n",
        "* Large negatives (-99,-999)\n",
        "* ?\n",
        "* Infinity"
      ]
    },
    {
      "cell_type": "markdown",
      "id": "e7d72f2a",
      "metadata": {
        "id": "e7d72f2a"
      },
      "source": [
        "🚨 Missing data does not necessarily mean no information! Some categories could be `NaN` and still valid"
      ]
    },
    {
      "cell_type": "markdown",
      "id": "4404384b",
      "metadata": {
        "id": "4404384b"
      },
      "source": [
        "### 💡Suggestion:\n",
        "* Greater than 30% of values missing: Potentially drop feature or row\n",
        "* Less than 30% of values missing: impute a value that makes sense e.g. Median, mean, mode.\n"
      ]
    },
    {
      "cell_type": "markdown",
      "id": "23e73d0a",
      "metadata": {
        "id": "23e73d0a"
      },
      "source": [
        "🏃‍♀️ You will learn how to **handle missing data** in your exercise..."
      ]
    },
    {
      "cell_type": "markdown",
      "id": "757b470a",
      "metadata": {
        "id": "757b470a"
      },
      "source": [
        "### 🖥 Sklearn's <code>SimpleImputer</code>\n",
        "<code>SimpleImputer</code> is a data <code>Transformer</code> to replace missing values by a strategy of your choice e.g. mean. <br><br>\n",
        "👉<a href=\"https://scikit-learn.org/stable/modules/generated/sklearn.impute.SimpleImputer.html\">Sklearn <code>SimpleImputer()</code> documentation</a>\n"
      ]
    },
    {
      "cell_type": "markdown",
      "id": "43c98de7",
      "metadata": {
        "id": "43c98de7"
      },
      "source": [
        "<code>imputer.fit()</code>\n",
        "* Computes the strategy for that feature\n",
        "* Stores the strategy value as an attribute"
      ]
    },
    {
      "cell_type": "markdown",
      "id": "4e8c4fac",
      "metadata": {
        "id": "4e8c4fac"
      },
      "source": [
        "<code>imputer.transform()</code>\n",
        "* Identifies missing values  \n",
        "* Replaces missing value with previously calculated strategy value"
      ]
    },
    {
      "cell_type": "code",
      "execution_count": 34,
      "id": "eb9d73f9",
      "metadata": {
        "id": "eb9d73f9"
      },
      "outputs": [],
      "source": [
        "from sklearn.impute import SimpleImputer\n",
        "import numpy as np\n",
        "\n",
        "num_cols = train_set.select_dtypes(include=np.number).columns # redo numerical columns\n",
        "\n",
        "imputer = SimpleImputer(strategy=\"mean\") # Instanciate a SimpleImputer object with strategy of choice"
      ]
    },
    {
      "cell_type": "code",
      "execution_count": 35,
      "id": "7dd25e92",
      "metadata": {
        "colab": {
          "base_uri": "https://localhost:8080/",
          "height": 75
        },
        "id": "7dd25e92",
        "outputId": "d3462431-b1b8-4866-a15a-f7c7ab313050"
      },
      "outputs": [
        {
          "output_type": "execute_result",
          "data": {
            "text/plain": [
              "SimpleImputer()"
            ],
            "text/html": [
              "<style>#sk-container-id-3 {color: black;}#sk-container-id-3 pre{padding: 0;}#sk-container-id-3 div.sk-toggleable {background-color: white;}#sk-container-id-3 label.sk-toggleable__label {cursor: pointer;display: block;width: 100%;margin-bottom: 0;padding: 0.3em;box-sizing: border-box;text-align: center;}#sk-container-id-3 label.sk-toggleable__label-arrow:before {content: \"▸\";float: left;margin-right: 0.25em;color: #696969;}#sk-container-id-3 label.sk-toggleable__label-arrow:hover:before {color: black;}#sk-container-id-3 div.sk-estimator:hover label.sk-toggleable__label-arrow:before {color: black;}#sk-container-id-3 div.sk-toggleable__content {max-height: 0;max-width: 0;overflow: hidden;text-align: left;background-color: #f0f8ff;}#sk-container-id-3 div.sk-toggleable__content pre {margin: 0.2em;color: black;border-radius: 0.25em;background-color: #f0f8ff;}#sk-container-id-3 input.sk-toggleable__control:checked~div.sk-toggleable__content {max-height: 200px;max-width: 100%;overflow: auto;}#sk-container-id-3 input.sk-toggleable__control:checked~label.sk-toggleable__label-arrow:before {content: \"▾\";}#sk-container-id-3 div.sk-estimator input.sk-toggleable__control:checked~label.sk-toggleable__label {background-color: #d4ebff;}#sk-container-id-3 div.sk-label input.sk-toggleable__control:checked~label.sk-toggleable__label {background-color: #d4ebff;}#sk-container-id-3 input.sk-hidden--visually {border: 0;clip: rect(1px 1px 1px 1px);clip: rect(1px, 1px, 1px, 1px);height: 1px;margin: -1px;overflow: hidden;padding: 0;position: absolute;width: 1px;}#sk-container-id-3 div.sk-estimator {font-family: monospace;background-color: #f0f8ff;border: 1px dotted black;border-radius: 0.25em;box-sizing: border-box;margin-bottom: 0.5em;}#sk-container-id-3 div.sk-estimator:hover {background-color: #d4ebff;}#sk-container-id-3 div.sk-parallel-item::after {content: \"\";width: 100%;border-bottom: 1px solid gray;flex-grow: 1;}#sk-container-id-3 div.sk-label:hover label.sk-toggleable__label {background-color: #d4ebff;}#sk-container-id-3 div.sk-serial::before {content: \"\";position: absolute;border-left: 1px solid gray;box-sizing: border-box;top: 0;bottom: 0;left: 50%;z-index: 0;}#sk-container-id-3 div.sk-serial {display: flex;flex-direction: column;align-items: center;background-color: white;padding-right: 0.2em;padding-left: 0.2em;position: relative;}#sk-container-id-3 div.sk-item {position: relative;z-index: 1;}#sk-container-id-3 div.sk-parallel {display: flex;align-items: stretch;justify-content: center;background-color: white;position: relative;}#sk-container-id-3 div.sk-item::before, #sk-container-id-3 div.sk-parallel-item::before {content: \"\";position: absolute;border-left: 1px solid gray;box-sizing: border-box;top: 0;bottom: 0;left: 50%;z-index: -1;}#sk-container-id-3 div.sk-parallel-item {display: flex;flex-direction: column;z-index: 1;position: relative;background-color: white;}#sk-container-id-3 div.sk-parallel-item:first-child::after {align-self: flex-end;width: 50%;}#sk-container-id-3 div.sk-parallel-item:last-child::after {align-self: flex-start;width: 50%;}#sk-container-id-3 div.sk-parallel-item:only-child::after {width: 0;}#sk-container-id-3 div.sk-dashed-wrapped {border: 1px dashed gray;margin: 0 0.4em 0.5em 0.4em;box-sizing: border-box;padding-bottom: 0.4em;background-color: white;}#sk-container-id-3 div.sk-label label {font-family: monospace;font-weight: bold;display: inline-block;line-height: 1.2em;}#sk-container-id-3 div.sk-label-container {text-align: center;}#sk-container-id-3 div.sk-container {/* jupyter's `normalize.less` sets `[hidden] { display: none; }` but bootstrap.min.css set `[hidden] { display: none !important; }` so we also need the `!important` here to be able to override the default hidden behavior on the sphinx rendered scikit-learn.org. See: https://github.com/scikit-learn/scikit-learn/issues/21755 */display: inline-block !important;position: relative;}#sk-container-id-3 div.sk-text-repr-fallback {display: none;}</style><div id=\"sk-container-id-3\" class=\"sk-top-container\"><div class=\"sk-text-repr-fallback\"><pre>SimpleImputer()</pre><b>In a Jupyter environment, please rerun this cell to show the HTML representation or trust the notebook. <br />On GitHub, the HTML representation is unable to render, please try loading this page with nbviewer.org.</b></div><div class=\"sk-container\" hidden><div class=\"sk-item\"><div class=\"sk-estimator sk-toggleable\"><input class=\"sk-toggleable__control sk-hidden--visually\" id=\"sk-estimator-id-3\" type=\"checkbox\" checked><label for=\"sk-estimator-id-3\" class=\"sk-toggleable__label sk-toggleable__label-arrow\">SimpleImputer</label><div class=\"sk-toggleable__content\"><pre>SimpleImputer()</pre></div></div></div></div></div>"
            ]
          },
          "metadata": {},
          "execution_count": 35
        }
      ],
      "source": [
        "imputer.fit(train_set[num_cols]) # Call the \"fit\" method on the object, using X_train numerical data"
      ]
    },
    {
      "cell_type": "code",
      "execution_count": 36,
      "id": "b2eccbe3",
      "metadata": {
        "id": "b2eccbe3"
      },
      "outputs": [],
      "source": [
        "train_set[num_cols] = imputer.transform(train_set[num_cols]) # Call the \"transform\" method on the object"
      ]
    },
    {
      "cell_type": "code",
      "execution_count": 37,
      "id": "3bdb61bd",
      "metadata": {
        "colab": {
          "base_uri": "https://localhost:8080/"
        },
        "id": "3bdb61bd",
        "outputId": "9ec57c8a-3e19-45e4-8f0a-a8abff212f26"
      },
      "outputs": [
        {
          "output_type": "execute_result",
          "data": {
            "text/plain": [
              "array([ 11.13567126,  26.39002157, 108.18695808, 217.58224959,\n",
              "        40.75616528,  79.93120083])"
            ]
          },
          "metadata": {},
          "execution_count": 37
        }
      ],
      "source": [
        "imputer.statistics_ # The mean is stored in the transformer's memory"
      ]
    },
    {
      "cell_type": "markdown",
      "id": "fba501c3",
      "metadata": {
        "id": "fba501c3"
      },
      "source": [
        "### How about the categorical data?"
      ]
    },
    {
      "cell_type": "code",
      "execution_count": 38,
      "id": "eafa261d",
      "metadata": {
        "id": "eafa261d"
      },
      "outputs": [],
      "source": [
        "cat_cols = train_set.select_dtypes(exclude=np.number).columns\n",
        "cat_imputer = SimpleImputer(strategy=\"most_frequent\") # Instanciate a SimpleImputer object with \"most_frequent\" strategy\n",
        "\n",
        "train_set[cat_cols] = cat_imputer.fit_transform(train_set[cat_cols]) # can 'fit_transform' in one line..."
      ]
    },
    {
      "cell_type": "markdown",
      "id": "07f57e9e",
      "metadata": {
        "id": "07f57e9e"
      },
      "source": [
        "# Data Preprocessing"
      ]
    },
    {
      "cell_type": "markdown",
      "id": "dafec142",
      "metadata": {
        "id": "dafec142"
      },
      "source": [
        "## Outliers"
      ]
    },
    {
      "cell_type": "markdown",
      "id": "e9538690",
      "metadata": {
        "id": "e9538690"
      },
      "source": [
        "Outliers affect:\n",
        "* Dataset distributions and patterns\n",
        "* Central tendency metrics e.g. mean and standard deviation\n",
        "* Machine learning models' performances"
      ]
    },
    {
      "cell_type": "markdown",
      "id": "df329722",
      "metadata": {
        "id": "df329722"
      },
      "source": [
        "### Boxplot to detecting outliers\n",
        "We can use boxplots to easily visualize outliers within our dataset.\n"
      ]
    },
    {
      "cell_type": "code",
      "execution_count": 39,
      "id": "31c72d65",
      "metadata": {
        "colab": {
          "base_uri": "https://localhost:8080/",
          "height": 430
        },
        "id": "31c72d65",
        "outputId": "bde0f1da-c46a-4b38-b6d4-fc02817d3f2b"
      },
      "outputs": [
        {
          "output_type": "display_data",
          "data": {
            "text/plain": [
              "<Figure size 640x480 with 1 Axes>"
            ],
            "image/png": "[encoded data removed]"
          },
          "metadata": {}
        }
      ],
      "source": [
        "train_set[['no2']].boxplot();"
      ]
    },
    {
      "cell_type": "code",
      "execution_count": 40,
      "id": "39818a4f",
      "metadata": {
        "colab": {
          "base_uri": "https://localhost:8080/"
        },
        "id": "39818a4f",
        "outputId": "5d348fd4-9b9a-4e02-c1a7-556615e0129c"
      },
      "outputs": [
        {
          "output_type": "execute_result",
          "data": {
            "text/plain": [
              "-66.4"
            ]
          },
          "metadata": {},
          "execution_count": 40
        }
      ],
      "source": [
        "# Does this look sensible?\n",
        "train_set['no2'].min()"
      ]
    },
    {
      "cell_type": "markdown",
      "id": "78554379",
      "metadata": {
        "id": "78554379"
      },
      "source": [
        "🏃‍♀️ You will learn how to **drop outliers** in your exercise..."
      ]
    },
    {
      "cell_type": "markdown",
      "id": "f975c1cd",
      "metadata": {
        "id": "f975c1cd"
      },
      "source": [
        "## Feature Scaling\n",
        "\n",
        "Why do we need to scale our data?"
      ]
    },
    {
      "cell_type": "markdown",
      "id": "3e6c0dd4",
      "metadata": {
        "id": "3e6c0dd4"
      },
      "source": [
        "* Features with large magnitudes can incorrectly outweigh features of small magnitudes"
      ]
    },
    {
      "cell_type": "markdown",
      "id": "337b2bf6",
      "metadata": {
        "id": "337b2bf6"
      },
      "source": [
        "* Scaling to smaller magnitudes improves computational efficiency"
      ]
    },
    {
      "cell_type": "markdown",
      "id": "ede4e383",
      "metadata": {
        "id": "ede4e383"
      },
      "source": [
        "* Increases interpretability of coefficients in parametric models"
      ]
    },
    {
      "cell_type": "markdown",
      "id": "55fe5b4e",
      "metadata": {
        "id": "55fe5b4e"
      },
      "source": [
        "* Essential for 'distance-based' models"
      ]
    },
    {
      "cell_type": "markdown",
      "id": "8d0a8b20",
      "metadata": {
        "id": "8d0a8b20"
      },
      "source": [
        "## Three common scaling algorithms\n",
        "* 👉 **Standardizing**: Sklearn <code>StandardScaler()</code>\n",
        "$$z =  \\frac{(x - mean)}{std}$$"
      ]
    },
    {
      "cell_type": "markdown",
      "id": "5a4a7aa4",
      "metadata": {
        "id": "5a4a7aa4"
      },
      "source": [
        "* 👉 **Robust Scaling**: Sklearn <code>RobustScaler()</code>\n",
        "$$Robust Scaled = \\frac{(x - median)}{IQR}$$"
      ]
    },
    {
      "cell_type": "markdown",
      "id": "9cb9ee64",
      "metadata": {
        "id": "9cb9ee64"
      },
      "source": [
        "* 👉 **Normalizing**: Sklearn <code>MinMaxScaler()</code>\n",
        "$$X' =  \\frac{(X - X_{min})}{X_{max} - X_{min}}$$"
      ]
    },
    {
      "cell_type": "markdown",
      "id": "a371903e",
      "metadata": {
        "id": "a371903e"
      },
      "source": [
        "### Standardization:\n",
        "* Most effective when data is normally distributed\n",
        "* Does not ensure an exact common range\n",
        "* Sensitive to outliers\n",
        "* Can distort relative distances between feature values"
      ]
    },
    {
      "cell_type": "markdown",
      "id": "3b8b8a9d",
      "metadata": {
        "id": "3b8b8a9d"
      },
      "source": [
        "### Robust Scaling:\n",
        "* Similar to standardization but more robust to outliers"
      ]
    },
    {
      "cell_type": "markdown",
      "id": "6415218c",
      "metadata": {
        "id": "6415218c"
      },
      "source": [
        "### Normalizing:\n",
        "* Ensures a fixed range, important with distance based algorithms like the K-Nearest Neighbours\n",
        "* Efficient regardless of distribution\n",
        "* Doesn't reduce the effect of outliers\n",
        "* Doesn't correct the skewness of a distribution\n"
      ]
    },
    {
      "cell_type": "markdown",
      "id": "480c8acb",
      "metadata": {
        "id": "480c8acb"
      },
      "source": [
        "## 💻  Scaling in Sklearn"
      ]
    },
    {
      "cell_type": "code",
      "execution_count": 41,
      "id": "1f830cc4",
      "metadata": {
        "colab": {
          "base_uri": "https://localhost:8080/",
          "height": 430
        },
        "id": "1f830cc4",
        "outputId": "15a5274b-89ab-4992-8844-abf43fa0a66d"
      },
      "outputs": [
        {
          "output_type": "display_data",
          "data": {
            "text/plain": [
              "<Figure size 640x480 with 1 Axes>"
            ],
            "image/png": "[encoded data removed]"
          },
          "metadata": {}
        }
      ],
      "source": [
        "from sklearn.preprocessing import StandardScaler, MinMaxScaler, RobustScaler\n",
        "import matplotlib.pyplot as plt\n",
        "\n",
        "plt.hist(train_set.rainfall); # Check feature distribution"
      ]
    },
    {
      "cell_type": "markdown",
      "id": "8b0e2ac4",
      "metadata": {
        "id": "8b0e2ac4"
      },
      "source": [
        "Comparing <code>standardization</code>, <code>robust scaling</code> and <code>normalization</code> for <code>rainfall</code>"
      ]
    },
    {
      "cell_type": "code",
      "execution_count": 42,
      "id": "76df0bc8",
      "metadata": {
        "colab": {
          "base_uri": "https://localhost:8080/",
          "height": 372
        },
        "id": "76df0bc8",
        "outputId": "f5a5cb15-c9b7-4395-b957-ec75a12636ea"
      },
      "outputs": [
        {
          "output_type": "display_data",
          "data": {
            "text/plain": [
              "<Figure size 3600x800 with 3 Axes>"
            ],
            "image/png": "[encoded data removed]"
          },
          "metadata": {}
        }
      ],
      "source": [
        "standardized = StandardScaler().fit_transform(train_set[['rainfall']]) # Use scaler to transform data\n",
        "normalized = MinMaxScaler().fit_transform(train_set[['rainfall']])\n",
        "robust = RobustScaler().fit_transform(train_set[['rainfall']])\n",
        "\n",
        "fig, axes = plt.subplots(1,3, figsize=(36,8))\n",
        "\n",
        "for data, ax, title in zip([standardized, robust, normalized],\n",
        "                           axes.flatten(),\n",
        "                            ['Standardized', 'Robust Scaler','Normalized']):\n",
        "    ax.hist(data)\n",
        "    ax.set_title(title)\n",
        "\n"
      ]
    },
    {
      "cell_type": "markdown",
      "id": "76193da4",
      "metadata": {
        "id": "76193da4"
      },
      "source": [
        "Comparing <code>standardization</code>, <code>robust scaling</code> and <code>normalization</code> for <code>NO2</code>"
      ]
    },
    {
      "cell_type": "markdown",
      "id": "69b61989",
      "metadata": {
        "id": "69b61989"
      },
      "source": [
        "# Feature Engineering"
      ]
    },
    {
      "cell_type": "markdown",
      "id": "05934a5e",
      "metadata": {
        "id": "05934a5e"
      },
      "source": [
        "**Feature engineering** is a category of preprocessing that includes encoding, discretizing and creating new features 💡\n"
      ]
    },
    {
      "cell_type": "markdown",
      "id": "a8dfa7a5",
      "metadata": {
        "id": "a8dfa7a5"
      },
      "source": [
        "## Separating target from features\n",
        "* We don't want to scale/engineer our target\n",
        "* Here we will try to predict <code>'rspm'</code>, so we will remove them and derived data (<code>pm2_5</code> and <code>spm</code>) from the features\n"
      ]
    },
    {
      "cell_type": "code",
      "execution_count": 43,
      "id": "545a9deb",
      "metadata": {
        "id": "545a9deb"
      },
      "outputs": [],
      "source": [
        "y_train = train_set['rspm']\n",
        "X_train = train_set.drop(columns=['rspm', 'spm','stn_code', 'state', 'location', 'type','date'])"
      ]
    },
    {
      "cell_type": "markdown",
      "id": "afe92f12",
      "metadata": {
        "id": "afe92f12"
      },
      "source": [
        "## Creating / transforming features\n",
        "* Create additional information\n",
        "* Reduce number of features by combining them\n",
        "* Change data distribution\n",
        "* Potentially improve model performance\n"
      ]
    },
    {
      "cell_type": "markdown",
      "id": "36afddc0",
      "metadata": {
        "id": "36afddc0"
      },
      "source": [
        "🏃‍♀️ You will learn how to **transform features to log space** in your exercise..."
      ]
    },
    {
      "cell_type": "markdown",
      "id": "f5aad2d7",
      "metadata": {
        "id": "f5aad2d7"
      },
      "source": [
        "## Discretizing / 'Binning'"
      ]
    },
    {
      "cell_type": "markdown",
      "id": "18e2eb36",
      "metadata": {
        "id": "18e2eb36"
      },
      "source": [
        "Useful in order to:\n",
        "* Turn a regression task into a classification task\n",
        "* Perform feature engineering\n",
        "👉 <a href=\"https://pandas.pydata.org/pandas-docs/stable/reference/api/pandas.cut.html\">Pandas <code>cut()</code> documentation</a>\n"
      ]
    },
    {
      "cell_type": "markdown",
      "id": "ee39788f",
      "metadata": {
        "id": "ee39788f"
      },
      "source": [
        "### 🖥 Discretizing rspm\n",
        "* Let's turn this dataset into a classification task, low or high pollution, according to a cutoff value of 2 standard deviation above the mean (chosen randomly here to represent 'high' pollution).\n"
      ]
    },
    {
      "cell_type": "code",
      "execution_count": 44,
      "id": "b0027b62",
      "metadata": {
        "colab": {
          "base_uri": "https://localhost:8080/",
          "height": 241
        },
        "id": "b0027b62",
        "outputId": "4a98604d-3f93-4d29-8518-45546f2f1e03"
      },
      "outputs": [
        {
          "output_type": "execute_result",
          "data": {
            "text/plain": [
              "42882     high\n",
              "55114      low\n",
              "282853     low\n",
              "45263     high\n",
              "163260    high\n",
              "Name: rspm, dtype: category\n",
              "Categories (2, object): ['low' < 'high']"
            ],
            "text/html": [
              "<div>\n",
              "<style scoped>\n",
              "    .dataframe tbody tr th:only-of-type {\n",
              "        vertical-align: middle;\n",
              "    }\n",
              "\n",
              "    .dataframe tbody tr th {\n",
              "        vertical-align: top;\n",
              "    }\n",
              "\n",
              "    .dataframe thead th {\n",
              "        text-align: right;\n",
              "    }\n",
              "</style>\n",
              "<table border=\"1\" class=\"dataframe\">\n",
              "  <thead>\n",
              "    <tr style=\"text-align: right;\">\n",
              "      <th></th>\n",
              "      <th>rspm</th>\n",
              "    </tr>\n",
              "  </thead>\n",
              "  <tbody>\n",
              "    <tr>\n",
              "      <th>42882</th>\n",
              "      <td>high</td>\n",
              "    </tr>\n",
              "    <tr>\n",
              "      <th>55114</th>\n",
              "      <td>low</td>\n",
              "    </tr>\n",
              "    <tr>\n",
              "      <th>282853</th>\n",
              "      <td>low</td>\n",
              "    </tr>\n",
              "    <tr>\n",
              "      <th>45263</th>\n",
              "      <td>high</td>\n",
              "    </tr>\n",
              "    <tr>\n",
              "      <th>163260</th>\n",
              "      <td>high</td>\n",
              "    </tr>\n",
              "  </tbody>\n",
              "</table>\n",
              "</div><br><label><b>dtype:</b> category</label>"
            ]
          },
          "metadata": {},
          "execution_count": 44
        }
      ],
      "source": [
        "y_train_cat = pd.cut(x = y_train,\n",
        "                       bins=[y_train.min()-1,\n",
        "                             y_train.mean()-0.25*y_train.std(),\n",
        "                             y_train.max()+1],\n",
        "                       labels=['low', 'high'])\n",
        "\n",
        "y_train_cat[:5]"
      ]
    },
    {
      "cell_type": "markdown",
      "id": "e8fa7a1f",
      "metadata": {
        "id": "e8fa7a1f"
      },
      "source": [
        "## Encoding"
      ]
    },
    {
      "cell_type": "markdown",
      "id": "728695ce",
      "metadata": {
        "id": "728695ce"
      },
      "source": [
        "### Why encoding?\n",
        "* Data may be represented as words, letters, or symbols\n",
        "* Most Machine Learning algorithms only process numerical data"
      ]
    },
    {
      "cell_type": "markdown",
      "id": "798e380b",
      "metadata": {
        "id": "798e380b"
      },
      "source": [
        "### Target Encoding (aka label encoding)\n",
        "Assign a number to each category.\n"
      ]
    },
    {
      "cell_type": "markdown",
      "id": "6c09a5ab",
      "metadata": {
        "id": "6c09a5ab"
      },
      "source": [
        "\n",
        "👉 <a href=\"https://scikit-learn.org/stable/modules/generated/sklearn.preprocessing.LabelEncoder.html\">Sklearn <code>LabelEncoder()</code> documentation</a>\n"
      ]
    },
    {
      "cell_type": "markdown",
      "id": "2232fbf0",
      "metadata": {
        "id": "2232fbf0"
      },
      "source": [
        "### One-Hot-Encoding\n",
        "Create a binary column for each possible category: used with features.\n"
      ]
    },
    {
      "cell_type": "markdown",
      "id": "c9d2da8c",
      "metadata": {
        "id": "c9d2da8c"
      },
      "source": [
        "\n",
        "👉 <a href=\"https://scikit-learn.org/stable/modules/generated/sklearn.preprocessing.OneHotEncoder.html\">Sklearn <code>OneHotEncoder()</code> documentation</a>\n"
      ]
    },
    {
      "cell_type": "markdown",
      "id": "580ca649",
      "metadata": {
        "id": "580ca649"
      },
      "source": [
        "### 💻 One-hot-Encoding <code>type</code>"
      ]
    },
    {
      "cell_type": "code",
      "execution_count": 45,
      "id": "db0158d1",
      "metadata": {
        "colab": {
          "base_uri": "https://localhost:8080/",
          "height": 261
        },
        "id": "db0158d1",
        "outputId": "3b6f4d47-2e03-4d18-a49e-9981f782c20e"
      },
      "outputs": [
        {
          "output_type": "stream",
          "name": "stderr",
          "text": [
            "/usr/local/lib/python3.10/dist-packages/sklearn/preprocessing/_encoders.py:975: FutureWarning: `sparse` was renamed to `sparse_output` in version 1.2 and will be removed in 1.4. `sparse_output` is ignored unless you leave `sparse` to its default value.\n",
            "  warnings.warn(\n"
          ]
        },
        {
          "output_type": "execute_result",
          "data": {
            "text/plain": [
              "       stn_code           state    location         type        so2   no2  \\\n",
              "42882       767      Tamil Nadu     Chennai  Residential  11.000000  24.0   \n",
              "55114       710  Madhya Pradesh    Jabalpur       Others  11.135671  18.7   \n",
              "282853      640     Maharashtra  Chandrapur   Industrial   4.000000   9.0   \n",
              "45263       710     Maharashtra    Amravati       Others  13.700000  15.7   \n",
              "163260      710           Delhi       Delhi       Others   7.600000  37.3   \n",
              "\n",
              "         rspm        spm      pm2_5        date   rainfall  Industrial  \\\n",
              "42882   102.0  217.58225  40.756165  22/08/2013  77.195773         0.0   \n",
              "55114    63.0  137.00000  40.756165  18/07/2007  71.236899         0.0   \n",
              "282853   60.0  217.58225  40.756165  09/03/2012  79.931201         1.0   \n",
              "45263   119.0  217.58225  40.756165  04/01/2009  77.496284         0.0   \n",
              "163260  169.0  619.00000  40.756165  04/10/2006  66.173239         0.0   \n",
              "\n",
              "        Others  Residential  Sensitive  \n",
              "42882      0.0          1.0        0.0  \n",
              "55114      1.0          0.0        0.0  \n",
              "282853     0.0          0.0        0.0  \n",
              "45263      1.0          0.0        0.0  \n",
              "163260     1.0          0.0        0.0  "
            ],
            "text/html": [
              "\n",
              "  <div id=\"df-591b601a-1073-4184-857c-454c1936674c\" class=\"colab-df-container\">\n",
              "    <div>\n",
              "<style scoped>\n",
              "    .dataframe tbody tr th:only-of-type {\n",
              "        vertical-align: middle;\n",
              "    }\n",
              "\n",
              "    .dataframe tbody tr th {\n",
              "        vertical-align: top;\n",
              "    }\n",
              "\n",
              "    .dataframe thead th {\n",
              "        text-align: right;\n",
              "    }\n",
              "</style>\n",
              "<table border=\"1\" class=\"dataframe\">\n",
              "  <thead>\n",
              "    <tr style=\"text-align: right;\">\n",
              "      <th></th>\n",
              "      <th>stn_code</th>\n",
              "      <th>state</th>\n",
              "      <th>location</th>\n",
              "      <th>type</th>\n",
              "      <th>so2</th>\n",
              "      <th>no2</th>\n",
              "      <th>rspm</th>\n",
              "      <th>spm</th>\n",
              "      <th>pm2_5</th>\n",
              "      <th>date</th>\n",
              "      <th>rainfall</th>\n",
              "      <th>Industrial</th>\n",
              "      <th>Others</th>\n",
              "      <th>Residential</th>\n",
              "      <th>Sensitive</th>\n",
              "    </tr>\n",
              "  </thead>\n",
              "  <tbody>\n",
              "    <tr>\n",
              "      <th>42882</th>\n",
              "      <td>767</td>\n",
              "      <td>Tamil Nadu</td>\n",
              "      <td>Chennai</td>\n",
              "      <td>Residential</td>\n",
              "      <td>11.000000</td>\n",
              "      <td>24.0</td>\n",
              "      <td>102.0</td>\n",
              "      <td>217.58225</td>\n",
              "      <td>40.756165</td>\n",
              "      <td>22/08/2013</td>\n",
              "      <td>77.195773</td>\n",
              "      <td>0.0</td>\n",
              "      <td>0.0</td>\n",
              "      <td>1.0</td>\n",
              "      <td>0.0</td>\n",
              "    </tr>\n",
              "    <tr>\n",
              "      <th>55114</th>\n",
              "      <td>710</td>\n",
              "      <td>Madhya Pradesh</td>\n",
              "      <td>Jabalpur</td>\n",
              "      <td>Others</td>\n",
              "      <td>11.135671</td>\n",
              "      <td>18.7</td>\n",
              "      <td>63.0</td>\n",
              "      <td>137.00000</td>\n",
              "      <td>40.756165</td>\n",
              "      <td>18/07/2007</td>\n",
              "      <td>71.236899</td>\n",
              "      <td>0.0</td>\n",
              "      <td>1.0</td>\n",
              "      <td>0.0</td>\n",
              "      <td>0.0</td>\n",
              "    </tr>\n",
              "    <tr>\n",
              "      <th>282853</th>\n",
              "      <td>640</td>\n",
              "      <td>Maharashtra</td>\n",
              "      <td>Chandrapur</td>\n",
              "      <td>Industrial</td>\n",
              "      <td>4.000000</td>\n",
              "      <td>9.0</td>\n",
              "      <td>60.0</td>\n",
              "      <td>217.58225</td>\n",
              "      <td>40.756165</td>\n",
              "      <td>09/03/2012</td>\n",
              "      <td>79.931201</td>\n",
              "      <td>1.0</td>\n",
              "      <td>0.0</td>\n",
              "      <td>0.0</td>\n",
              "      <td>0.0</td>\n",
              "    </tr>\n",
              "    <tr>\n",
              "      <th>45263</th>\n",
              "      <td>710</td>\n",
              "      <td>Maharashtra</td>\n",
              "      <td>Amravati</td>\n",
              "      <td>Others</td>\n",
              "      <td>13.700000</td>\n",
              "      <td>15.7</td>\n",
              "      <td>119.0</td>\n",
              "      <td>217.58225</td>\n",
              "      <td>40.756165</td>\n",
              "      <td>04/01/2009</td>\n",
              "      <td>77.496284</td>\n",
              "      <td>0.0</td>\n",
              "      <td>1.0</td>\n",
              "      <td>0.0</td>\n",
              "      <td>0.0</td>\n",
              "    </tr>\n",
              "    <tr>\n",
              "      <th>163260</th>\n",
              "      <td>710</td>\n",
              "      <td>Delhi</td>\n",
              "      <td>Delhi</td>\n",
              "      <td>Others</td>\n",
              "      <td>7.600000</td>\n",
              "      <td>37.3</td>\n",
              "      <td>169.0</td>\n",
              "      <td>619.00000</td>\n",
              "      <td>40.756165</td>\n",
              "      <td>04/10/2006</td>\n",
              "      <td>66.173239</td>\n",
              "      <td>0.0</td>\n",
              "      <td>1.0</td>\n",
              "      <td>0.0</td>\n",
              "      <td>0.0</td>\n",
              "    </tr>\n",
              "  </tbody>\n",
              "</table>\n",
              "</div>\n",
              "    <div class=\"colab-df-buttons\">\n",
              "\n",
              "  <div class=\"colab-df-container\">\n",
              "    <button class=\"colab-df-convert\" onclick=\"convertToInteractive('df-591b601a-1073-4184-857c-454c1936674c')\"\n",
              "            title=\"Convert this dataframe to an interactive table.\"\n",
              "            style=\"display:none;\">\n",
              "\n",
              "  <svg xmlns=\"http://www.w3.org/2000/svg\" height=\"24px\" viewBox=\"0 -960 960 960\">\n",
              "    <path d=\"M120-120v-720h720v720H120Zm60-500h600v-160H180v160Zm220 220h160v-160H400v160Zm0 220h160v-160H400v160ZM180-400h160v-160H180v160Zm440 0h160v-160H620v160ZM180-180h160v-160H180v160Zm440 0h160v-160H620v160Z\"/>\n",
              "  </svg>\n",
              "    </button>\n",
              "\n",
              "  <style>\n",
              "    .colab-df-container {\n",
              "      display:flex;\n",
              "      gap: 12px;\n",
              "    }\n",
              "\n",
              "    .colab-df-convert {\n",
              "      background-color: #E8F0FE;\n",
              "      border: none;\n",
              "      border-radius: 50%;\n",
              "      cursor: pointer;\n",
              "      display: none;\n",
              "      fill: #1967D2;\n",
              "      height: 32px;\n",
              "      padding: 0 0 0 0;\n",
              "      width: 32px;\n",
              "    }\n",
              "\n",
              "    .colab-df-convert:hover {\n",
              "      background-color: #E2EBFA;\n",
              "      box-shadow: 0px 1px 2px rgba(60, 64, 67, 0.3), 0px 1px 3px 1px rgba(60, 64, 67, 0.15);\n",
              "      fill: #174EA6;\n",
              "    }\n",
              "\n",
              "    .colab-df-buttons div {\n",
              "      margin-bottom: 4px;\n",
              "    }\n",
              "\n",
              "    [theme=dark] .colab-df-convert {\n",
              "      background-color: #3B4455;\n",
              "      fill: #D2E3FC;\n",
              "    }\n",
              "\n",
              "    [theme=dark] .colab-df-convert:hover {\n",
              "      background-color: #434B5C;\n",
              "      box-shadow: 0px 1px 3px 1px rgba(0, 0, 0, 0.15);\n",
              "      filter: drop-shadow(0px 1px 2px rgba(0, 0, 0, 0.3));\n",
              "      fill: #FFFFFF;\n",
              "    }\n",
              "  </style>\n",
              "\n",
              "    <script>\n",
              "      const buttonEl =\n",
              "        document.querySelector('#df-591b601a-1073-4184-857c-454c1936674c button.colab-df-convert');\n",
              "      buttonEl.style.display =\n",
              "        google.colab.kernel.accessAllowed ? 'block' : 'none';\n",
              "\n",
              "      async function convertToInteractive(key) {\n",
              "        const element = document.querySelector('#df-591b601a-1073-4184-857c-454c1936674c');\n",
              "        const dataTable =\n",
              "          await google.colab.kernel.invokeFunction('convertToInteractive',\n",
              "                                                    [key], {});\n",
              "        if (!dataTable) return;\n",
              "\n",
              "        const docLinkHtml = 'Like what you see? Visit the ' +\n",
              "          '<a target=\"_blank\" href=https://colab.research.google.com/notebooks/data_table.ipynb>data table notebook</a>'\n",
              "          + ' to learn more about interactive tables.';\n",
              "        element.innerHTML = '';\n",
              "        dataTable['output_type'] = 'display_data';\n",
              "        await google.colab.output.renderOutput(dataTable, element);\n",
              "        const docLink = document.createElement('div');\n",
              "        docLink.innerHTML = docLinkHtml;\n",
              "        element.appendChild(docLink);\n",
              "      }\n",
              "    </script>\n",
              "  </div>\n",
              "\n",
              "\n",
              "<div id=\"df-a91de18a-9fa6-4cea-8e92-2787bdf4372d\">\n",
              "  <button class=\"colab-df-quickchart\" onclick=\"quickchart('df-a91de18a-9fa6-4cea-8e92-2787bdf4372d')\"\n",
              "            title=\"Suggest charts\"\n",
              "            style=\"display:none;\">\n",
              "\n",
              "<svg xmlns=\"http://www.w3.org/2000/svg\" height=\"24px\"viewBox=\"0 0 24 24\"\n",
              "     width=\"24px\">\n",
              "    <g>\n",
              "        <path d=\"M19 3H5c-1.1 0-2 .9-2 2v14c0 1.1.9 2 2 2h14c1.1 0 2-.9 2-2V5c0-1.1-.9-2-2-2zM9 17H7v-7h2v7zm4 0h-2V7h2v10zm4 0h-2v-4h2v4z\"/>\n",
              "    </g>\n",
              "</svg>\n",
              "  </button>\n",
              "\n",
              "<style>\n",
              "  .colab-df-quickchart {\n",
              "      --bg-color: #E8F0FE;\n",
              "      --fill-color: #1967D2;\n",
              "      --hover-bg-color: #E2EBFA;\n",
              "      --hover-fill-color: #174EA6;\n",
              "      --disabled-fill-color: #AAA;\n",
              "      --disabled-bg-color: #DDD;\n",
              "  }\n",
              "\n",
              "  [theme=dark] .colab-df-quickchart {\n",
              "      --bg-color: #3B4455;\n",
              "      --fill-color: #D2E3FC;\n",
              "      --hover-bg-color: #434B5C;\n",
              "      --hover-fill-color: #FFFFFF;\n",
              "      --disabled-bg-color: #3B4455;\n",
              "      --disabled-fill-color: #666;\n",
              "  }\n",
              "\n",
              "  .colab-df-quickchart {\n",
              "    background-color: var(--bg-color);\n",
              "    border: none;\n",
              "    border-radius: 50%;\n",
              "    cursor: pointer;\n",
              "    display: none;\n",
              "    fill: var(--fill-color);\n",
              "    height: 32px;\n",
              "    padding: 0;\n",
              "    width: 32px;\n",
              "  }\n",
              "\n",
              "  .colab-df-quickchart:hover {\n",
              "    background-color: var(--hover-bg-color);\n",
              "    box-shadow: 0 1px 2px rgba(60, 64, 67, 0.3), 0 1px 3px 1px rgba(60, 64, 67, 0.15);\n",
              "    fill: var(--button-hover-fill-color);\n",
              "  }\n",
              "\n",
              "  .colab-df-quickchart-complete:disabled,\n",
              "  .colab-df-quickchart-complete:disabled:hover {\n",
              "    background-color: var(--disabled-bg-color);\n",
              "    fill: var(--disabled-fill-color);\n",
              "    box-shadow: none;\n",
              "  }\n",
              "\n",
              "  .colab-df-spinner {\n",
              "    border: 2px solid var(--fill-color);\n",
              "    border-color: transparent;\n",
              "    border-bottom-color: var(--fill-color);\n",
              "    animation:\n",
              "      spin 1s steps(1) infinite;\n",
              "  }\n",
              "\n",
              "  @keyframes spin {\n",
              "    0% {\n",
              "      border-color: transparent;\n",
              "      border-bottom-color: var(--fill-color);\n",
              "      border-left-color: var(--fill-color);\n",
              "    }\n",
              "    20% {\n",
              "      border-color: transparent;\n",
              "      border-left-color: var(--fill-color);\n",
              "      border-top-color: var(--fill-color);\n",
              "    }\n",
              "    30% {\n",
              "      border-color: transparent;\n",
              "      border-left-color: var(--fill-color);\n",
              "      border-top-color: var(--fill-color);\n",
              "      border-right-color: var(--fill-color);\n",
              "    }\n",
              "    40% {\n",
              "      border-color: transparent;\n",
              "      border-right-color: var(--fill-color);\n",
              "      border-top-color: var(--fill-color);\n",
              "    }\n",
              "    60% {\n",
              "      border-color: transparent;\n",
              "      border-right-color: var(--fill-color);\n",
              "    }\n",
              "    80% {\n",
              "      border-color: transparent;\n",
              "      border-right-color: var(--fill-color);\n",
              "      border-bottom-color: var(--fill-color);\n",
              "    }\n",
              "    90% {\n",
              "      border-color: transparent;\n",
              "      border-bottom-color: var(--fill-color);\n",
              "    }\n",
              "  }\n",
              "</style>\n",
              "\n",
              "  <script>\n",
              "    async function quickchart(key) {\n",
              "      const quickchartButtonEl =\n",
              "        document.querySelector('#' + key + ' button');\n",
              "      quickchartButtonEl.disabled = true;  // To prevent multiple clicks.\n",
              "      quickchartButtonEl.classList.add('colab-df-spinner');\n",
              "      try {\n",
              "        const charts = await google.colab.kernel.invokeFunction(\n",
              "            'suggestCharts', [key], {});\n",
              "      } catch (error) {\n",
              "        console.error('Error during call to suggestCharts:', error);\n",
              "      }\n",
              "      quickchartButtonEl.classList.remove('colab-df-spinner');\n",
              "      quickchartButtonEl.classList.add('colab-df-quickchart-complete');\n",
              "    }\n",
              "    (() => {\n",
              "      let quickchartButtonEl =\n",
              "        document.querySelector('#df-a91de18a-9fa6-4cea-8e92-2787bdf4372d button');\n",
              "      quickchartButtonEl.style.display =\n",
              "        google.colab.kernel.accessAllowed ? 'block' : 'none';\n",
              "    })();\n",
              "  </script>\n",
              "</div>\n",
              "\n",
              "    </div>\n",
              "  </div>\n"
            ],
            "application/vnd.google.colaboratory.intrinsic+json": {
              "type": "dataframe",
              "variable_name": "train_set"
            }
          },
          "metadata": {},
          "execution_count": 45
        }
      ],
      "source": [
        "from sklearn.preprocessing import OneHotEncoder\n",
        "import numpy as np\n",
        "\n",
        "ohe = OneHotEncoder(sparse = False) # Instanciate encoder: sparse=False => returns a numpy array (as opposed to a sparse matrix)\n",
        "\n",
        "ohe.fit(train_set[['type']]) # Fit encoder\n",
        "type_encoded = ohe.transform(train_set[['type']]) # Encode type\n",
        "train_set[ohe.categories_[0]] = type_encoded\n",
        "\n",
        "train_set.head()"
      ]
    },
    {
      "cell_type": "markdown",
      "id": "6d271957",
      "metadata": {
        "id": "6d271957"
      },
      "source": [
        "#### One-Hot-Encoding vs Dummy Encoding\n",
        "* One-Hot-Encoder creates one column per category\n",
        "* Dummy encoder creates one column per category minus one (the last one is inferred from the others)"
      ]
    },
    {
      "cell_type": "markdown",
      "id": "cd195ea3",
      "metadata": {
        "id": "cd195ea3"
      },
      "source": [
        "#### One-Hot-Encoding  (Sklearn default)\n",
        "<span style=\"color:blue\">**Pros**</span>\n",
        "* All columns preserved\n",
        "\n",
        "<span style=\"color:red\">**Cons**</span>\n",
        "* Can create colinearity between variables in linear models without regularization"
      ]
    },
    {
      "cell_type": "markdown",
      "id": "44784114",
      "metadata": {
        "id": "44784114"
      },
      "source": [
        "#### Dummy Encoding\n",
        "<span style=\"color:blue\">**Pros**</span>\n",
        "* No colinearity\n",
        "* Dimensionality of data is reduced\n",
        "\n",
        "<span style=\"color:red\">**Cons**</span>\n",
        "* Loose some information"
      ]
    },
    {
      "cell_type": "markdown",
      "id": "be21cea0",
      "metadata": {
        "id": "be21cea0"
      },
      "source": [
        "## Dummy Encoding in `sklearn`\n",
        "\n",
        "Dummy encoding can easily be done in `sklearn` simply by droping one category. For instance:\n",
        "\n",
        "<code>ohe = OneHotEncoder(sparse = False, drop=['Others'])</code>"
      ]
    },
    {
      "cell_type": "markdown",
      "id": "72165530",
      "metadata": {
        "id": "72165530"
      },
      "source": [
        "🚨 The `categories_` property of the encoder still retains all of the original names: you need to manually adapt it if you want to use the column names"
      ]
    },
    {
      "cell_type": "markdown",
      "id": "966be45e",
      "metadata": {
        "id": "966be45e"
      },
      "source": [
        "# Modelling"
      ]
    },
    {
      "cell_type": "markdown",
      "id": "83353197",
      "metadata": {
        "id": "83353197"
      },
      "source": [
        "### linear_model module\n",
        "* <code>linear_model</code> is a module\n",
        "* <code>LinearRegression</code> is a class\n",
        "👉 <a href=\"https://scikit-learn.org/stable/modules/classes.html#module-sklearn.linear_model\">Sklearn <code>linear_model</code> documentation</a>"
      ]
    },
    {
      "cell_type": "markdown",
      "id": "4c4505da",
      "metadata": {
        "id": "4c4505da"
      },
      "source": [
        "***Ordinary Least Square (OLS) regression [a reminder]*** <br><br>\n",
        "For ordinary least square, we can define our prediction as:\n",
        "\n",
        "$\\hat{y} = (\\beta_1 X_1 + \\beta_2 X_2 + ... + \\beta_n X_n - \\beta_0)$ <br><br>\n",
        "\n",
        "where $\\beta_i$ is a linear coefficient to the function and $\\beta_0$ is the intercept."
      ]
    },
    {
      "cell_type": "markdown",
      "id": "0292e95a",
      "metadata": {
        "id": "0292e95a"
      },
      "source": [
        "We can rewrite this more simply using matrix notation:\n",
        "\n",
        "$\\hat{y} = \\beta X$ <br><br>\n",
        "Where $X$ is the feature matrix (multivariate regression) and $\\beta$ is the matrix of coefficients. Note that a constant (<code>1</code>) is added to the feature matrix ($X_{0}$) to account for the intercept ($\\beta_{0}$)."
      ]
    },
    {
      "cell_type": "markdown",
      "id": "b8121287",
      "metadata": {
        "id": "b8121287"
      },
      "source": [
        "The goal is to find the $\\beta$ that minimizes the **residual sum of square** between our label ($y$) and $\\hat{y}$:<br><br>\n",
        "$$\\underset{\\beta}{\\mathrm{argmin}} \\sum_{i=1}^{n} \\left(y_{i} - \\hat{y}_{i} \\right)^2$$ <br><br>\n",
        "\n"
      ]
    },
    {
      "cell_type": "markdown",
      "id": "2b40e7cb",
      "metadata": {
        "id": "2b40e7cb"
      },
      "source": [
        "### Modelling rspm vs other variables"
      ]
    },
    {
      "cell_type": "code",
      "execution_count": 46,
      "id": "80c3b9ad",
      "metadata": {
        "colab": {
          "base_uri": "https://localhost:8080/",
          "height": 75
        },
        "id": "80c3b9ad",
        "outputId": "1707c46c-0bb3-423c-fd84-c7b3015741bf"
      },
      "outputs": [
        {
          "output_type": "execute_result",
          "data": {
            "text/plain": [
              "LinearRegression()"
            ],
            "text/html": [
              "<style>#sk-container-id-4 {color: black;}#sk-container-id-4 pre{padding: 0;}#sk-container-id-4 div.sk-toggleable {background-color: white;}#sk-container-id-4 label.sk-toggleable__label {cursor: pointer;display: block;width: 100%;margin-bottom: 0;padding: 0.3em;box-sizing: border-box;text-align: center;}#sk-container-id-4 label.sk-toggleable__label-arrow:before {content: \"▸\";float: left;margin-right: 0.25em;color: #696969;}#sk-container-id-4 label.sk-toggleable__label-arrow:hover:before {color: black;}#sk-container-id-4 div.sk-estimator:hover label.sk-toggleable__label-arrow:before {color: black;}#sk-container-id-4 div.sk-toggleable__content {max-height: 0;max-width: 0;overflow: hidden;text-align: left;background-color: #f0f8ff;}#sk-container-id-4 div.sk-toggleable__content pre {margin: 0.2em;color: black;border-radius: 0.25em;background-color: #f0f8ff;}#sk-container-id-4 input.sk-toggleable__control:checked~div.sk-toggleable__content {max-height: 200px;max-width: 100%;overflow: auto;}#sk-container-id-4 input.sk-toggleable__control:checked~label.sk-toggleable__label-arrow:before {content: \"▾\";}#sk-container-id-4 div.sk-estimator input.sk-toggleable__control:checked~label.sk-toggleable__label {background-color: #d4ebff;}#sk-container-id-4 div.sk-label input.sk-toggleable__control:checked~label.sk-toggleable__label {background-color: #d4ebff;}#sk-container-id-4 input.sk-hidden--visually {border: 0;clip: rect(1px 1px 1px 1px);clip: rect(1px, 1px, 1px, 1px);height: 1px;margin: -1px;overflow: hidden;padding: 0;position: absolute;width: 1px;}#sk-container-id-4 div.sk-estimator {font-family: monospace;background-color: #f0f8ff;border: 1px dotted black;border-radius: 0.25em;box-sizing: border-box;margin-bottom: 0.5em;}#sk-container-id-4 div.sk-estimator:hover {background-color: #d4ebff;}#sk-container-id-4 div.sk-parallel-item::after {content: \"\";width: 100%;border-bottom: 1px solid gray;flex-grow: 1;}#sk-container-id-4 div.sk-label:hover label.sk-toggleable__label {background-color: #d4ebff;}#sk-container-id-4 div.sk-serial::before {content: \"\";position: absolute;border-left: 1px solid gray;box-sizing: border-box;top: 0;bottom: 0;left: 50%;z-index: 0;}#sk-container-id-4 div.sk-serial {display: flex;flex-direction: column;align-items: center;background-color: white;padding-right: 0.2em;padding-left: 0.2em;position: relative;}#sk-container-id-4 div.sk-item {position: relative;z-index: 1;}#sk-container-id-4 div.sk-parallel {display: flex;align-items: stretch;justify-content: center;background-color: white;position: relative;}#sk-container-id-4 div.sk-item::before, #sk-container-id-4 div.sk-parallel-item::before {content: \"\";position: absolute;border-left: 1px solid gray;box-sizing: border-box;top: 0;bottom: 0;left: 50%;z-index: -1;}#sk-container-id-4 div.sk-parallel-item {display: flex;flex-direction: column;z-index: 1;position: relative;background-color: white;}#sk-container-id-4 div.sk-parallel-item:first-child::after {align-self: flex-end;width: 50%;}#sk-container-id-4 div.sk-parallel-item:last-child::after {align-self: flex-start;width: 50%;}#sk-container-id-4 div.sk-parallel-item:only-child::after {width: 0;}#sk-container-id-4 div.sk-dashed-wrapped {border: 1px dashed gray;margin: 0 0.4em 0.5em 0.4em;box-sizing: border-box;padding-bottom: 0.4em;background-color: white;}#sk-container-id-4 div.sk-label label {font-family: monospace;font-weight: bold;display: inline-block;line-height: 1.2em;}#sk-container-id-4 div.sk-label-container {text-align: center;}#sk-container-id-4 div.sk-container {/* jupyter's `normalize.less` sets `[hidden] { display: none; }` but bootstrap.min.css set `[hidden] { display: none !important; }` so we also need the `!important` here to be able to override the default hidden behavior on the sphinx rendered scikit-learn.org. See: https://github.com/scikit-learn/scikit-learn/issues/21755 */display: inline-block !important;position: relative;}#sk-container-id-4 div.sk-text-repr-fallback {display: none;}</style><div id=\"sk-container-id-4\" class=\"sk-top-container\"><div class=\"sk-text-repr-fallback\"><pre>LinearRegression()</pre><b>In a Jupyter environment, please rerun this cell to show the HTML representation or trust the notebook. <br />On GitHub, the HTML representation is unable to render, please try loading this page with nbviewer.org.</b></div><div class=\"sk-container\" hidden><div class=\"sk-item\"><div class=\"sk-estimator sk-toggleable\"><input class=\"sk-toggleable__control sk-hidden--visually\" id=\"sk-estimator-id-4\" type=\"checkbox\" checked><label for=\"sk-estimator-id-4\" class=\"sk-toggleable__label sk-toggleable__label-arrow\">LinearRegression</label><div class=\"sk-toggleable__content\"><pre>LinearRegression()</pre></div></div></div></div></div>"
            ]
          },
          "metadata": {},
          "execution_count": 46
        }
      ],
      "source": [
        "from sklearn.linear_model import LinearRegression\n",
        "import numpy as np\n",
        "\n",
        "model = LinearRegression()\n",
        "model.fit(X_train, y_train)"
      ]
    },
    {
      "cell_type": "code",
      "execution_count": 47,
      "id": "b1926c70",
      "metadata": {
        "colab": {
          "base_uri": "https://localhost:8080/"
        },
        "id": "b1926c70",
        "outputId": "6984be99-5008-43db-cd8d-fa144c985efc"
      },
      "outputs": [
        {
          "output_type": "execute_result",
          "data": {
            "text/plain": [
              "array([104.85570956,  97.57369773,  82.39743658, ..., 102.85471463,\n",
              "       109.4411645 ,  98.75130041])"
            ]
          },
          "metadata": {},
          "execution_count": 47
        }
      ],
      "source": [
        "# predicting our train_set back!\n",
        "\n",
        "y_pred = model.predict(X_train)\n",
        "\n",
        "y_pred"
      ]
    },
    {
      "cell_type": "markdown",
      "id": "1b5f814b",
      "metadata": {
        "id": "1b5f814b"
      },
      "source": [
        "### Testing our work with K-fold cross validation\n",
        "\n",
        "* K-fold cross validation is typically used on the **training set** to guide our choices of data preparation and model parameters (using the test set would violate the philosophy of testing on unseen data)"
      ]
    },
    {
      "cell_type": "markdown",
      "id": "dcf058d2",
      "metadata": {
        "id": "dcf058d2"
      },
      "source": [
        "* The dataset is split into K number of folds"
      ]
    },
    {
      "cell_type": "markdown",
      "id": "6405ee09",
      "metadata": {
        "id": "6405ee09"
      },
      "source": [
        "* For each split, a sub model is trained and scored"
      ]
    },
    {
      "cell_type": "markdown",
      "id": "13053aaa",
      "metadata": {
        "id": "13053aaa"
      },
      "source": [
        "* The average score of all sub models is the **cross-validated** score of the model"
      ]
    },
    {
      "cell_type": "markdown",
      "id": "9aae7ff3",
      "metadata": {
        "id": "9aae7ff3"
      },
      "source": [
        "### Choosing K\n",
        "* Choosing K is a tradeoff between trustworthy performance evaluation and computational expense\n",
        "* More K-folds --&gt; more submodels to average scores from --&gt; more representative score --&gt; more computational time\n"
      ]
    },
    {
      "cell_type": "markdown",
      "id": "31c52f3c",
      "metadata": {
        "id": "31c52f3c"
      },
      "source": [
        "\n",
        "👍 Rule of thumb: K = 5 to 10"
      ]
    },
    {
      "cell_type": "markdown",
      "id": "21437073",
      "metadata": {
        "id": "21437073"
      },
      "source": [
        "### 💻 <code>K-fold cross validation</code>"
      ]
    },
    {
      "cell_type": "code",
      "execution_count": 48,
      "id": "bd323e85",
      "metadata": {
        "id": "bd323e85"
      },
      "outputs": [],
      "source": [
        "from sklearn.model_selection import cross_validate\n",
        "\n",
        "# Instanciate model\n",
        "model = LinearRegression()"
      ]
    },
    {
      "cell_type": "code",
      "execution_count": 49,
      "id": "6f50e6d9",
      "metadata": {
        "id": "6f50e6d9"
      },
      "outputs": [],
      "source": [
        "# 5-Fold Cross validate model\n",
        "cv_results = cross_validate(model, X_train, y_train, cv=5)"
      ]
    },
    {
      "cell_type": "code",
      "execution_count": 50,
      "id": "214b3660",
      "metadata": {
        "colab": {
          "base_uri": "https://localhost:8080/"
        },
        "id": "214b3660",
        "outputId": "134deea9-257b-442a-8906-ff98d2c096b4"
      },
      "outputs": [
        {
          "output_type": "execute_result",
          "data": {
            "text/plain": [
              "array([0.13378238, 0.1255764 , 0.12677445, 0.13350363, 0.13096527])"
            ]
          },
          "metadata": {},
          "execution_count": 50
        }
      ],
      "source": [
        "# Scores\n",
        "cv_results['test_score']"
      ]
    },
    {
      "cell_type": "code",
      "execution_count": 51,
      "id": "83c9242d",
      "metadata": {
        "colab": {
          "base_uri": "https://localhost:8080/"
        },
        "id": "83c9242d",
        "outputId": "257855fb-c65b-46b0-dafd-94be8faeb604"
      },
      "outputs": [
        {
          "output_type": "execute_result",
          "data": {
            "text/plain": [
              "0.13012042712607674"
            ]
          },
          "metadata": {},
          "execution_count": 51
        }
      ],
      "source": [
        "# Mean of scores\n",
        "cv_results['test_score'].mean()"
      ]
    },
    {
      "cell_type": "markdown",
      "id": "6dc8a661",
      "metadata": {
        "id": "6dc8a661"
      },
      "source": [
        "# Parametric vs Non-Parametric models\n",
        "\n",
        "\n",
        "We have seen that some models can be summarized by a set of parameters:\n"
      ]
    },
    {
      "cell_type": "markdown",
      "id": "ec1850e1",
      "metadata": {
        "id": "ec1850e1"
      },
      "source": [
        "***Ordinary Least Square (OLS) regression*** <br><br>\n",
        "\n",
        "$\\hat{y} = \\beta_1 X_1 + \\beta_2 X_2 + ... + \\beta_n X_n - \\beta_0$ <br><br>"
      ]
    },
    {
      "cell_type": "markdown",
      "id": "e7764868",
      "metadata": {
        "id": "e7764868"
      },
      "source": [
        "* If the parameters $\\beta$ of the functions are learned, these can be used to predict unknown samples"
      ]
    },
    {
      "cell_type": "markdown",
      "id": "598059e9",
      "metadata": {
        "id": "598059e9"
      },
      "source": [
        "* There are also non-parametric algorithm!"
      ]
    },
    {
      "cell_type": "markdown",
      "id": "14c9c222",
      "metadata": {
        "id": "14c9c222"
      },
      "source": [
        "# Suggested Resources"
      ]
    },
    {
      "cell_type": "markdown",
      "id": "e3de6dab",
      "metadata": {
        "id": "e3de6dab"
      },
      "source": [
        "## 📺 Videos\n",
        "\n",
        "*General videos about Python and its ecosystem (relates to your previous modules)*:\n",
        "* 📼 <a href=\"https://youtu.be/uteQkMvGnXk?list=PLZzjCZ3QdgQCcRIwQdd-_cJNAUgiEBB_n\">General Introduction</a>\n",
        "* 📼 <a href=\"https://youtu.be/jKZ3w1Hego4?list=PLZzjCZ3QdgQCcRIwQdd-_cJNAUgiEBB_n\">What are Data Science and Machine Learning?</a>\n",
        "* 📼 <a href=\"https://youtu.be/v9XwNlVuQe0?list=PLZzjCZ3QdgQCcRIwQdd-_cJNAUgiEBB_n\">Physics-driven vs Data-driven models</a>\n",
        "* 📼 <a href=\"https://youtu.be/am5uahXNwxU?list=PLZzjCZ3QdgQCcRIwQdd-_cJNAUgiEBB_n\">Jupyter Notebooks</a>\n",
        "* 📼 <a href=\"https://youtu.be/qZpmc_LQ55k?list=PLZzjCZ3QdgQCcRIwQdd-_cJNAUgiEBB_n\">Properties of Python</a>\n",
        "* 📼 <a href=\"https://youtu.be/l5ZUOMAv948?list=PLZzjCZ3QdgQCcRIwQdd-_cJNAUgiEBB_n\">The Art of Clean Code</a>\n",
        "* 📼 <a href=\"https://youtu.be/NLqkYpK0PsI?list=PLZzjCZ3QdgQCcRIwQdd-_cJNAUgiEBB_n\">Introduction to NumPy</a>\n",
        "* 📼 <a href=\"https://youtu.be/eSMb1Xe2svM?list=PLZzjCZ3QdgQCcRIwQdd-_cJNAUgiEBB_n\">Computation with NDArrays</a>\n",
        "* 📼 <a href=\"https://youtu.be/jox3od5OB4k?list=PLZzjCZ3QdgQCcRIwQdd-_cJNAUgiEBB_n\">Introduction to Pandas</a>\n",
        "* 📼 <a href=\"https://youtu.be/SQgrAdeZcLg?list=PLZzjCZ3QdgQCcRIwQdd-_cJNAUgiEBB_n\">Plotting Data with Matplotlib</a>\n",
        "* 📼 <a href=\"https://youtu.be/plyX3n7a0lM?list=PLZzjCZ3QdgQCcRIwQdd-_cJNAUgiEBB_n\">Linear Algebra notation</a>\n",
        "\n",
        "*Videos directly related to this lecture*:\n",
        "* 📼 <a href=\"https://youtu.be/YKRzY9oKwU8?list=PLZzjCZ3QdgQCcRIwQdd-_cJNAUgiEBB_n\">Data Preparation Overview</a>\n",
        "* 📼 <a href=\"https://youtu.be/aOAiJtNs-4Q?list=PLZzjCZ3QdgQCcRIwQdd-_cJNAUgiEBB_n\">Why Splitting data matters</a>\n",
        "* 📼 <a href=\"https://youtu.be/SieI_0PP5xM?list=PLZzjCZ3QdgQCcRIwQdd-_cJNAUgiEBB_n\">Feature Scaling</a>"
      ]
    },
    {
      "cell_type": "markdown",
      "id": "184da9b8",
      "metadata": {
        "id": "184da9b8"
      },
      "source": [
        "## 📚 Further Reading\n",
        "* 📖 <a href=\"https://www.kdnuggets.com/2019/07/check-quality-regression-model-python.html\">A deep dive into Linear regression in Scikit-Learn</a> by Tirthajyoti Sarkar\n",
        "* 📖 <a href=\"https://www.oreilly.com/library/view/hands-on-machine-learning/9781492032632/\">Hands-On Machine Learning with Scikit-Learn, Keras, and TensorFlow, 2nd Edition</a> by Aurélien Geron (chapters 1 and 4)\n",
        "* 📖 <a  href=\"https://www.ime.unicamp.br/~dias/Intoduction%20to%20Statistical%20Learning.pdf\">An introduction to statistical learning</a> by James et al (uses R, not Python)\n",
        "* 📖 <a href=\"https://pdfhost.io/pdf/331cead5-4dd6-455a-9d10-17d4e12df608/8a19e1bf-c7c2-4b4d-a671-457928e79bfa.pdf\">Andrew NG - Linear Models CS229 Notes</a>\n",
        "* 📖 <a href=\"https://www.mygreatlearning.com/blog/knn-algorithm-introduction/\">A good introduction to KNN</a> by Marina Chatterjee"
      ]
    }
  ],
  "metadata": {
    "kernelspec": {
      "display_name": "Python 3 (ipykernel)",
      "language": "python",
      "name": "python3"
    },
    "language_info": {
      "codemirror_mode": {
        "name": "ipython",
        "version": 3
      },
      "file_extension": ".py",
      "mimetype": "text/x-python",
      "name": "python",
      "nbconvert_exporter": "python",
      "pygments_lexer": "ipython3",
      "version": "3.8.12"
    },
    "colab": {
      "provenance": [],
      "include_colab_link": true
    }
  },
  "nbformat": 4,
  "nbformat_minor": 5
}